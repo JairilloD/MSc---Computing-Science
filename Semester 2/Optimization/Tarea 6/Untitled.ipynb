{
 "cells": [
  {
   "cell_type": "markdown",
   "id": "0c41f477-0caa-49e7-bb4d-a7453f45f9c9",
   "metadata": {},
   "source": [
    "# Tarea 6\n",
    "\n",
    "Jairo Saul Diaz Soto\n",
    "\n",
    "Dr. Joaquin Peña Acevedo\n",
    "\n",
    "Optimizacion I\n",
    "\n",
    "2024 / 04 / 14"
   ]
  },
  {
   "cell_type": "markdown",
   "id": "efaf9726-58c6-4471-aae0-6767873fd151",
   "metadata": {},
   "source": [
    "# Ejercicio 1: Gradiente conjugado lineal"
   ]
  },
  {
   "cell_type": "markdown",
   "id": "03cfe2a8-1d1f-4373-961d-ca51cd1acd3c",
   "metadata": {},
   "source": [
    "## Algoritmo"
   ]
  },
  {
   "cell_type": "code",
   "execution_count": 22,
   "id": "119af9ad-aedb-493b-93da-c432f0929c28",
   "metadata": {},
   "outputs": [],
   "source": [
    "%matplotlib inline\n",
    "import matplotlib.pyplot as plt\n",
    "import numpy as np"
   ]
  },
  {
   "cell_type": "code",
   "execution_count": 23,
   "id": "2fe974f6-3330-457e-b85c-0b0e2ea65987",
   "metadata": {},
   "outputs": [],
   "source": [
    "def grad_conj_lin(x0, A, b, NMax, tol):\n",
    "    x = np.copy(x0)\n",
    "    r = (A@x) - b\n",
    "    p = -np.copy(r)\n",
    "    for k in range(NMax):\n",
    "        r_norm = r@r\n",
    "        if np.sqrt(r_norm) < tol:\n",
    "            return x, r, k, True\n",
    "        alpha = (r_norm) / (p@A@p)\n",
    "        x += alpha*p\n",
    "        r1 = r + alpha*(A@p)\n",
    "        beta = (r1@r1) / (r_norm)\n",
    "        p = (beta*p) - r1\n",
    "        r = np.copy(r1)\n",
    "    return x, r, k, False"
   ]
  },
  {
   "cell_type": "markdown",
   "id": "a9f24b2d-3f2a-48f2-994e-b641679b8cfa",
   "metadata": {},
   "source": [
    "## Prueba del algortimo"
   ]
  },
  {
   "cell_type": "markdown",
   "id": "9e3d0726-3399-4ce5-b429-85e9d81e2130",
   "metadata": {},
   "source": [
    "### Sistema 1"
   ]
  },
  {
   "cell_type": "code",
   "execution_count": 24,
   "id": "759e9865-7d7d-4b04-b3fe-e0dce82c60e9",
   "metadata": {},
   "outputs": [
    {
     "data": {
      "text/plain": [
       "2.220446049250313e-16"
      ]
     },
     "execution_count": 24,
     "metadata": {},
     "output_type": "execute_result"
    }
   ],
   "source": [
    "eps_m = np.finfo(float).eps\n",
    "eps_m"
   ]
  },
  {
   "cell_type": "code",
   "execution_count": 45,
   "id": "4364e255-912e-4478-82bb-297ae750ae87",
   "metadata": {},
   "outputs": [
    {
     "name": "stdout",
     "output_type": "stream",
     "text": [
      "La dimension del sistema es:  10\n",
      "El numero de iteraciones en las que se resolvio el problema fue de:  1\n",
      "La solucion del sistema es:  [0.05 0.05 0.05 0.05] [0.05 0.05 0.05 0.05]\n",
      "La norma del residuo es:  0.0\n",
      "El estado de convergencia del algoritmo es:  True\n"
     ]
    }
   ],
   "source": [
    "n = 10\n",
    "A = (n * np.eye(n))+np.ones(n)\n",
    "b = np.ones(n)\n",
    "x0 = np.zeros(n)\n",
    "tol = np.sqrt(n) * pow(eps_m, 1.0/3.0)\n",
    "xk, rk, k, bres = grad_conj_lin(x0, A, b, n, tol)\n",
    "print('La dimension del sistema es: ',n)\n",
    "print('El numero de iteraciones en las que se resolvio el problema fue de: ',k)\n",
    "print('La solucion del sistema es: ',xk[:4], xk[-4:])\n",
    "print('La norma del residuo es: ', np.sqrt(rk@rk))\n",
    "print('El estado de convergencia del algoritmo es: ',bres)"
   ]
  },
  {
   "cell_type": "code",
   "execution_count": 46,
   "id": "45831581-1496-4d5e-90cb-a96abd48eb8d",
   "metadata": {},
   "outputs": [
    {
     "name": "stdout",
     "output_type": "stream",
     "text": [
      "La dimension del sistema es:  100\n",
      "El numero de iteraciones en las que se resolvio el problema fue de:  1\n",
      "La solucion del sistema es:  [0.005 0.005 0.005 0.005] [0.005 0.005 0.005 0.005]\n",
      "La norma del residuo es:  0.0\n",
      "El estado de convergencia del algoritmo es:  True\n"
     ]
    }
   ],
   "source": [
    "n = 100\n",
    "A = (n * np.eye(n))+np.ones(n)\n",
    "b = np.ones(n)\n",
    "x0 = np.zeros(n)\n",
    "tol = np.sqrt(n) * pow(eps_m, 1.0/3.0)\n",
    "xk, rk, k, bres = grad_conj_lin(x0, A, b, n, tol)\n",
    "print('La dimension del sistema es: ',n)\n",
    "print('El numero de iteraciones en las que se resolvio el problema fue de: ',k)\n",
    "print('La solucion del sistema es: ',xk[:4], xk[-4:])\n",
    "print('La norma del residuo es: ', np.sqrt(rk@rk))\n",
    "print('El estado de convergencia del algoritmo es: ',bres)"
   ]
  },
  {
   "cell_type": "code",
   "execution_count": 47,
   "id": "9a870b3e-c7fb-45b7-b910-adff831289d4",
   "metadata": {},
   "outputs": [
    {
     "name": "stdout",
     "output_type": "stream",
     "text": [
      "La dimension del sistema es:  1000\n",
      "El numero de iteraciones en las que se resolvio el problema fue de:  1\n",
      "La solucion del sistema es:  [0.0005 0.0005 0.0005 0.0005] [0.0005 0.0005 0.0005 0.0005]\n",
      "La norma del residuo es:  0.0\n",
      "El estado de convergencia del algoritmo es:  True\n"
     ]
    }
   ],
   "source": [
    "n = 1000\n",
    "A = (n * np.eye(n))+np.ones(n)\n",
    "b = np.ones(n)\n",
    "x0 = np.zeros(n)\n",
    "tol = np.sqrt(n) * pow(eps_m, 1.0/3.0)\n",
    "xk, rk, k, bres = grad_conj_lin(x0, A, b, n, tol)\n",
    "print('La dimension del sistema es: ',n)\n",
    "print('El numero de iteraciones en las que se resolvio el problema fue de: ',k)\n",
    "print('La solucion del sistema es: ',xk[:4], xk[-4:])\n",
    "print('La norma del residuo es: ', np.sqrt(rk@rk))\n",
    "print('El estado de convergencia del algoritmo es: ',bres)"
   ]
  },
  {
   "cell_type": "markdown",
   "id": "9736ce1f-e8e2-40c6-8b69-a6e412a1eace",
   "metadata": {},
   "source": [
    "### Sistema 2"
   ]
  },
  {
   "cell_type": "code",
   "execution_count": 48,
   "id": "1caa991c-a888-4af7-9090-dc377a33f034",
   "metadata": {},
   "outputs": [],
   "source": [
    "def sis2(n):\n",
    "    A = np.zeros((n,n))\n",
    "    for i in range(n):\n",
    "        for j in range(n):\n",
    "            A[i,j] = np.exp(-0.25 * ((i-j)**2))\n",
    "    return A"
   ]
  },
  {
   "cell_type": "code",
   "execution_count": 49,
   "id": "8c64bb58-8024-4b58-b0f1-383c8899814d",
   "metadata": {},
   "outputs": [
    {
     "name": "stdout",
     "output_type": "stream",
     "text": [
      "La dimension del sistema es:  10\n",
      "El numero de iteraciones en las que se resolvio el problema fue de:  5\n",
      "La solucion del sistema es:  [ 1.36909916 -1.16637682  1.60908281 -0.61339053] [-0.61339053  1.60908281 -1.16637682  1.36909916]\n",
      "La norma del residuo es:  4.4854049941340615e-12\n",
      "El estado de convergencia del algoritmo es:  True\n"
     ]
    }
   ],
   "source": [
    "n = 10\n",
    "A = sis2(n)\n",
    "b = np.ones(n)\n",
    "x0 = np.zeros(n)\n",
    "tol = np.sqrt(n) * pow(eps_m, 1.0/3.0)\n",
    "xk, rk, k, bres = grad_conj_lin(x0, A, b, n, tol)\n",
    "print('La dimension del sistema es: ',n)\n",
    "print('El numero de iteraciones en las que se resolvio el problema fue de: ',k)\n",
    "print('La solucion del sistema es: ',xk[:4], xk[-4:])\n",
    "print('La norma del residuo es: ', np.sqrt(rk@rk))\n",
    "print('El estado de convergencia del algoritmo es: ',bres)"
   ]
  },
  {
   "cell_type": "code",
   "execution_count": 50,
   "id": "1d4affd7-18f2-41bb-aeac-eb1059f69945",
   "metadata": {},
   "outputs": [
    {
     "name": "stdout",
     "output_type": "stream",
     "text": [
      "La dimension del sistema es:  100\n",
      "El numero de iteraciones en las que se resolvio el problema fue de:  99\n",
      "La solucion del sistema es:  [ 1.44636759 -1.41640607  2.11039933 -1.42491123] [-1.42503111  2.11048599 -1.41628122  1.44623937]\n",
      "La norma del residuo es:  0.00033973330230164476\n",
      "El estado de convergencia del algoritmo es:  False\n"
     ]
    }
   ],
   "source": [
    "n = 100\n",
    "A = sis2(n)\n",
    "b = np.ones(n)\n",
    "x0 = np.zeros(n)\n",
    "tol = np.sqrt(n) * pow(eps_m, 1.0/3.0)\n",
    "xk, rk, k, bres = grad_conj_lin(x0, A, b, n, tol)\n",
    "print('La dimension del sistema es: ',n)\n",
    "print('El numero de iteraciones en las que se resolvio el problema fue de: ',k)\n",
    "print('La solucion del sistema es: ',xk[:4], xk[-4:])\n",
    "print('La norma del residuo es: ', np.sqrt(rk@rk))\n",
    "print('El estado de convergencia del algoritmo es: ',bres)"
   ]
  },
  {
   "cell_type": "code",
   "execution_count": 51,
   "id": "f4d73d94-da5c-48ce-97d1-a6283398d5c1",
   "metadata": {},
   "outputs": [
    {
     "name": "stdout",
     "output_type": "stream",
     "text": [
      "La dimension del sistema es:  1000\n",
      "El numero de iteraciones en las que se resolvio el problema fue de:  262\n",
      "La solucion del sistema es:  [ 1.44628824 -1.41635954  2.1105181  -1.42507231] [-1.42507231  2.1105181  -1.41635954  1.44628824]\n",
      "La norma del residuo es:  0.00018766135263033627\n",
      "El estado de convergencia del algoritmo es:  True\n"
     ]
    }
   ],
   "source": [
    "n = 1000\n",
    "A = sis2(n)\n",
    "b = np.ones(n)\n",
    "x0 = np.zeros(n)\n",
    "tol = np.sqrt(n) * pow(eps_m, 1.0/3.0)\n",
    "xk, rk, k, bres = grad_conj_lin(x0, A, b, n, tol)\n",
    "print('La dimension del sistema es: ',n)\n",
    "print('El numero de iteraciones en las que se resolvio el problema fue de: ',k)\n",
    "print('La solucion del sistema es: ',xk[:4], xk[-4:])\n",
    "print('La norma del residuo es: ', np.sqrt(rk@rk))\n",
    "print('El estado de convergencia del algoritmo es: ',bres)"
   ]
  },
  {
   "cell_type": "markdown",
   "id": "c1f816dc-c754-4588-9c85-b0173711963c",
   "metadata": {},
   "source": [
    "# Ejercicio 2: Gradiente conjugado no lineal: Fletcher-Reeves"
   ]
  },
  {
   "cell_type": "markdown",
   "id": "e4197559-7a5f-4626-b3ca-7dc111c4dff0",
   "metadata": {},
   "source": [
    "## Algoritmo"
   ]
  },
  {
   "cell_type": "code",
   "execution_count": 52,
   "id": "1d3f6b29-02a2-447f-9f35-17d9947cf56d",
   "metadata": {},
   "outputs": [],
   "source": [
    "def cond_wolfe_bis(a0, xk, rho, f, grad, pk, c1, c2, NMax):\n",
    "    al = 0\n",
    "    ah = 0\n",
    "    a = a0\n",
    "    for i in range(NMax):\n",
    "        if f(xk + (a*pk)) > f(xk) + (c1*a*(grad(xk)@pk)):\n",
    "            ah = a\n",
    "            a = (ah + al) / 2.0\n",
    "        elif grad(xk + (a*pk))@pk <c2*(grad(xk)@pk):\n",
    "            al = a\n",
    "            if ah == 0:\n",
    "                a = 2*al\n",
    "            elif ah>0:\n",
    "                a = (ah + al) / 2.0\n",
    "            else:\n",
    "                return a\n",
    "    return a\n",
    "\n",
    "def cond_wolfe_bt(a0, xk, rho, f, grad, pk, c1, c2, NMax):\n",
    "    a = a0\n",
    "    for i in range(NMax):\n",
    "        if f(xk + (a*pk)) <= f(xk) + (c1*a*(grad(xk)@pk)):\n",
    "            if grad(xk + (a*pk))@pk >= c2*(grad(xk)@pk):\n",
    "                return a\n",
    "        a*=rho\n",
    "    return a"
   ]
  },
  {
   "cell_type": "code",
   "execution_count": 53,
   "id": "eb232745-c5c1-4b95-9d6f-ee68a2759397",
   "metadata": {},
   "outputs": [],
   "source": [
    "def grad_conj_nl_FR(fun, grad, x0, NMax, tau, c1, c2, rho, BTMax):\n",
    "    x = x0\n",
    "    g = grad(x)\n",
    "    d = -g\n",
    "    g_norm = g@g\n",
    "    n_r = 0\n",
    "    for k in range(NMax):\n",
    "        if np.sqrt(g_norm) < tol:\n",
    "            return x, g, k, True, n_r\n",
    "        alpha = cond_wolfe_bt(1.0, x, rho, fun, grad, d, c1, c2, BTMax)\n",
    "        x += alpha*d\n",
    "        g1 = grad(x)\n",
    "        g1_norm = (g1@g1)\n",
    "        if g1@g < 0.2*g1_norm:\n",
    "            beta = g1_norm / g_norm\n",
    "        else:\n",
    "            n_r+=1\n",
    "            beta = 0\n",
    "        d = (beta*d) - g1\n",
    "        g = g1\n",
    "        g_norm = g1_norm\n",
    "    return x, g, k, False, n_r"
   ]
  },
  {
   "cell_type": "markdown",
   "id": "5a251d73-375b-4388-8871-5b7161145cc2",
   "metadata": {},
   "source": [
    "## Probando el algoritmo"
   ]
  },
  {
   "cell_type": "markdown",
   "id": "99c0491d-74c2-4b7f-8642-e3cb60d23d09",
   "metadata": {},
   "source": [
    "### Funcion cuadratica 1"
   ]
  },
  {
   "cell_type": "code",
   "execution_count": 60,
   "id": "1cc4af4f-f169-42ff-9651-f6d98976e0f2",
   "metadata": {},
   "outputs": [],
   "source": [
    "def fsis1(x):\n",
    "    n = len(x)\n",
    "    A = (n * np.eye(n))+np.ones(n)\n",
    "    b = np.ones(n)\n",
    "    return ((x@A@x)/2.0) - (b@x)\n",
    "\n",
    "def gradsis1(x):\n",
    "    n = len(x)\n",
    "    A = (n * np.eye(n))+np.ones(n)\n",
    "    b = np.ones(n)\n",
    "    return (A@x) - b"
   ]
  },
  {
   "cell_type": "code",
   "execution_count": 61,
   "id": "8c1c4a17-f1bd-4069-97a4-c50d8d1f4d0f",
   "metadata": {},
   "outputs": [],
   "source": [
    "NMax = 5000\n",
    "rho = 0.5\n",
    "c1 = 0.001\n",
    "c2 = 0.01\n",
    "BTMax = 500"
   ]
  },
  {
   "cell_type": "code",
   "execution_count": 62,
   "id": "eecb1831-4ffe-40b5-b03b-6c491ef44cbf",
   "metadata": {},
   "outputs": [
    {
     "name": "stdout",
     "output_type": "stream",
     "text": [
      "La dimension del sistema es:  10\n",
      "El numero de iteraciones en las que se resolvio el problema fue de:  12\n",
      "La solucion del sistema es:  [0.04999997 0.04999997 0.04999997 0.04999997] [0.04999997 0.04999997 0.04999997 0.04999997]\n",
      "La norma del residuo es:  2.0616529302059974e-06\n",
      "El estado de convergencia del algoritmo es:  True\n",
      "El numero de reinicios de la variable beta fue de:  0\n"
     ]
    }
   ],
   "source": [
    "n = 10\n",
    "x0 = np.zeros(n)\n",
    "tol = np.sqrt(n) * pow(eps_m, 1.0/3.0)\n",
    "xk, gk, k, bres, nr = grad_conj_nl_FR(fsis1, gradsis1, x0, NMax, tol, c1, c2, rho, BTMax)\n",
    "print('La dimension del sistema es: ',n)\n",
    "print('El numero de iteraciones en las que se resolvio el problema fue de: ',k)\n",
    "print('La solucion del sistema es: ',xk[:4], xk[-4:])\n",
    "print('La norma del residuo es: ', np.sqrt(gk@gk))\n",
    "print('El estado de convergencia del algoritmo es: ',bres)\n",
    "print('El numero de reinicios de la variable beta fue de: ', nr)"
   ]
  },
  {
   "cell_type": "code",
   "execution_count": 63,
   "id": "41df9753-3119-4bed-89b5-94c45a016cb8",
   "metadata": {},
   "outputs": [
    {
     "name": "stdout",
     "output_type": "stream",
     "text": [
      "La dimension del sistema es:  100\n",
      "El numero de iteraciones en las que se resolvio el problema fue de:  9\n",
      "La solucion del sistema es:  [0.00500003 0.00500003 0.00500003 0.00500003] [0.00500003 0.00500003 0.00500003 0.00500003]\n",
      "La norma del residuo es:  5.7236264690985187e-05\n",
      "El estado de convergencia del algoritmo es:  True\n",
      "El numero de reinicios de la variable beta fue de:  0\n"
     ]
    }
   ],
   "source": [
    "n = 100\n",
    "x0 = np.zeros(n)\n",
    "tol = np.sqrt(n) * pow(eps_m, 1.0/3.0)\n",
    "xk, gk, k, bres, nr = grad_conj_nl_FR(fsis1, gradsis1, x0, NMax, tol, c1, c2, rho, BTMax)\n",
    "print('La dimension del sistema es: ',n)\n",
    "print('El numero de iteraciones en las que se resolvio el problema fue de: ',k)\n",
    "print('La solucion del sistema es: ',xk[:4], xk[-4:])\n",
    "print('La norma del residuo es: ', np.sqrt(gk@gk))\n",
    "print('El estado de convergencia del algoritmo es: ',bres)\n",
    "print('El numero de reinicios de la variable beta fue de: ', nr)"
   ]
  },
  {
   "cell_type": "code",
   "execution_count": 64,
   "id": "b2ea8958-32e2-4faf-ac03-965dab15fd3b",
   "metadata": {},
   "outputs": [
    {
     "name": "stdout",
     "output_type": "stream",
     "text": [
      "La dimension del sistema es:  1000\n",
      "El numero de iteraciones en las que se resolvio el problema fue de:  21\n",
      "La solucion del sistema es:  [0.0005 0.0005 0.0005 0.0005] [0.0005 0.0005 0.0005 0.0005]\n",
      "La norma del residuo es:  7.836195530485346e-05\n",
      "El estado de convergencia del algoritmo es:  True\n",
      "El numero de reinicios de la variable beta fue de:  0\n"
     ]
    }
   ],
   "source": [
    "n = 1000\n",
    "x0 = np.zeros(n)\n",
    "tol = np.sqrt(n) * pow(eps_m, 1.0/3.0)\n",
    "xk, gk, k, bres, nr = grad_conj_nl_FR(fsis1, gradsis1, x0, NMax, tol, c1, c2, rho, BTMax)\n",
    "print('La dimension del sistema es: ',n)\n",
    "print('El numero de iteraciones en las que se resolvio el problema fue de: ',k)\n",
    "print('La solucion del sistema es: ',xk[:4], xk[-4:])\n",
    "print('La norma del residuo es: ', np.sqrt(gk@gk))\n",
    "print('El estado de convergencia del algoritmo es: ',bres)\n",
    "print('El numero de reinicios de la variable beta fue de: ', nr)"
   ]
  },
  {
   "cell_type": "markdown",
   "id": "518eb89e-fce5-48fd-b09c-020de56b4458",
   "metadata": {},
   "source": [
    "### Funcion cuadratica 2"
   ]
  },
  {
   "cell_type": "code",
   "execution_count": 68,
   "id": "019c6fce-6409-44ba-90e3-6959aef8ebae",
   "metadata": {},
   "outputs": [],
   "source": [
    "def fsis2(x):\n",
    "    n = len(x)\n",
    "    i, j = np.indices((n, n))\n",
    "    A = np.exp(-0.25 * ((i - j) ** 2))\n",
    "    b = np.ones(n)\n",
    "    return ((x@A@x)/2.0) - (b@x)\n",
    "\n",
    "def gradsis2(x):\n",
    "    n = len(x)\n",
    "    i, j = np.indices((n, n))\n",
    "    A = np.exp(-0.25 * ((i - j) ** 2))\n",
    "    b = np.ones(n)\n",
    "    return (A@x) - b"
   ]
  },
  {
   "cell_type": "code",
   "execution_count": 66,
   "id": "3518846f-f7c4-43eb-83d8-8cd8ce840abd",
   "metadata": {},
   "outputs": [
    {
     "name": "stdout",
     "output_type": "stream",
     "text": [
      "La dimension del sistema es:  10\n",
      "El numero de iteraciones en las que se resolvio el problema fue de:  2400\n",
      "La solucion del sistema es:  [ 1.36889317 -1.16585672  1.60838056 -0.61278393] [-0.61278393  1.60838056 -1.16585672  1.36889317]\n",
      "La norma del residuo es:  1.8830005464180873e-05\n",
      "El estado de convergencia del algoritmo es:  True\n",
      "El numero de reinicios de la variable beta fue de:  1197\n"
     ]
    }
   ],
   "source": [
    "n = 10\n",
    "x0 = np.zeros(n)\n",
    "tol = np.sqrt(n) * pow(eps_m, 1.0/3.0)\n",
    "xk, gk, k, bres, nr = grad_conj_nl_FR(fsis2, gradsis2, x0, NMax, tol, c1, c2, rho, BTMax)\n",
    "print('La dimension del sistema es: ',n)\n",
    "print('El numero de iteraciones en las que se resolvio el problema fue de: ',k)\n",
    "print('La solucion del sistema es: ',xk[:4], xk[-4:])\n",
    "print('La norma del residuo es: ', np.sqrt(gk@gk))\n",
    "print('El estado de convergencia del algoritmo es: ',bres)\n",
    "print('El numero de reinicios de la variable beta fue de: ', nr)"
   ]
  },
  {
   "cell_type": "code",
   "execution_count": 67,
   "id": "837f164b-90d7-46c5-a80b-46721cc2f365",
   "metadata": {},
   "outputs": [
    {
     "ename": "KeyboardInterrupt",
     "evalue": "",
     "output_type": "error",
     "traceback": [
      "\u001b[1;31m---------------------------------------------------------------------------\u001b[0m",
      "\u001b[1;31mKeyboardInterrupt\u001b[0m                         Traceback (most recent call last)",
      "Cell \u001b[1;32mIn[67], line 4\u001b[0m\n\u001b[0;32m      2\u001b[0m x0 \u001b[38;5;241m=\u001b[39m np\u001b[38;5;241m.\u001b[39mzeros(n)\n\u001b[0;32m      3\u001b[0m tol \u001b[38;5;241m=\u001b[39m np\u001b[38;5;241m.\u001b[39msqrt(n) \u001b[38;5;241m*\u001b[39m \u001b[38;5;28mpow\u001b[39m(eps_m, \u001b[38;5;241m1.0\u001b[39m\u001b[38;5;241m/\u001b[39m\u001b[38;5;241m3.0\u001b[39m)\n\u001b[1;32m----> 4\u001b[0m xk, gk, k, bres, nr \u001b[38;5;241m=\u001b[39m grad_conj_nl_FR(fsis2, gradsis2, x0, NMax, tol, c1, c2, rho, BTMax)\n\u001b[0;32m      5\u001b[0m \u001b[38;5;28mprint\u001b[39m(\u001b[38;5;124m'\u001b[39m\u001b[38;5;124mLa dimension del sistema es: \u001b[39m\u001b[38;5;124m'\u001b[39m,n)\n\u001b[0;32m      6\u001b[0m \u001b[38;5;28mprint\u001b[39m(\u001b[38;5;124m'\u001b[39m\u001b[38;5;124mEl numero de iteraciones en las que se resolvio el problema fue de: \u001b[39m\u001b[38;5;124m'\u001b[39m,k)\n",
      "Cell \u001b[1;32mIn[53], line 10\u001b[0m, in \u001b[0;36mgrad_conj_nl_FR\u001b[1;34m(fun, grad, x0, NMax, tau, c1, c2, rho, BTMax)\u001b[0m\n\u001b[0;32m      8\u001b[0m \u001b[38;5;28;01mif\u001b[39;00m np\u001b[38;5;241m.\u001b[39msqrt(g_norm) \u001b[38;5;241m<\u001b[39m tol:\n\u001b[0;32m      9\u001b[0m     \u001b[38;5;28;01mreturn\u001b[39;00m x, g, k, \u001b[38;5;28;01mTrue\u001b[39;00m, n_r\n\u001b[1;32m---> 10\u001b[0m alpha \u001b[38;5;241m=\u001b[39m cond_wolfe_bt(\u001b[38;5;241m1.0\u001b[39m, x, rho, fun, grad, d, c1, c2, BTMax)\n\u001b[0;32m     11\u001b[0m x \u001b[38;5;241m+\u001b[39m\u001b[38;5;241m=\u001b[39m alpha\u001b[38;5;241m*\u001b[39md\n\u001b[0;32m     12\u001b[0m g1 \u001b[38;5;241m=\u001b[39m grad(x)\n",
      "Cell \u001b[1;32mIn[52], line 23\u001b[0m, in \u001b[0;36mcond_wolfe_bt\u001b[1;34m(a0, xk, rho, f, grad, pk, c1, c2, NMax)\u001b[0m\n\u001b[0;32m     21\u001b[0m \u001b[38;5;28;01mfor\u001b[39;00m i \u001b[38;5;129;01min\u001b[39;00m \u001b[38;5;28mrange\u001b[39m(NMax):\n\u001b[0;32m     22\u001b[0m     \u001b[38;5;28;01mif\u001b[39;00m f(xk \u001b[38;5;241m+\u001b[39m (a\u001b[38;5;241m*\u001b[39mpk)) \u001b[38;5;241m<\u001b[39m\u001b[38;5;241m=\u001b[39m f(xk) \u001b[38;5;241m+\u001b[39m (c1\u001b[38;5;241m*\u001b[39ma\u001b[38;5;241m*\u001b[39m(grad(xk)\u001b[38;5;129m@pk\u001b[39m)):\n\u001b[1;32m---> 23\u001b[0m         \u001b[38;5;28;01mif\u001b[39;00m grad(xk \u001b[38;5;241m+\u001b[39m (a\u001b[38;5;241m*\u001b[39mpk))\u001b[38;5;129m@pk\u001b[39m \u001b[38;5;241m>\u001b[39m\u001b[38;5;241m=\u001b[39m c2\u001b[38;5;241m*\u001b[39m(grad(xk)\u001b[38;5;129m@pk\u001b[39m):\n\u001b[0;32m     24\u001b[0m             \u001b[38;5;28;01mreturn\u001b[39;00m a\n\u001b[0;32m     25\u001b[0m     a\u001b[38;5;241m*\u001b[39m\u001b[38;5;241m=\u001b[39mrho\n",
      "Cell \u001b[1;32mIn[65], line 10\u001b[0m, in \u001b[0;36mgradsis2\u001b[1;34m(x)\u001b[0m\n\u001b[0;32m      8\u001b[0m \u001b[38;5;28;01mdef\u001b[39;00m \u001b[38;5;21mgradsis2\u001b[39m(x):\n\u001b[0;32m      9\u001b[0m     n \u001b[38;5;241m=\u001b[39m \u001b[38;5;28mlen\u001b[39m(x)\n\u001b[1;32m---> 10\u001b[0m     A \u001b[38;5;241m=\u001b[39m sis2(n)\n\u001b[0;32m     11\u001b[0m     b \u001b[38;5;241m=\u001b[39m np\u001b[38;5;241m.\u001b[39mones(n)\n\u001b[0;32m     12\u001b[0m     \u001b[38;5;28;01mreturn\u001b[39;00m (A\u001b[38;5;129m@x\u001b[39m) \u001b[38;5;241m-\u001b[39m b\n",
      "Cell \u001b[1;32mIn[48], line 2\u001b[0m, in \u001b[0;36msis2\u001b[1;34m(n)\u001b[0m\n\u001b[0;32m      1\u001b[0m \u001b[38;5;28;01mdef\u001b[39;00m \u001b[38;5;21msis2\u001b[39m(n):\n\u001b[1;32m----> 2\u001b[0m     A \u001b[38;5;241m=\u001b[39m np\u001b[38;5;241m.\u001b[39mzeros((n,n))\n\u001b[0;32m      3\u001b[0m     \u001b[38;5;28;01mfor\u001b[39;00m i \u001b[38;5;129;01min\u001b[39;00m \u001b[38;5;28mrange\u001b[39m(n):\n\u001b[0;32m      4\u001b[0m         \u001b[38;5;28;01mfor\u001b[39;00m j \u001b[38;5;129;01min\u001b[39;00m \u001b[38;5;28mrange\u001b[39m(n):\n",
      "\u001b[1;31mKeyboardInterrupt\u001b[0m: "
     ]
    }
   ],
   "source": [
    "n = 100\n",
    "x0 = np.zeros(n)\n",
    "tol = np.sqrt(n) * pow(eps_m, 1.0/3.0)\n",
    "xk, gk, k, bres, nr = grad_conj_nl_FR(fsis2, gradsis2, x0, NMax, tol, c1, c2, rho, BTMax)\n",
    "print('La dimension del sistema es: ',n)\n",
    "print('El numero de iteraciones en las que se resolvio el problema fue de: ',k)\n",
    "print('La solucion del sistema es: ',xk[:4], xk[-4:])\n",
    "print('La norma del residuo es: ', np.sqrt(gk@gk))\n",
    "print('El estado de convergencia del algoritmo es: ',bres)\n",
    "print('El numero de reinicios de la variable beta fue de: ', nr)"
   ]
  },
  {
   "cell_type": "markdown",
   "id": "55cbbb83-7161-41ff-9e50-744a44d3d6dc",
   "metadata": {},
   "source": [
    "Lo corri en multiples ocaciones, sin alcanzar una convergencia, sin embargo, el tiempo en que se ejecuta es demasiado extensa, al hacer un ajuste de formato ya no me permitio ejecutar por el tiempo de nuevo la celda, sin embargo, no converge tras las 5000 iteraciones"
   ]
  },
  {
   "cell_type": "code",
   "execution_count": null,
   "id": "6a44c0fa-d80f-4994-a16f-25186362f50f",
   "metadata": {},
   "outputs": [],
   "source": [
    "n = 1000\n",
    "x0 = np.zeros(n)\n",
    "tol = np.sqrt(n) * pow(eps_m, 1.0/3.0)\n",
    "xk, gk, k, bres, nr = grad_conj_nl_FR(fsis2, gradsis2, x0, NMax, tol, c1, c2, rho, BTMax)\n",
    "print('La dimension del sistema es: ',n)\n",
    "print('El numero de iteraciones en las que se resolvio el problema fue de: ',k)\n",
    "print('La solucion del sistema es: ',xk[:4], xk[-4:])\n",
    "print('La norma del residuo es: ', np.sqrt(gk@gk))\n",
    "print('El estado de convergencia del algoritmo es: ',bres)\n",
    "print('El numero de reinicios de la variable beta fue de: ', nr)"
   ]
  },
  {
   "cell_type": "markdown",
   "id": "1b69cbe4-a02f-447f-8f44-771ca2c54ac0",
   "metadata": {},
   "source": [
    "De forma similar a lo anterior, no alcanza la convergencia, pero el tiempo de ejecucion es excesivo."
   ]
  },
  {
   "cell_type": "markdown",
   "id": "09079b6e-06c5-4202-9361-12b515ce7999",
   "metadata": {},
   "source": [
    "### Funcion de Beale"
   ]
  },
  {
   "cell_type": "code",
   "execution_count": 69,
   "id": "ee4ff795-28c2-42ee-8c61-dd9055a5044d",
   "metadata": {},
   "outputs": [],
   "source": [
    "def beale(x):\n",
    "    return (1.5 - x[0] + (x[0]*x[1]))**2 + (2.25 - x[0] + (x[0]*x[1]**2))**2 + (2.625 - x[0] + (x[0]*x[1]**3))**2\n",
    "    \n",
    "def beale_grad(x):\n",
    "    return np.array([ (2*(x[1] - 1) * (1.5 - x[0] + (x[0]*x[1]))) + (2*(x[1]**2 - 1)*(2.25 - x[0] + (x[0]*x[1]**2))) + (2*(x[1]**3 - 1)*(2.625 - x[0] + (x[0]*x[1]**3))), \n",
    "                    (2*x[0]*(1.5 - x[0] + (x[0]*x[1]))) + (4*(x[0]*x[1])*(2.25 - x[0] + (x[0]*x[1]**2))) + (6*(x[0]*x[1]**2)*(2.625 - x[0] + (x[0]*x[1]**3)))])"
   ]
  },
  {
   "cell_type": "code",
   "execution_count": 75,
   "id": "60387494-4813-41d6-bc3a-edc9c441ee39",
   "metadata": {},
   "outputs": [
    {
     "name": "stdout",
     "output_type": "stream",
     "text": [
      "La dimension del sistema es:  2\n",
      "El numero de iteraciones en las que se resolvio el problema fue de:  71\n",
      "La solucion del sistema es:  [3.00000384 0.50000096] [3.00000384 0.50000096]\n",
      "La norma del residuo es:  1.192967399298074e-06\n",
      "El estado de convergencia del algoritmo es:  True\n",
      "El numero de reinicios de la variable beta fue de:  11\n"
     ]
    }
   ],
   "source": [
    "x0 = np.asarray([2.0,3.0])\n",
    "n = len(x0)\n",
    "tol = np.sqrt(n) * pow(eps_m, 1.0/3.0)\n",
    "xk, gk, k, bres, nr = grad_conj_nl_FR(beale, beale_grad, x0, NMax, tol, c1, c2, rho, BTMax)\n",
    "print('La dimension del sistema es: ',n)\n",
    "print('El numero de iteraciones en las que se resolvio el problema fue de: ',k)\n",
    "print('La solucion del sistema es: ',xk[:4], xk[-4:])\n",
    "print('La norma del residuo es: ', np.sqrt(gk@gk))\n",
    "print('El estado de convergencia del algoritmo es: ',bres)\n",
    "print('El numero de reinicios de la variable beta fue de: ', nr)"
   ]
  },
  {
   "cell_type": "markdown",
   "id": "f3a28e95-b476-49d0-b3dd-2573c43136cb",
   "metadata": {},
   "source": [
    "### Funcion de Himmemblau"
   ]
  },
  {
   "cell_type": "code",
   "execution_count": 73,
   "id": "2e28c89c-6f86-43e5-ae86-e4126ac539cf",
   "metadata": {},
   "outputs": [],
   "source": [
    "## Funciones con sus Hessianas y sus Gradientes\n",
    "def himmelblau(x):\n",
    "    return ((x[0]**2) + x[1] - 11)**2 + (x[0] + (x[1]**2) - 7)**2\n",
    "\n",
    "def himmelblau_grad(x):\n",
    "    return np.array([(4*x[0]*((x[0]**2) + x[1] - 11)) + (2*(x[0] + (x[1]**2) - 7)),\n",
    "                     (2*((x[0]**2) + x[1] - 11)) + (4*x[1]*(x[0] + (x[1]**2) - 7))])"
   ]
  },
  {
   "cell_type": "code",
   "execution_count": 76,
   "id": "a611557a-d84c-4752-9b44-f0155c755824",
   "metadata": {},
   "outputs": [
    {
     "name": "stdout",
     "output_type": "stream",
     "text": [
      "La dimension del sistema es:  2\n",
      "El numero de iteraciones en las que se resolvio el problema fue de:  32\n",
      "La solucion del sistema es:  [ 3.58442837 -1.84812638] [ 3.58442837 -1.84812638]\n",
      "La norma del residuo es:  5.914206840263159e-06\n",
      "El estado de convergencia del algoritmo es:  True\n",
      "El numero de reinicios de la variable beta fue de:  6\n"
     ]
    }
   ],
   "source": [
    "x0 = np.array([2.0,4.0])\n",
    "n = len(x0)\n",
    "tol = np.sqrt(n) * pow(eps_m, 1.0/3.0)\n",
    "xk, gk, k, bres, nr = grad_conj_nl_FR(himmelblau, himmelblau_grad, x0, NMax, tol, c1, c2, rho, BTMax)\n",
    "print('La dimension del sistema es: ',n)\n",
    "print('El numero de iteraciones en las que se resolvio el problema fue de: ',k)\n",
    "print('La solucion del sistema es: ',xk[:4], xk[-4:])\n",
    "print('La norma del residuo es: ', np.sqrt(gk@gk))\n",
    "print('El estado de convergencia del algoritmo es: ',bres)\n",
    "print('El numero de reinicios de la variable beta fue de: ', nr)"
   ]
  },
  {
   "cell_type": "markdown",
   "id": "61cb1d82-d43f-49d8-9135-5f269e488b27",
   "metadata": {},
   "source": [
    "### Funcion de Rosenbrock"
   ]
  },
  {
   "cell_type": "code",
   "execution_count": 79,
   "id": "581a3df4-21f7-4bb0-ad59-6cbafc1239de",
   "metadata": {},
   "outputs": [],
   "source": [
    "from itertools import cycle"
   ]
  },
  {
   "cell_type": "code",
   "execution_count": 80,
   "id": "86c5252f-ff44-48b3-ade7-3b74932b4aa5",
   "metadata": {},
   "outputs": [],
   "source": [
    "def rosenbrock(x):\n",
    "    n = len(x)\n",
    "    res = 0\n",
    "    for k in range(n-1):\n",
    "        res += (100 * (x[k+1] - (x[k]**2))**2 ) + (1-x[k])**2\n",
    "    return res\n",
    "\n",
    "def rosenbrock_grad(x):\n",
    "    gradient = np.zeros_like(x)\n",
    "    n = len(x)\n",
    "    for i in range(n-1):\n",
    "        gradient[i] += -400 * x[i] * (x[i+1] - x[i]**2) - 2 * (1 - x[i])\n",
    "        gradient[i+1] += 200 * (x[i+1] - x[i]**2)\n",
    "    return gradient"
   ]
  },
  {
   "cell_type": "code",
   "execution_count": 81,
   "id": "5c1a4e8a-85ef-46ea-a532-798cf27cbfa9",
   "metadata": {},
   "outputs": [
    {
     "name": "stdout",
     "output_type": "stream",
     "text": [
      "La dimension del sistema es:  2\n",
      "El numero de iteraciones en las que se resolvio el problema fue de:  147\n",
      "La solucion del sistema es:  [1.00000186 1.00000373] [1.00000186 1.00000373]\n",
      "La norma del residuo es:  3.894485615223306e-06\n",
      "El estado de convergencia del algoritmo es:  True\n",
      "El numero de reinicios de la variable beta fue de:  23\n"
     ]
    }
   ],
   "source": [
    "n = 2\n",
    "cic = cycle([-1.2, 1.0])\n",
    "x0 = np.asarray([next(cic) for _ in range(n)])\n",
    "tol = np.sqrt(n) * pow(eps_m, 1.0/3.0)\n",
    "xk, gk, k, bres, nr = grad_conj_nl_FR(rosenbrock, rosenbrock_grad, x0, NMax, tol, c1, c2, rho, BTMax)\n",
    "print('La dimension del sistema es: ',n)\n",
    "print('El numero de iteraciones en las que se resolvio el problema fue de: ',k)\n",
    "print('La solucion del sistema es: ',xk[:4], xk[-4:])\n",
    "print('La norma del residuo es: ', np.sqrt(gk@gk))\n",
    "print('El estado de convergencia del algoritmo es: ',bres)\n",
    "print('El numero de reinicios de la variable beta fue de: ', nr)"
   ]
  },
  {
   "cell_type": "code",
   "execution_count": 82,
   "id": "12465288-44f4-4838-b543-955b4b288cbe",
   "metadata": {},
   "outputs": [
    {
     "name": "stdout",
     "output_type": "stream",
     "text": [
      "La dimension del sistema es:  20\n",
      "El numero de iteraciones en las que se resolvio el problema fue de:  614\n",
      "La solucion del sistema es:  [1. 1. 1. 1.] [1.00000177 1.00000355 1.00000713 1.00001429]\n",
      "La norma del residuo es:  1.5421519122042143e-05\n",
      "El estado de convergencia del algoritmo es:  True\n",
      "El numero de reinicios de la variable beta fue de:  165\n"
     ]
    }
   ],
   "source": [
    "n = 20\n",
    "cic = cycle([-1.2, 1.0])\n",
    "x0 = np.asarray([next(cic) for _ in range(n)])\n",
    "tol = np.sqrt(n) * pow(eps_m, 1.0/3.0)\n",
    "xk, gk, k, bres, nr = grad_conj_nl_FR(rosenbrock, rosenbrock_grad, x0, NMax, tol, c1, c2, rho, BTMax)\n",
    "print('La dimension del sistema es: ',n)\n",
    "print('El numero de iteraciones en las que se resolvio el problema fue de: ',k)\n",
    "print('La solucion del sistema es: ',xk[:4], xk[-4:])\n",
    "print('La norma del residuo es: ', np.sqrt(gk@gk))\n",
    "print('El estado de convergencia del algoritmo es: ',bres)\n",
    "print('El numero de reinicios de la variable beta fue de: ', nr)"
   ]
  },
  {
   "cell_type": "code",
   "execution_count": 83,
   "id": "79e9888c-970f-4fde-98f0-e0172011ab36",
   "metadata": {},
   "outputs": [
    {
     "name": "stdout",
     "output_type": "stream",
     "text": [
      "La dimension del sistema es:  40\n",
      "El numero de iteraciones en las que se resolvio el problema fue de:  791\n",
      "La solucion del sistema es:  [1.         0.99999999 1.         1.00000001] [0.99999676 0.99999349 0.99998693 0.9999738 ]\n",
      "La norma del residuo es:  3.264199127639392e-05\n",
      "El estado de convergencia del algoritmo es:  True\n",
      "El numero de reinicios de la variable beta fue de:  205\n"
     ]
    }
   ],
   "source": [
    "n = 40\n",
    "cic = cycle([-1.2, 1.0])\n",
    "x0 = np.asarray([next(cic) for _ in range(n)])\n",
    "tol = np.sqrt(n) * pow(eps_m, 1.0/3.0)\n",
    "xk, gk, k, bres, nr = grad_conj_nl_FR(rosenbrock, rosenbrock_grad, x0, NMax, tol, c1, c2, rho, BTMax)\n",
    "print('La dimension del sistema es: ',n)\n",
    "print('El numero de iteraciones en las que se resolvio el problema fue de: ',k)\n",
    "print('La solucion del sistema es: ',xk[:4], xk[-4:])\n",
    "print('La norma del residuo es: ', np.sqrt(gk@gk))\n",
    "print('El estado de convergencia del algoritmo es: ',bres)\n",
    "print('El numero de reinicios de la variable beta fue de: ', nr)"
   ]
  },
  {
   "cell_type": "markdown",
   "id": "ddc1d6ca-b169-40c3-b8c2-75e68e9c23f2",
   "metadata": {},
   "source": [
    "# Ejercicio 3: GC-NL FR/HS"
   ]
  },
  {
   "cell_type": "markdown",
   "id": "bc9e0246-a0df-466a-8a43-36e42f0f1c80",
   "metadata": {},
   "source": [
    "## Algoritmo"
   ]
  },
  {
   "cell_type": "code",
   "execution_count": 100,
   "id": "b37aa2df-4380-49a3-b0e2-36c0d07b2554",
   "metadata": {},
   "outputs": [],
   "source": [
    "def grad_conj_nl_FR_HS(fun, grad, x0, NMax, tau, c1, c2, rho, BTMax):\n",
    "    x = x0\n",
    "    g = grad(x)\n",
    "    d = -g\n",
    "    g_norm = g@g\n",
    "    n_r = 0\n",
    "    for k in range(NMax):\n",
    "        if np.sqrt(g_norm) < tol:\n",
    "            return x, g, k, True, n_r\n",
    "        alpha = cond_wolfe_bt(1.0, x, rho, fun, grad, d, c1, c2, BTMax)\n",
    "        x += alpha*d\n",
    "        g1 = grad(x)\n",
    "        g1_norm = (g1@g1)\n",
    "        if g1@g < 0.2*g1_norm:\n",
    "            yk = g1-g\n",
    "            beta = (g1 @ yk) / (d * yk)\n",
    "        else:\n",
    "            n_r+=1\n",
    "            beta = 0\n",
    "        d = (beta*d) - g1\n",
    "        g = g1\n",
    "        g_norm = g1_norm\n",
    "    return x, g, k, False, n_r"
   ]
  },
  {
   "cell_type": "markdown",
   "id": "039887f3-5e5d-4390-9c5f-32b3fef25d17",
   "metadata": {},
   "source": [
    "## Probando el algoritmo"
   ]
  },
  {
   "cell_type": "markdown",
   "id": "a43d5a86-a486-42ff-8252-0a5848aa2dc1",
   "metadata": {},
   "source": [
    "### Funcion cuadratica 1"
   ]
  },
  {
   "cell_type": "code",
   "execution_count": 86,
   "id": "6bfefb49-d205-4043-8a06-aff046b35dad",
   "metadata": {},
   "outputs": [],
   "source": [
    "NMax = 5000\n",
    "rho = 0.5\n",
    "c1 = 0.001\n",
    "c2 = 0.01\n",
    "BTMax = 500"
   ]
  },
  {
   "cell_type": "code",
   "execution_count": 88,
   "id": "89a21cee-0fb7-4575-9672-38c2da6f693f",
   "metadata": {},
   "outputs": [
    {
     "name": "stdout",
     "output_type": "stream",
     "text": [
      "La dimension del sistema es:  10\n",
      "El numero de iteraciones en las que se resolvio el problema fue de:  17\n",
      "La solucion del sistema es:  [0.05000019 0.05000019 0.05000019 0.05000019] [0.05000019 0.05000019 0.05000019 0.05000019]\n",
      "La norma del residuo es:  1.2063136256380039e-05\n",
      "El estado de convergencia del algoritmo es:  True\n",
      "El numero de reinicios de la variable beta fue de:  8\n"
     ]
    }
   ],
   "source": [
    "n = 10\n",
    "x0 = np.zeros(n)\n",
    "tol = np.sqrt(n) * pow(eps_m, 1.0/3.0)\n",
    "xk, gk, k, bres, nr = grad_conj_nl_FR_HS(fsis1, gradsis1, x0, NMax, tol, c1, c2, rho, BTMax)\n",
    "print('La dimension del sistema es: ',n)\n",
    "print('El numero de iteraciones en las que se resolvio el problema fue de: ',k)\n",
    "print('La solucion del sistema es: ',xk[:4], xk[-4:])\n",
    "print('La norma del residuo es: ', np.sqrt(gk@gk))\n",
    "print('El estado de convergencia del algoritmo es: ',bres)\n",
    "print('El numero de reinicios de la variable beta fue de: ', nr)"
   ]
  },
  {
   "cell_type": "code",
   "execution_count": 89,
   "id": "eb971577-1c15-46bb-a4c5-5e12a37aca58",
   "metadata": {},
   "outputs": [
    {
     "name": "stdout",
     "output_type": "stream",
     "text": [
      "La dimension del sistema es:  100\n",
      "El numero de iteraciones en las que se resolvio el problema fue de:  41\n",
      "La solucion del sistema es:  [0.00500003 0.00500003 0.00500003 0.00500003] [0.00500003 0.00500003 0.00500003 0.00500003]\n",
      "La norma del residuo es:  5.6568589261285496e-05\n",
      "El estado de convergencia del algoritmo es:  True\n",
      "El numero de reinicios de la variable beta fue de:  20\n"
     ]
    }
   ],
   "source": [
    "n = 100\n",
    "x0 = np.zeros(n)\n",
    "tol = np.sqrt(n) * pow(eps_m, 1.0/3.0)\n",
    "xk, gk, k, bres, nr = grad_conj_nl_FR_HS(fsis1, gradsis1, x0, NMax, tol, c1, c2, rho, BTMax)\n",
    "print('La dimension del sistema es: ',n)\n",
    "print('El numero de iteraciones en las que se resolvio el problema fue de: ',k)\n",
    "print('La solucion del sistema es: ',xk[:4], xk[-4:])\n",
    "print('La norma del residuo es: ', np.sqrt(gk@gk))\n",
    "print('El estado de convergencia del algoritmo es: ',bres)\n",
    "print('El numero de reinicios de la variable beta fue de: ', nr)"
   ]
  },
  {
   "cell_type": "code",
   "execution_count": 90,
   "id": "7f88abc6-b741-4905-b8d8-6916fb07b3b1",
   "metadata": {},
   "outputs": [
    {
     "name": "stdout",
     "output_type": "stream",
     "text": [
      "La dimension del sistema es:  1000\n",
      "El numero de iteraciones en las que se resolvio el problema fue de:  501\n",
      "La solucion del sistema es:  [0.0005 0.0005 0.0005 0.0005] [0.0005 0.0005 0.0005 0.0005]\n",
      "La norma del residuo es:  0.00018478701833668753\n",
      "El estado de convergencia del algoritmo es:  True\n",
      "El numero de reinicios de la variable beta fue de:  250\n"
     ]
    }
   ],
   "source": [
    "n = 1000\n",
    "x0 = np.zeros(n)\n",
    "tol = np.sqrt(n) * pow(eps_m, 1.0/3.0)\n",
    "xk, gk, k, bres, nr = grad_conj_nl_FR_HS(fsis1, gradsis1, x0, NMax, tol, c1, c2, rho, BTMax)\n",
    "print('La dimension del sistema es: ',n)\n",
    "print('El numero de iteraciones en las que se resolvio el problema fue de: ',k)\n",
    "print('La solucion del sistema es: ',xk[:4], xk[-4:])\n",
    "print('La norma del residuo es: ', np.sqrt(gk@gk))\n",
    "print('El estado de convergencia del algoritmo es: ',bres)\n",
    "print('El numero de reinicios de la variable beta fue de: ', nr)"
   ]
  },
  {
   "cell_type": "markdown",
   "id": "77b46625-16af-4878-b499-df4446bcaacf",
   "metadata": {},
   "source": [
    "### Funcion cuadratica 2"
   ]
  },
  {
   "cell_type": "code",
   "execution_count": 91,
   "id": "29e02c5d-7915-4c07-b44d-24c0f0c7a6c6",
   "metadata": {},
   "outputs": [],
   "source": [
    "def fsis2(x):\n",
    "    n = len(x)\n",
    "    i, j = np.indices((n, n))\n",
    "    A = np.exp(-0.25 * ((i - j) ** 2))\n",
    "    b = np.ones(n)\n",
    "    return ((x@A@x)/2.0) - (b@x)\n",
    "\n",
    "def gradsis2(x):\n",
    "    n = len(x)\n",
    "    i, j = np.indices((n, n))\n",
    "    A = np.exp(-0.25 * ((i - j) ** 2))\n",
    "    b = np.ones(n)\n",
    "    return (A@x) - b"
   ]
  },
  {
   "cell_type": "code",
   "execution_count": 94,
   "id": "f2fa33f1-0b68-442f-8d54-ed5dec9a7c2f",
   "metadata": {},
   "outputs": [
    {
     "name": "stdout",
     "output_type": "stream",
     "text": [
      "La dimension del sistema es:  10\n",
      "El numero de iteraciones en las que se resolvio el problema fue de:  2461\n",
      "La solucion del sistema es:  [ 1.36889566 -1.16586292  1.60838905 -0.61279115] [-0.61279115  1.60838905 -1.16586292  1.36889566]\n",
      "La norma del residuo es:  1.8951829887983758e-05\n",
      "El estado de convergencia del algoritmo es:  True\n",
      "El numero de reinicios de la variable beta fue de:  1230\n"
     ]
    }
   ],
   "source": [
    "n = 10\n",
    "x0 = np.zeros(n)\n",
    "tol = np.sqrt(n) * pow(eps_m, 1.0/3.0)\n",
    "xk, gk, k, bres, nr = grad_conj_nl_FR_HS(fsis2, gradsis2, x0, NMax, tol, c1, c2, rho, BTMax)\n",
    "print('La dimension del sistema es: ',n)\n",
    "print('El numero de iteraciones en las que se resolvio el problema fue de: ',k)\n",
    "print('La solucion del sistema es: ',xk[:4], xk[-4:])\n",
    "print('La norma del residuo es: ', np.sqrt(gk@gk))\n",
    "print('El estado de convergencia del algoritmo es: ',bres)\n",
    "print('El numero de reinicios de la variable beta fue de: ', nr)"
   ]
  },
  {
   "cell_type": "code",
   "execution_count": 95,
   "id": "718d59e8-7a6b-4df7-8e37-81f1421c02ea",
   "metadata": {},
   "outputs": [
    {
     "name": "stdout",
     "output_type": "stream",
     "text": [
      "La dimension del sistema es:  100\n",
      "El numero de iteraciones en las que se resolvio el problema fue de:  4999\n",
      "La solucion del sistema es:  [ 1.42289192 -1.34436635  1.97582665 -1.22569925] [-1.22569925  1.97582665 -1.34436635  1.42289192]\n",
      "La norma del residuo es:  0.0014464322682251481\n",
      "El estado de convergencia del algoritmo es:  True\n",
      "El numero de reinicios de la variable beta fue de:  2500\n"
     ]
    }
   ],
   "source": [
    "n = 100\n",
    "x0 = np.zeros(n)\n",
    "tol = np.sqrt(n) * pow(eps_m, 1.0/3.0)\n",
    "xk, gk, k, bres, nr = grad_conj_nl_FR_HS(fsis2, gradsis2, x0, NMax, tol, c1, c2, rho, BTMax)\n",
    "print('La dimension del sistema es: ',n)\n",
    "print('El numero de iteraciones en las que se resolvio el problema fue de: ',k)\n",
    "print('La solucion del sistema es: ',xk[:4], xk[-4:])\n",
    "print('La norma del residuo es: ', np.sqrt(gk@gk))\n",
    "print('El estado de convergencia del algoritmo es: ',bres)\n",
    "print('El numero de reinicios de la variable beta fue de: ', nr)"
   ]
  },
  {
   "cell_type": "code",
   "execution_count": 96,
   "id": "90fe9ba1-8f10-4575-a368-479bf15dbeb9",
   "metadata": {},
   "outputs": [
    {
     "ename": "KeyboardInterrupt",
     "evalue": "",
     "output_type": "error",
     "traceback": [
      "\u001b[1;31m---------------------------------------------------------------------------\u001b[0m",
      "\u001b[1;31mKeyboardInterrupt\u001b[0m                         Traceback (most recent call last)",
      "Cell \u001b[1;32mIn[96], line 4\u001b[0m\n\u001b[0;32m      2\u001b[0m x0 \u001b[38;5;241m=\u001b[39m np\u001b[38;5;241m.\u001b[39mzeros(n)\n\u001b[0;32m      3\u001b[0m tol \u001b[38;5;241m=\u001b[39m np\u001b[38;5;241m.\u001b[39msqrt(n) \u001b[38;5;241m*\u001b[39m \u001b[38;5;28mpow\u001b[39m(eps_m, \u001b[38;5;241m1.0\u001b[39m\u001b[38;5;241m/\u001b[39m\u001b[38;5;241m3.0\u001b[39m)\n\u001b[1;32m----> 4\u001b[0m xk, gk, k, bres, nr \u001b[38;5;241m=\u001b[39m grad_conj_nl_FR_HS(fsis2, gradsis2, x0, NMax, tol, c1, c2, rho, BTMax)\n\u001b[0;32m      5\u001b[0m \u001b[38;5;28mprint\u001b[39m(\u001b[38;5;124m'\u001b[39m\u001b[38;5;124mLa dimension del sistema es: \u001b[39m\u001b[38;5;124m'\u001b[39m,n)\n\u001b[0;32m      6\u001b[0m \u001b[38;5;28mprint\u001b[39m(\u001b[38;5;124m'\u001b[39m\u001b[38;5;124mEl numero de iteraciones en las que se resolvio el problema fue de: \u001b[39m\u001b[38;5;124m'\u001b[39m,k)\n",
      "Cell \u001b[1;32mIn[84], line 10\u001b[0m, in \u001b[0;36mgrad_conj_nl_FR_HS\u001b[1;34m(fun, grad, x0, NMax, tau, c1, c2, rho, BTMax)\u001b[0m\n\u001b[0;32m      8\u001b[0m \u001b[38;5;28;01mif\u001b[39;00m np\u001b[38;5;241m.\u001b[39msqrt(g_norm) \u001b[38;5;241m<\u001b[39m tol:\n\u001b[0;32m      9\u001b[0m     \u001b[38;5;28;01mreturn\u001b[39;00m x, g, k, \u001b[38;5;28;01mTrue\u001b[39;00m, n_r\n\u001b[1;32m---> 10\u001b[0m alpha \u001b[38;5;241m=\u001b[39m cond_wolfe_bt(\u001b[38;5;241m1.0\u001b[39m, x, rho, fun, grad, d, c1, c2, BTMax)\n\u001b[0;32m     11\u001b[0m x \u001b[38;5;241m+\u001b[39m\u001b[38;5;241m=\u001b[39m alpha\u001b[38;5;241m*\u001b[39md\n\u001b[0;32m     12\u001b[0m g1 \u001b[38;5;241m=\u001b[39m grad(x)\n",
      "Cell \u001b[1;32mIn[52], line 22\u001b[0m, in \u001b[0;36mcond_wolfe_bt\u001b[1;34m(a0, xk, rho, f, grad, pk, c1, c2, NMax)\u001b[0m\n\u001b[0;32m     20\u001b[0m a \u001b[38;5;241m=\u001b[39m a0\n\u001b[0;32m     21\u001b[0m \u001b[38;5;28;01mfor\u001b[39;00m i \u001b[38;5;129;01min\u001b[39;00m \u001b[38;5;28mrange\u001b[39m(NMax):\n\u001b[1;32m---> 22\u001b[0m     \u001b[38;5;28;01mif\u001b[39;00m f(xk \u001b[38;5;241m+\u001b[39m (a\u001b[38;5;241m*\u001b[39mpk)) \u001b[38;5;241m<\u001b[39m\u001b[38;5;241m=\u001b[39m f(xk) \u001b[38;5;241m+\u001b[39m (c1\u001b[38;5;241m*\u001b[39ma\u001b[38;5;241m*\u001b[39m(grad(xk)\u001b[38;5;129m@pk\u001b[39m)):\n\u001b[0;32m     23\u001b[0m         \u001b[38;5;28;01mif\u001b[39;00m grad(xk \u001b[38;5;241m+\u001b[39m (a\u001b[38;5;241m*\u001b[39mpk))\u001b[38;5;129m@pk\u001b[39m \u001b[38;5;241m>\u001b[39m\u001b[38;5;241m=\u001b[39m c2\u001b[38;5;241m*\u001b[39m(grad(xk)\u001b[38;5;129m@pk\u001b[39m):\n\u001b[0;32m     24\u001b[0m             \u001b[38;5;28;01mreturn\u001b[39;00m a\n",
      "Cell \u001b[1;32mIn[91], line 4\u001b[0m, in \u001b[0;36mfsis2\u001b[1;34m(x)\u001b[0m\n\u001b[0;32m      2\u001b[0m n \u001b[38;5;241m=\u001b[39m \u001b[38;5;28mlen\u001b[39m(x)\n\u001b[0;32m      3\u001b[0m i, j \u001b[38;5;241m=\u001b[39m np\u001b[38;5;241m.\u001b[39mindices((n, n))\n\u001b[1;32m----> 4\u001b[0m A \u001b[38;5;241m=\u001b[39m np\u001b[38;5;241m.\u001b[39mexp(\u001b[38;5;241m-\u001b[39m\u001b[38;5;241m0.25\u001b[39m \u001b[38;5;241m*\u001b[39m ((i \u001b[38;5;241m-\u001b[39m j) \u001b[38;5;241m*\u001b[39m\u001b[38;5;241m*\u001b[39m \u001b[38;5;241m2\u001b[39m))\n\u001b[0;32m      5\u001b[0m b \u001b[38;5;241m=\u001b[39m np\u001b[38;5;241m.\u001b[39mones(n)\n\u001b[0;32m      6\u001b[0m \u001b[38;5;28;01mreturn\u001b[39;00m ((x\u001b[38;5;129m@A\u001b[39m\u001b[38;5;129m@x\u001b[39m)\u001b[38;5;241m/\u001b[39m\u001b[38;5;241m2.0\u001b[39m) \u001b[38;5;241m-\u001b[39m (b\u001b[38;5;129m@x\u001b[39m)\n",
      "\u001b[1;31mKeyboardInterrupt\u001b[0m: "
     ]
    }
   ],
   "source": [
    "n = 1000\n",
    "x0 = np.zeros(n)\n",
    "tol = np.sqrt(n) * pow(eps_m, 1.0/3.0)\n",
    "xk, gk, k, bres, nr = grad_conj_nl_FR_HS(fsis2, gradsis2, x0, NMax, tol, c1, c2, rho, BTMax)\n",
    "print('La dimension del sistema es: ',n)\n",
    "print('El numero de iteraciones en las que se resolvio el problema fue de: ',k)\n",
    "print('La solucion del sistema es: ',xk[:4], xk[-4:])\n",
    "print('La norma del residuo es: ', np.sqrt(gk@gk))\n",
    "print('El estado de convergencia del algoritmo es: ',bres)\n",
    "print('El numero de reinicios de la variable beta fue de: ', nr)"
   ]
  },
  {
   "cell_type": "markdown",
   "id": "72187386-89f3-4680-8c12-f11d7d68f94a",
   "metadata": {},
   "source": [
    "### Funcion de Beaale"
   ]
  },
  {
   "cell_type": "code",
   "execution_count": 101,
   "id": "5d9c5cfe-6340-4f82-83fb-bc6ec1f5a153",
   "metadata": {},
   "outputs": [
    {
     "name": "stdout",
     "output_type": "stream",
     "text": [
      "La dimension del sistema es:  2\n",
      "El numero de iteraciones en las que se resolvio el problema fue de:  347\n",
      "La solucion del sistema es:  [2.99998571 0.4999963 ] [2.99998571 0.4999963 ]\n",
      "La norma del residuo es:  7.875745994384867e-06\n",
      "El estado de convergencia del algoritmo es:  True\n",
      "El numero de reinicios de la variable beta fue de:  171\n"
     ]
    }
   ],
   "source": [
    "x0 = np.asarray([2.0,3.0])\n",
    "n = len(x0)\n",
    "tol = np.sqrt(n) * pow(eps_m, 1.0/3.0)\n",
    "xk, gk, k, bres, nr = grad_conj_nl_FR_HS(beale, beale_grad, x0, NMax, tol, c1, c2, rho, BTMax)\n",
    "print('La dimension del sistema es: ',n)\n",
    "print('El numero de iteraciones en las que se resolvio el problema fue de: ',k)\n",
    "print('La solucion del sistema es: ',xk[:4], xk[-4:])\n",
    "print('La norma del residuo es: ', np.sqrt(gk@gk))\n",
    "print('El estado de convergencia del algoritmo es: ',bres)\n",
    "print('El numero de reinicios de la variable beta fue de: ', nr)"
   ]
  },
  {
   "cell_type": "markdown",
   "id": "b01e578a-3849-482f-814e-7df6ec261a8a",
   "metadata": {},
   "source": [
    "### Funcion de Himmelblau"
   ]
  },
  {
   "cell_type": "code",
   "execution_count": 111,
   "id": "dd64e9c0-a785-4d62-8109-585cb33cbdbb",
   "metadata": {},
   "outputs": [
    {
     "name": "stdout",
     "output_type": "stream",
     "text": [
      "La dimension del sistema es:  2\n",
      "El numero de iteraciones en las que se resolvio el problema fue de:  71\n",
      "La solucion del sistema es:  [ 3.5844284  -1.84812652] [ 3.5844284  -1.84812652]\n",
      "La norma del residuo es:  6.170677845091845e-06\n",
      "El estado de convergencia del algoritmo es:  True\n",
      "El numero de reinicios de la variable beta fue de:  35\n"
     ]
    }
   ],
   "source": [
    "x0 = np.array([2.0,4.0])\n",
    "n = len(x0)\n",
    "tol = np.sqrt(n) * pow(eps_m, 1.0/3.0)\n",
    "xk, gk, k, bres, nr = grad_conj_nl_FR_HS(himmelblau, himmelblau_grad, x0, NMax, tol, c1, c2, rho, BTMax)\n",
    "print('La dimension del sistema es: ',n)\n",
    "print('El numero de iteraciones en las que se resolvio el problema fue de: ',k)\n",
    "print('La solucion del sistema es: ',xk[:4], xk[-4:])\n",
    "print('La norma del residuo es: ', np.sqrt(gk@gk))\n",
    "print('El estado de convergencia del algoritmo es: ',bres)\n",
    "print('El numero de reinicios de la variable beta fue de: ', nr)"
   ]
  },
  {
   "cell_type": "markdown",
   "id": "c95e1d25-6d72-471a-87b7-1c9b1e248a49",
   "metadata": {},
   "source": [
    "### Funcion de Rosenbrock"
   ]
  },
  {
   "cell_type": "code",
   "execution_count": 110,
   "id": "5a130b92-d024-4254-bd6c-d7a8081a3fdf",
   "metadata": {},
   "outputs": [
    {
     "name": "stdout",
     "output_type": "stream",
     "text": [
      "La dimension del sistema es:  2\n",
      "El numero de iteraciones en las que se resolvio el problema fue de:  4999\n",
      "La solucion del sistema es:  [1.00208484 1.00419052] [1.00208484 1.00419052]\n",
      "La norma del residuo es:  0.004103752067551122\n",
      "El estado de convergencia del algoritmo es:  False\n",
      "El numero de reinicios de la variable beta fue de:  2497\n"
     ]
    }
   ],
   "source": [
    "n = 2\n",
    "cic = cycle([-1.2, 1.0])\n",
    "x0 = np.asarray([next(cic) for _ in range(n)])\n",
    "tol = np.sqrt(n) * pow(eps_m, 1.0/3.0)\n",
    "xk, gk, k, bres, nr = grad_conj_nl_FR_HS(rosenbrock, rosenbrock_grad, x0, NMax, tol, c1, c2, rho, BTMax)\n",
    "print('La dimension del sistema es: ',n)\n",
    "print('El numero de iteraciones en las que se resolvio el problema fue de: ',k)\n",
    "print('La solucion del sistema es: ',xk[:4], xk[-4:])\n",
    "print('La norma del residuo es: ', np.sqrt(gk@gk))\n",
    "print('El estado de convergencia del algoritmo es: ',bres)\n",
    "print('El numero de reinicios de la variable beta fue de: ', nr)"
   ]
  },
  {
   "cell_type": "code",
   "execution_count": 112,
   "id": "ce5d165a-a174-400f-870a-003c29235cb4",
   "metadata": {},
   "outputs": [
    {
     "name": "stdout",
     "output_type": "stream",
     "text": [
      "La dimension del sistema es:  20\n",
      "El numero de iteraciones en las que se resolvio el problema fue de:  4999\n",
      "La solucion del sistema es:  [0.99990027 1.00007399 0.99990707 1.00008818] [0.92843147 0.8620255  0.74228943 0.55082049]\n",
      "La norma del residuo es:  0.9732715788657685\n",
      "El estado de convergencia del algoritmo es:  False\n",
      "El numero de reinicios de la variable beta fue de:  2500\n"
     ]
    }
   ],
   "source": [
    "n = 20\n",
    "cic = cycle([-1.2, 1.0])\n",
    "x0 = np.asarray([next(cic) for _ in range(n)])\n",
    "tol = np.sqrt(n) * pow(eps_m, 1.0/3.0)\n",
    "xk, gk, k, bres, nr = grad_conj_nl_FR_HS(rosenbrock, rosenbrock_grad, x0, NMax, tol, c1, c2, rho, BTMax)\n",
    "print('La dimension del sistema es: ',n)\n",
    "print('El numero de iteraciones en las que se resolvio el problema fue de: ',k)\n",
    "print('La solucion del sistema es: ',xk[:4], xk[-4:])\n",
    "print('La norma del residuo es: ', np.sqrt(gk@gk))\n",
    "print('El estado de convergencia del algoritmo es: ',bres)\n",
    "print('El numero de reinicios de la variable beta fue de: ', nr)"
   ]
  },
  {
   "cell_type": "code",
   "execution_count": 113,
   "id": "65744cbe-2ed5-4cd0-a297-02f240ae59af",
   "metadata": {},
   "outputs": [
    {
     "name": "stdout",
     "output_type": "stream",
     "text": [
      "La dimension del sistema es:  40\n",
      "El numero de iteraciones en las que se resolvio el problema fue de:  4999\n",
      "La solucion del sistema es:  [0.99984652 1.00037566 0.99940916 1.00077708] [0.01020834 0.01020421 0.01000409 0.00010008]\n",
      "La norma del residuo es:  7.205272784319076\n",
      "El estado de convergencia del algoritmo es:  False\n",
      "El numero de reinicios de la variable beta fue de:  2500\n"
     ]
    }
   ],
   "source": [
    "n = 40\n",
    "cic = cycle([-1.2, 1.0])\n",
    "x0 = np.asarray([next(cic) for _ in range(n)])\n",
    "tol = np.sqrt(n) * pow(eps_m, 1.0/3.0)\n",
    "xk, gk, k, bres, nr = grad_conj_nl_FR_HS(rosenbrock, rosenbrock_grad, x0, NMax, tol, c1, c2, rho, BTMax)\n",
    "print('La dimension del sistema es: ',n)\n",
    "print('El numero de iteraciones en las que se resolvio el problema fue de: ',k)\n",
    "print('La solucion del sistema es: ',xk[:4], xk[-4:])\n",
    "print('La norma del residuo es: ', np.sqrt(gk@gk))\n",
    "print('El estado de convergencia del algoritmo es: ',bres)\n",
    "print('El numero de reinicios de la variable beta fue de: ', nr)"
   ]
  },
  {
   "cell_type": "markdown",
   "id": "a3a878ff-5fd1-4251-b4bd-9b327015751f",
   "metadata": {},
   "source": [
    "## Pregunta 1"
   ]
  },
  {
   "cell_type": "markdown",
   "id": "77947700-b695-4e13-a2ed-d5e776915020",
   "metadata": {},
   "source": [
    "Pareciera que la de Fletcher Reeves es mejor en cantidad de iteraciones, ademas de que converge en mas sistemas respecto al de Hestens Stiefel."
   ]
  },
  {
   "cell_type": "markdown",
   "id": "97785d97-06de-4a3e-958c-f2f5264d3e12",
   "metadata": {},
   "source": [
    "## Pregunta 2"
   ]
  },
  {
   "cell_type": "markdown",
   "id": "e1d22236-742b-4780-9351-b973ab72374b",
   "metadata": {},
   "source": [
    "Pareciera que tienen cantidades de reinicio similares, sin embargo, en general el de Hestens suele realizar la mitad de reinicios."
   ]
  }
 ],
 "metadata": {
  "kernelspec": {
   "display_name": "Python 3 (ipykernel)",
   "language": "python",
   "name": "python3"
  },
  "language_info": {
   "codemirror_mode": {
    "name": "ipython",
    "version": 3
   },
   "file_extension": ".py",
   "mimetype": "text/x-python",
   "name": "python",
   "nbconvert_exporter": "python",
   "pygments_lexer": "ipython3",
   "version": "3.11.7"
  }
 },
 "nbformat": 4,
 "nbformat_minor": 5
}
