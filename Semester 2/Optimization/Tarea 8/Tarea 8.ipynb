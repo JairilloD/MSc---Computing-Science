{
 "cells": [
  {
   "cell_type": "markdown",
   "id": "8a3c8fef-40d5-4241-ade1-9bcbc3a91053",
   "metadata": {},
   "source": [
    "Jairo Saul Diaz Soto\n",
    "\n",
    "Dr. Joaquin Peña Acevedo\n",
    "\n",
    "Optimizacion I\n",
    "\n",
    "2024 / 04 / 30"
   ]
  },
  {
   "cell_type": "markdown",
   "id": "76f13ad0-a6ca-4e7f-8750-2e989d4d9b47",
   "metadata": {},
   "source": [
    "# Ejercicio 1: BFGS"
   ]
  },
  {
   "cell_type": "markdown",
   "id": "a915e02f-7948-4384-bad7-562a2933acfd",
   "metadata": {},
   "source": [
    "## Implementando el algoritmo"
   ]
  },
  {
   "cell_type": "code",
   "execution_count": 235,
   "id": "63a34289-882c-47b6-9ef4-92b377ad4b50",
   "metadata": {},
   "outputs": [],
   "source": [
    "import numpy as np"
   ]
  },
  {
   "cell_type": "code",
   "execution_count": 236,
   "id": "7e528948-7347-450d-b6a0-00fed737f45e",
   "metadata": {},
   "outputs": [],
   "source": [
    "def bt_armijo(a0, rho, c0, x0, f_func, grad_fun, p0, NMax):\n",
    "    a = a0\n",
    "    f = f_func(x0)\n",
    "    g = grad_fun(x0)\n",
    "    for k in range(NMax):\n",
    "        if f_func(x0 + (a*p0)) <= f + (c0*a*(g@p0)):\n",
    "            return a\n",
    "        a *= rho\n",
    "    return 1.0"
   ]
  },
  {
   "cell_type": "code",
   "execution_count": 237,
   "id": "e0278718-e214-4e4d-bffc-38a780682d91",
   "metadata": {},
   "outputs": [],
   "source": [
    "import numpy as np\n",
    "\n",
    "def bfgs_mod(x0, H0, fun, grad, tol, NMax, a0, rho, c1, BNmax):\n",
    "    x = x0\n",
    "    H = H0\n",
    "    I = np.eye(len(x0))\n",
    "    for k in range(NMax):\n",
    "        g = grad(x)\n",
    "        norm = np.dot(g, g)\n",
    "        if np.sqrt(norm) < tol:\n",
    "            return x, g, k+1, norm, True\n",
    "        p = -np.dot(H, g)\n",
    "        num = np.dot(p, g)\n",
    "        if num > 0:\n",
    "            l1 = 1E-5 + (num / norm)\n",
    "            H = H + (l1 * I)\n",
    "            p = p - (l1 * g)\n",
    "        a = bt_armijo(a0, rho, c1, x, fun, grad, p, BNmax)\n",
    "        \n",
    "        x1 = x + (a * p)\n",
    "        g1 = grad(x1)\n",
    "        s = x1 - x\n",
    "        y = g1 - g\n",
    "        # if np.dot(y, y) / np.dot(g1, g1) < tol:\n",
    "        #     return x, g, k + 1, norm, True\n",
    "        num_res = np.dot(y, s)\n",
    "        if num_res <= 0:\n",
    "            l2 = 1E-5 + (num_res / np.dot(y, y))\n",
    "            H += l2 * I\n",
    "        else:\n",
    "            den_res = 1 / num_res\n",
    "            H = ((I - (den_res * np.outer(s, y))) @ H @ (I - (den_res * np.outer(s, y)))) + (den_res * np.outer(s, s))\n",
    "        x = np.copy(x1)\n",
    "    return x, g, k + 1, norm, False\n"
   ]
  },
  {
   "cell_type": "markdown",
   "id": "0ba52ba1-3238-496c-a9f0-bb1609cb53d1",
   "metadata": {},
   "source": [
    "## Probando el algoritmo"
   ]
  },
  {
   "cell_type": "code",
   "execution_count": 238,
   "id": "88f23b53-0787-47b8-a95c-6a684ce9cf4f",
   "metadata": {},
   "outputs": [
    {
     "data": {
      "text/plain": [
       "2.220446049250313e-16"
      ]
     },
     "execution_count": 238,
     "metadata": {},
     "output_type": "execute_result"
    }
   ],
   "source": [
    "eps_m = np.finfo(float).eps\n",
    "NMax = 5000\n",
    "a0 = 1.0\n",
    "rho = 0.5\n",
    "c0 = 0.001\n",
    "BTMax = 500\n",
    "eps_m"
   ]
  },
  {
   "cell_type": "markdown",
   "id": "a9ef4a60-b54a-416c-9a1c-426caecc1c0a",
   "metadata": {},
   "source": [
    "### Funcion cuadratica 1"
   ]
  },
  {
   "cell_type": "code",
   "execution_count": 239,
   "id": "9da83998-fd03-4354-a848-ea40881ac5d1",
   "metadata": {},
   "outputs": [],
   "source": [
    "def fsis1(x):\n",
    "    n = len(x)\n",
    "    A = (n * np.eye(n))+np.ones(n)\n",
    "    b = np.ones(n)\n",
    "    return ((x@A@x)/2.0) - (b@x)\n",
    "\n",
    "def gradsis1(x):\n",
    "    n = len(x)\n",
    "    A = (n * np.eye(n))+np.ones(n)\n",
    "    b = np.ones(n)\n",
    "    return (A@x) - b"
   ]
  },
  {
   "cell_type": "code",
   "execution_count": 240,
   "id": "179b688d-880b-4a54-9342-a3553f33b3de",
   "metadata": {},
   "outputs": [
    {
     "name": "stdout",
     "output_type": "stream",
     "text": [
      "La dimension del sistema es:  10\n",
      "La funcion en el punto inicial es:  0.0\n",
      "El algoritmo realizo el siguiente numero de iteraciones:  3\n",
      "La funcion en el punto final es:  -0.25\n",
      "El punto encontrado es:  [0.05 0.05 0.05 0.05] [0.05 0.05 0.05 0.05]\n",
      "La norma del residuo es:  1.0934428697813141e-15\n",
      "El estado de convergencia del algoritmo es:  True\n"
     ]
    }
   ],
   "source": [
    "fun = fsis1\n",
    "grad = gradsis1\n",
    "n =  10\n",
    "x0 = np.zeros(n)\n",
    "H0 = np.eye(n)\n",
    "tol = np.sqrt(n) * pow(eps_m, 1.0/3.0)\n",
    "print('La dimension del sistema es: ', n)\n",
    "print('La funcion en el punto inicial es: ', fun(x0))\n",
    "xk, gk, k, norm, bol = bfgs_mod(x0, H0, fun, grad, tol, NMax, a0, rho, c0, BTMax)\n",
    "print('El algoritmo realizo el siguiente numero de iteraciones: ', k)\n",
    "print('La funcion en el punto final es: ', fun(xk))\n",
    "print('El punto encontrado es: ',xk[:4], xk[-4:])\n",
    "print('La norma del residuo es: ', np.sqrt(norm))\n",
    "print('El estado de convergencia del algoritmo es: ',bol)"
   ]
  },
  {
   "cell_type": "code",
   "execution_count": 241,
   "id": "fbfcae7d-c971-4fd2-9148-87e62151a105",
   "metadata": {},
   "outputs": [
    {
     "name": "stdout",
     "output_type": "stream",
     "text": [
      "La dimension del sistema es:  100\n",
      "La funcion en el punto inicial es:  0.0\n",
      "El algoritmo realizo el siguiente numero de iteraciones:  3\n",
      "La funcion en el punto final es:  -0.2499999999999999\n",
      "El punto encontrado es:  [0.005 0.005 0.005 0.005] [0.005 0.005 0.005 0.005]\n",
      "La norma del residuo es:  2.654253472960375e-12\n",
      "El estado de convergencia del algoritmo es:  True\n"
     ]
    }
   ],
   "source": [
    "fun = fsis1\n",
    "grad = gradsis1\n",
    "n =  100\n",
    "x0 = np.zeros(n)\n",
    "H0 = np.eye(n)\n",
    "tol = np.sqrt(n) * pow(eps_m, 1.0/3.0)\n",
    "print('La dimension del sistema es: ', n)\n",
    "print('La funcion en el punto inicial es: ', fun(x0))\n",
    "xk, gk, k, norm, bol = bfgs_mod(x0, H0, fun, grad, tol, NMax, a0, rho, c0, BTMax)\n",
    "print('El algoritmo realizo el siguiente numero de iteraciones: ', k)\n",
    "print('La funcion en el punto final es: ', fun(xk))\n",
    "print('El punto encontrado es: ',xk[:4], xk[-4:])\n",
    "print('La norma del residuo es: ', np.sqrt(norm))\n",
    "print('El estado de convergencia del algoritmo es: ',bol)"
   ]
  },
  {
   "cell_type": "code",
   "execution_count": 242,
   "id": "668628bb-44db-4a6c-b49b-7e4767710aae",
   "metadata": {},
   "outputs": [
    {
     "name": "stdout",
     "output_type": "stream",
     "text": [
      "La dimension del sistema es:  1000\n",
      "La funcion en el punto inicial es:  0.0\n",
      "El algoritmo realizo el siguiente numero de iteraciones:  3\n",
      "La funcion en el punto final es:  -0.24999999999999994\n",
      "El punto encontrado es:  [0.0005 0.0005 0.0005 0.0005] [0.0005 0.0005 0.0005 0.0005]\n",
      "La norma del residuo es:  3.939311348155606e-10\n",
      "El estado de convergencia del algoritmo es:  True\n"
     ]
    }
   ],
   "source": [
    "fun = fsis1\n",
    "grad = gradsis1\n",
    "n =  1000\n",
    "x0 = np.zeros(n)\n",
    "H0 = np.eye(n)\n",
    "tol = np.sqrt(n) * pow(eps_m, 1.0/3.0)\n",
    "print('La dimension del sistema es: ', n)\n",
    "print('La funcion en el punto inicial es: ', fun(x0))\n",
    "xk, gk, k, norm, bol = bfgs_mod(x0, H0, fun, grad, tol, NMax, a0, rho, c0, BTMax)\n",
    "print('El algoritmo realizo el siguiente numero de iteraciones: ', k)\n",
    "print('La funcion en el punto final es: ', fun(xk))\n",
    "print('El punto encontrado es: ',xk[:4], xk[-4:])\n",
    "print('La norma del residuo es: ', np.sqrt(norm))\n",
    "print('El estado de convergencia del algoritmo es: ',bol)"
   ]
  },
  {
   "cell_type": "markdown",
   "id": "b14684a3-6c19-44a2-b15a-d4c75c0c2fcc",
   "metadata": {},
   "source": [
    "### Funcion cuadratica 2"
   ]
  },
  {
   "cell_type": "code",
   "execution_count": 243,
   "id": "c5ec3bbd-8f57-4e0f-b50b-2ed043c46935",
   "metadata": {},
   "outputs": [],
   "source": [
    "def fsis2(x):\n",
    "    n = len(x)\n",
    "    i, j = np.indices((n, n))\n",
    "    A = np.exp(-0.25 * ((i - j) ** 2))\n",
    "    b = np.ones(n)\n",
    "    return ((x@A@x)/2.0) - (b@x)\n",
    "\n",
    "def gradsis2(x):\n",
    "    n = len(x)\n",
    "    i, j = np.indices((n, n))\n",
    "    A = np.exp(-0.25 * ((i - j) ** 2))\n",
    "    b = np.ones(n)\n",
    "    return (A@x) - b"
   ]
  },
  {
   "cell_type": "code",
   "execution_count": 244,
   "id": "233ae30e-0fbb-4fe0-913c-aa490b039629",
   "metadata": {},
   "outputs": [
    {
     "name": "stdout",
     "output_type": "stream",
     "text": [
      "La dimension del sistema es:  10\n",
      "La funcion en el punto inicial es:  0.0\n",
      "El algoritmo realizo el siguiente numero de iteraciones:  337\n",
      "La funcion en el punto final es:  -1.7934208020579385\n",
      "El punto encontrado es:  [ 1.36906467 -1.1663233   1.60905935 -0.61341008] [-0.61340839  1.60905807 -1.16632259  1.36906442]\n",
      "La norma del residuo es:  1.5975269871125578e-05\n",
      "El estado de convergencia del algoritmo es:  True\n"
     ]
    }
   ],
   "source": [
    "fun = fsis2\n",
    "grad = gradsis2\n",
    "n =  10\n",
    "x0 = np.zeros(n)\n",
    "H0 = np.eye(n)\n",
    "tol = np.sqrt(n) * pow(eps_m, 1.0/3.0)\n",
    "print('La dimension del sistema es: ', n)\n",
    "print('La funcion en el punto inicial es: ', fun(x0))\n",
    "xk, gk, k, norm, bol = bfgs_mod(x0, H0, fun, grad, tol, NMax, a0, rho, c0, BTMax)\n",
    "print('El algoritmo realizo el siguiente numero de iteraciones: ', k)\n",
    "print('La funcion en el punto final es: ', fun(xk))\n",
    "print('El punto encontrado es: ',xk[:4], xk[-4:])\n",
    "print('La norma del residuo es: ', np.sqrt(norm))\n",
    "print('El estado de convergencia del algoritmo es: ',bol)"
   ]
  },
  {
   "cell_type": "code",
   "execution_count": 245,
   "id": "909298f1-9ac9-42c5-be2c-ef0ec20bac33",
   "metadata": {},
   "outputs": [
    {
     "name": "stdout",
     "output_type": "stream",
     "text": [
      "La dimension del sistema es:  100\n",
      "La funcion en el punto inicial es:  0.0\n",
      "El algoritmo realizo el siguiente numero de iteraciones:  908\n",
      "La funcion en el punto final es:  -14.494331260847344\n",
      "El punto encontrado es:  [ 1.4462465  -1.41625587  2.11030126 -1.42464603] [-1.42464604  2.11028635 -1.41626821  1.44627619]\n",
      "La norma del residuo es:  4.833500252453662e-05\n",
      "El estado de convergencia del algoritmo es:  True\n"
     ]
    }
   ],
   "source": [
    "fun = fsis2\n",
    "grad = gradsis2\n",
    "n =  100\n",
    "x0 = np.zeros(n)\n",
    "H0 = np.eye(n)\n",
    "tol = np.sqrt(n) * pow(eps_m, 1.0/3.0)\n",
    "print('La dimension del sistema es: ', n)\n",
    "print('La funcion en el punto inicial es: ', fun(x0))\n",
    "xk, gk, k, norm, bol = bfgs_mod(x0, H0, fun, grad, tol, NMax, a0, rho, c0, BTMax)\n",
    "print('El algoritmo realizo el siguiente numero de iteraciones: ', k)\n",
    "print('La funcion en el punto final es: ', fun(xk))\n",
    "print('El punto encontrado es: ',xk[:4], xk[-4:])\n",
    "print('La norma del residuo es: ', np.sqrt(norm))\n",
    "print('El estado de convergencia del algoritmo es: ',bol)"
   ]
  },
  {
   "cell_type": "code",
   "execution_count": 246,
   "id": "0061ab70-0a2f-468c-bc0e-39df9c543b9c",
   "metadata": {},
   "outputs": [
    {
     "name": "stdout",
     "output_type": "stream",
     "text": [
      "La dimension del sistema es:  1000\n",
      "La funcion en el punto inicial es:  0.0\n",
      "El algoritmo realizo el siguiente numero de iteraciones:  997\n",
      "La funcion en el punto final es:  -141.4369859496008\n",
      "El punto encontrado es:  [ 1.44705323 -1.41846915  2.11393295 -1.42938194] [-1.42938405  2.11393487 -1.41846332  1.44705985]\n",
      "La norma del residuo es:  0.00017017676661185363\n",
      "El estado de convergencia del algoritmo es:  True\n"
     ]
    }
   ],
   "source": [
    "fun = fsis2\n",
    "grad = gradsis2\n",
    "n =  1000\n",
    "x0 = np.zeros(n)\n",
    "H0 = np.eye(n)\n",
    "tol = np.sqrt(n) * pow(eps_m, 1.0/3.0)\n",
    "print('La dimension del sistema es: ', n)\n",
    "print('La funcion en el punto inicial es: ', fun(x0))\n",
    "xk, gk, k, norm, bol = bfgs_mod(x0, H0, fun, grad, tol, NMax, a0, rho, c0, BTMax)\n",
    "print('El algoritmo realizo el siguiente numero de iteraciones: ', k)\n",
    "print('La funcion en el punto final es: ', fun(xk))\n",
    "print('El punto encontrado es: ',xk[:4], xk[-4:])\n",
    "print('La norma del residuo es: ', np.sqrt(norm))\n",
    "print('El estado de convergencia del algoritmo es: ',bol)"
   ]
  },
  {
   "cell_type": "markdown",
   "id": "a60db94e-e65f-46a4-9cc8-40bfe40fd0e7",
   "metadata": {},
   "source": [
    "## Funcion de Beale"
   ]
  },
  {
   "cell_type": "code",
   "execution_count": 247,
   "id": "29869b61-f8b2-42e3-9fe9-5f8483aa9c42",
   "metadata": {},
   "outputs": [],
   "source": [
    "def beale(x):\n",
    "    return (1.5 - x[0] + (x[0]*x[1]))**2 + (2.25 - x[0] + (x[0]*x[1]**2))**2 + (2.625 - x[0] + (x[0]*x[1]**3))**2\n",
    "    \n",
    "def beale_grad(x):\n",
    "    return np.array([ (2*(x[1] - 1) * (1.5 - x[0] + (x[0]*x[1]))) + (2*(x[1]**2 - 1)*(2.25 - x[0] + (x[0]*x[1]**2))) + (2*(x[1]**3 - 1)*(2.625 - x[0] + (x[0]*x[1]**3))), \n",
    "                    (2*x[0]*(1.5 - x[0] + (x[0]*x[1]))) + (4*(x[0]*x[1])*(2.25 - x[0] + (x[0]*x[1]**2))) + (6*(x[0]*x[1]**2)*(2.625 - x[0] + (x[0]*x[1]**3)))])\n"
   ]
  },
  {
   "cell_type": "code",
   "execution_count": 248,
   "id": "5c391f20-69fd-49d2-9fa6-e2460bc2e076",
   "metadata": {},
   "outputs": [
    {
     "name": "stdout",
     "output_type": "stream",
     "text": [
      "La dimension del sistema es:  2\n",
      "La funcion en el punto inicial es:  3347.203125\n"
     ]
    },
    {
     "name": "stderr",
     "output_type": "stream",
     "text": [
      "C:\\Users\\chiko\\AppData\\Local\\Temp\\ipykernel_12000\\134889547.py:2: RuntimeWarning: overflow encountered in scalar power\n",
      "  return (1.5 - x[0] + (x[0]*x[1]))**2 + (2.25 - x[0] + (x[0]*x[1]**2))**2 + (2.625 - x[0] + (x[0]*x[1]**3))**2\n"
     ]
    },
    {
     "name": "stdout",
     "output_type": "stream",
     "text": [
      "El algoritmo realizo el siguiente numero de iteraciones:  5000\n",
      "La funcion en el punto final es:  7.3125005036610995\n",
      "El punto encontrado es:  [ 2.03282632e-22 -2.34607724e+07] [ 2.03282632e-22 -2.34607724e+07]\n",
      "La norma del residuo es:  1.3478734410824275e+17\n",
      "El estado de convergencia del algoritmo es:  False\n"
     ]
    }
   ],
   "source": [
    "fun = beale\n",
    "grad = beale_grad\n",
    "n =  2\n",
    "x0 = np.array([2.0,3.0])\n",
    "H0 = np.eye(n)\n",
    "tol = np.sqrt(n) * pow(eps_m, 1.0/3.0)\n",
    "print('La dimension del sistema es: ', n)\n",
    "print('La funcion en el punto inicial es: ', fun(x0))\n",
    "xk, gk, k, norm, bol = bfgs_mod(x0, H0, fun, grad, tol, NMax, a0, rho, c0, BTMax)\n",
    "print('El algoritmo realizo el siguiente numero de iteraciones: ', k)\n",
    "print('La funcion en el punto final es: ', fun(xk))\n",
    "print('El punto encontrado es: ',xk[:4], xk[-4:])\n",
    "print('La norma del residuo es: ', np.sqrt(norm))\n",
    "print('El estado de convergencia del algoritmo es: ',bol)"
   ]
  },
  {
   "cell_type": "markdown",
   "id": "452734b3-aadb-459a-ad50-70c0747095b4",
   "metadata": {},
   "source": [
    "## Funcion de Himmemblau"
   ]
  },
  {
   "cell_type": "code",
   "execution_count": 249,
   "id": "242fde5a-08a8-4307-a32b-d94c48c75c78",
   "metadata": {},
   "outputs": [],
   "source": [
    "def himmelblau(x):\n",
    "    return ((x[0]**2) + x[1] - 11)**2 + (x[0] + (x[1]**2) - 7)**2\n",
    "\n",
    "def himmelblau_grad(x):\n",
    "    return np.array([(4*x[0]*((x[0]**2) + x[1] - 11)) + (2*(x[0] + (x[1]**2) - 7)),\n",
    "                     (2*((x[0]**2) + x[1] - 11)) + (4*x[1]*(x[0] + (x[1]**2) - 7))])\n"
   ]
  },
  {
   "cell_type": "code",
   "execution_count": 255,
   "id": "390b9c1e-359b-4349-9a4d-0d3736156a75",
   "metadata": {},
   "outputs": [
    {
     "name": "stdout",
     "output_type": "stream",
     "text": [
      "La dimension del sistema es:  2\n",
      "La funcion en el punto inicial es:  130.0\n",
      "El algoritmo realizo el siguiente numero de iteraciones:  20\n",
      "La funcion en el punto final es:  5.471876899682172e-13\n",
      "El punto encontrado es:  [ 3.5844284  -1.84812669] [ 3.5844284  -1.84812669]\n",
      "La norma del residuo es:  7.0685214921763495e-06\n",
      "El estado de convergencia del algoritmo es:  True\n"
     ]
    }
   ],
   "source": [
    "fun = himmelblau\n",
    "grad = himmelblau_grad\n",
    "n =  2\n",
    "x0 = np.array([2.0,4.0])\n",
    "H0 = np.eye(n)\n",
    "tol = np.sqrt(n) * pow(eps_m, 1.0/3.0)\n",
    "print('La dimension del sistema es: ', n)\n",
    "print('La funcion en el punto inicial es: ', fun(x0))\n",
    "xk, gk, k, norm, bol = bfgs_mod(x0, H0, fun, grad, tol, NMax, a0, rho, c0, BTMax)\n",
    "print('El algoritmo realizo el siguiente numero de iteraciones: ', k)\n",
    "print('La funcion en el punto final es: ', fun(xk))\n",
    "print('El punto encontrado es: ',xk[:4], xk[-4:])\n",
    "print('La norma del residuo es: ', np.sqrt(norm))\n",
    "print('El estado de convergencia del algoritmo es: ',bol)"
   ]
  },
  {
   "cell_type": "markdown",
   "id": "2e8d7a8a-46e1-441b-937f-b3b9284197d5",
   "metadata": {},
   "source": [
    "## Funcion de Rosenbrock"
   ]
  },
  {
   "cell_type": "code",
   "execution_count": 251,
   "id": "90169f51-1490-4656-a547-e2384132c235",
   "metadata": {},
   "outputs": [],
   "source": [
    "from itertools import cycle\n",
    "def rosenbrock(x):\n",
    "    n = len(x)\n",
    "    res = 0\n",
    "    for k in range(n-1):\n",
    "        res += (100 * (x[k+1] - (x[k]**2))**2 ) + (1-x[k])**2\n",
    "    return res\n",
    "\n",
    "def rosenbrock_grad(x):\n",
    "    gradient = np.zeros_like(x)\n",
    "    n = len(x)\n",
    "    for i in range(n-1):\n",
    "        gradient[i] += -400 * x[i] * (x[i+1] - x[i]**2) - 2 * (1 - x[i])\n",
    "        gradient[i+1] += 200 * (x[i+1] - x[i]**2)\n",
    "    return gradient"
   ]
  },
  {
   "cell_type": "code",
   "execution_count": 252,
   "id": "d01ea761-ce2f-4373-9c50-76e681d59967",
   "metadata": {},
   "outputs": [
    {
     "name": "stdout",
     "output_type": "stream",
     "text": [
      "La dimension del sistema es:  2\n",
      "La funcion en el punto inicial es:  24.199999999999996\n",
      "El algoritmo realizo el siguiente numero de iteraciones:  58\n",
      "La funcion en el punto final es:  5.5218292436972295e-15\n",
      "El punto encontrado es:  [1.00000001 1.00000002] [1.00000001 1.00000002]\n",
      "La norma del residuo es:  3.2987132039760924e-06\n",
      "El estado de convergencia del algoritmo es:  True\n"
     ]
    }
   ],
   "source": [
    "fun = rosenbrock\n",
    "grad = rosenbrock_grad\n",
    "n =  2\n",
    "cic = cycle([-1.2, 1.0])\n",
    "x0 = np.asarray([next(cic) for _ in range(n)])\n",
    "H0 = np.eye(n)\n",
    "tol = np.sqrt(n) * pow(eps_m, 1.0/3.0)\n",
    "print('La dimension del sistema es: ', n)\n",
    "print('La funcion en el punto inicial es: ', fun(x0))\n",
    "xk, gk, k, norm, bol = bfgs_mod(x0, H0, fun, grad, tol, NMax, a0, rho, c0, BTMax)\n",
    "print('El algoritmo realizo el siguiente numero de iteraciones: ', k)\n",
    "print('La funcion en el punto final es: ', fun(xk))\n",
    "print('El punto encontrado es: ',xk[:4], xk[-4:])\n",
    "print('La norma del residuo es: ', np.sqrt(norm))\n",
    "print('El estado de convergencia del algoritmo es: ',bol)"
   ]
  },
  {
   "cell_type": "code",
   "execution_count": 253,
   "id": "663e0586-3469-4186-ae1e-4b1d83375c80",
   "metadata": {},
   "outputs": [
    {
     "name": "stdout",
     "output_type": "stream",
     "text": [
      "La dimension del sistema es:  20\n",
      "La funcion en el punto inicial es:  4597.999999999999\n",
      "El algoritmo realizo el siguiente numero de iteraciones:  4405\n",
      "La funcion en el punto final es:  1.3100651035824218e-12\n",
      "El punto encontrado es:  [1.00000001 1.00000001 1.         1.        ] [0.99999985 0.99999967 0.99999934 0.99999867]\n",
      "La norma del residuo es:  2.3981832338595233e-05\n",
      "El estado de convergencia del algoritmo es:  True\n"
     ]
    }
   ],
   "source": [
    "fun = rosenbrock\n",
    "grad = rosenbrock_grad\n",
    "n =  20\n",
    "cic = cycle([-1.2, 1.0])\n",
    "x0 = np.asarray([next(cic) for _ in range(n)])\n",
    "H0 = np.eye(n)\n",
    "tol = np.sqrt(n) * pow(eps_m, 1.0/3.0)\n",
    "print('La dimension del sistema es: ', n)\n",
    "print('La funcion en el punto inicial es: ', fun(x0))\n",
    "xk, gk, k, norm, bol = bfgs_mod(x0, H0, fun, grad, tol, NMax, a0, rho, c0, BTMax)\n",
    "print('El algoritmo realizo el siguiente numero de iteraciones: ', k)\n",
    "print('La funcion en el punto final es: ', fun(xk))\n",
    "print('El punto encontrado es: ',xk[:4], xk[-4:])\n",
    "print('La norma del residuo es: ', np.sqrt(norm))\n",
    "print('El estado de convergencia del algoritmo es: ',bol)"
   ]
  },
  {
   "cell_type": "code",
   "execution_count": 254,
   "id": "cb0dd2f2-c97b-40da-9c71-a6c91b798559",
   "metadata": {},
   "outputs": [
    {
     "name": "stdout",
     "output_type": "stream",
     "text": [
      "La dimension del sistema es:  40\n",
      "La funcion en el punto inicial es:  9680.0\n",
      "El algoritmo realizo el siguiente numero de iteraciones:  5000\n",
      "La funcion en el punto final es:  0.08141859029857546\n",
      "El punto encontrado es:  [0.99929421 0.99862367 0.99882496 0.99854671] [0.95594482 0.91866554 0.84471858 0.70093345]\n",
      "La norma del residuo es:  7.558290625106121\n",
      "El estado de convergencia del algoritmo es:  False\n"
     ]
    }
   ],
   "source": [
    "fun = rosenbrock\n",
    "grad = rosenbrock_grad\n",
    "n =  40\n",
    "cic = cycle([-1.2, 1.0])\n",
    "x0 = np.asarray([next(cic) for _ in range(n)])\n",
    "H0 = np.eye(n)\n",
    "tol = np.sqrt(n) * pow(eps_m, 1.0/3.0)\n",
    "print('La dimension del sistema es: ', n)\n",
    "print('La funcion en el punto inicial es: ', fun(x0))\n",
    "xk, gk, k, norm, bol = bfgs_mod(x0, H0, fun, grad, tol, NMax, a0, rho, c0, BTMax)\n",
    "print('El algoritmo realizo el siguiente numero de iteraciones: ', k)\n",
    "print('La funcion en el punto final es: ', fun(xk))\n",
    "print('El punto encontrado es: ',xk[:4], xk[-4:])\n",
    "print('La norma del residuo es: ', np.sqrt(norm))\n",
    "print('El estado de convergencia del algoritmo es: ',bol)"
   ]
  }
 ],
 "metadata": {
  "kernelspec": {
   "display_name": "Python 3 (ipykernel)",
   "language": "python",
   "name": "python3"
  },
  "language_info": {
   "codemirror_mode": {
    "name": "ipython",
    "version": 3
   },
   "file_extension": ".py",
   "mimetype": "text/x-python",
   "name": "python",
   "nbconvert_exporter": "python",
   "pygments_lexer": "ipython3",
   "version": "3.11.7"
  }
 },
 "nbformat": 4,
 "nbformat_minor": 5
}
