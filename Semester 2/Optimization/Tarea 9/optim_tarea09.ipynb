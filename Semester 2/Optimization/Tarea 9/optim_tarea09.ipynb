{
 "cells": [
  {
   "cell_type": "markdown",
   "id": "8aff0397-b0a6-4a76-8471-5af0022480b1",
   "metadata": {},
   "source": [
    "# Curso de Optimización I\n",
    "## Tarea 9\n",
    "## Jairo Saul Diaz Soto\n",
    "\n",
    "| Descripción:                         | Fechas               |\n",
    "|--------------------------------------|----------------------|\n",
    "| Fecha de publicación del documento:  | **Mayo  5, 2024**    |\n",
    "| Fecha límite de entrega de la tarea: | **Mayo 12, 2024**    |\n",
    "\n",
    "\n",
    "### Indicaciones\n",
    "\n",
    "- Envie el notebook con los códigos y las pruebas realizadas de cada ejercicio.\n",
    "- Si se requiren algunos scripts adicionales para poder reproducir las pruebas,\n",
    "  agreguelos en un ZIP junto con el notebook.\n",
    "- Genere un PDF del notebook y envielo por separado."
   ]
  },
  {
   "cell_type": "markdown",
   "id": "039f468f-0c1f-4ce4-8231-5a9badafe840",
   "metadata": {},
   "source": [
    "---\n",
    "\n",
    "## Ejercicio 1 (5 puntos)\n",
    "\n",
    "Construir un clasificador binario basado en el método de regresión logística.\n",
    "Puede revisar las notas de las ayudantías 10 y 11. En particular,\n",
    "podemos tomar de referencia el artículo (minka-logreg.pdf) que aparece en la Ayudantía 10:\n",
    "\n",
    "> \"A comparison of numerical optimizers for logistic regression\". Thomas P. Minka\n",
    "\n",
    "Para usar la notación de este artículo, tenemos un conjunto de datos y cada dato\n",
    "puede pertener a una de dos clases. \n",
    "Las clases  se identifican con las etiquetas \"-1\" y \"1\". Para hacer la clasificación\n",
    "se necesita determinar un vector $\\mathbf{w}$ que se usa para\n",
    "calcular la probabilidad de que un dato $\\mathbf{x}_i \\in \\mathbb{R}^n$ \n",
    "pertenezca a la clase $y_i \\in \\{-1,1\\}$ mediante la evaluación de la función sigmoide:\n",
    "\n",
    "$$ \\sigma(\\mathbf{x}_i, y_i, \\mathbf{w}) = \\frac{1}{1 + \\exp(-y_i\\mathbf{w}^\\top\\mathbf{x}_i)}.  $$ \n",
    "\n",
    "Cada vector $\\mathbf{x}_i$ está formado por el valor de ciertas características\n",
    "asociadas el individuo $i$-ésimo.\n",
    "\n",
    "Dada una colección de datos etiquetados $(\\mathbf{x}_1, y_1), ..., (\\mathbf{x}_m, y_m)$, se \n",
    "mide el error de clasificación mediante\n",
    "\n",
    "$$ L(\\mathbf{w}) = \\sum_{i=1}^m \\log(1 + \\exp(-y_i\\mathbf{w}^\\top\\mathbf{x}_i)) \n",
    "+ \\frac{\\lambda}{2} \\mathbf{w}^\\top\\mathbf{w}.  $$ \n",
    "\n",
    "El segundo término de la expresión anterior penaliza la magnitud de la solución $\\mathbf{w}$\n",
    "dependiendo del valor de $\\lambda$.\n",
    "\n",
    "En general, los datos se almacenan en una matriz de modo de cada vector $\\mathbf{x}_i$\n",
    "es una fila de la matriz $\\mathbf{X}$ y las etiquetas $y_i$ son las componentes de un\n",
    "vector $\\mathbf{y}$:\n",
    "\n",
    "$$ \\mathbf{X} = \\left[ \\begin{array}{c} \n",
    "\\mathbf{x}_1^\\top \\\\ \n",
    "\\mathbf{x}_2^\\top \\\\ \n",
    "\\vdots \\\\\n",
    "\\mathbf{x}_m^\\top \n",
    "\\end{array} \\right], \\qquad\n",
    "\\mathbf{y} = \\left( \\begin{array}{c} \n",
    "y_1 \\\\ \n",
    "y_2 \\\\ \n",
    "\\vdots \\\\\n",
    "y_m \n",
    "\\end{array} \\right).\n",
    "$$\n",
    "\n",
    "1. Muestre que el gradiente de $L(\\mathbf{w})$ está dado por\n",
    "\n",
    "$$ \\nabla_w L(\\mathbf{w}) = - \\sum_{i=1}^m (1 - \\sigma(\\mathbf{x}_i, y_i, \\mathbf{w})) y_i\\mathbf{x}_i\n",
    "+ \\lambda \\mathbf{w}. $$\n",
    "\n",
    "\n",
    "2. Programar las funciones \n",
    "\n",
    "$$\\sigma(\\mathbf{X}, \\mathbf{y}, \\mathbf{w}), \\quad \n",
    "L(\\mathbf{w})\\quad \\text{y} \\quad \\nabla_w L(\\mathbf{w}).$$\n",
    "   \n",
    "- Conviene programar la función sigmoide para que pueda recibir la matriz $\\mathbf{X}$ y el vector\n",
    "  $\\mathbf{y}$, en lugar de dar un vector $\\mathbf{x}_i$ y su etiqueta $y_i$, para que\n",
    "  evalue todos los datos y devuelva un vector con probabilidades\n",
    "  \n",
    "$$ \\left( \\begin{array}{c}\n",
    "\\sigma(\\mathbf{x}_1, y_1, \\mathbf{w})  \\\\\n",
    "\\sigma(\\mathbf{x}_2, y_2, \\mathbf{w}) \\\\\n",
    "\\vdots \\\\\n",
    "\\sigma(\\mathbf{x}_m, y_m, \\mathbf{w})\n",
    "\\end{array} \\right).\n",
    "$$ \n",
    "\n",
    "- Una vez que se tiene ese vector de probabilidades, se puede calcular el gradiente\n",
    "  de $ L()$. \n",
    "\n",
    "   \n",
    "3. Aplique el método de descenso máximo para minimizar la función $L(\\mathbf{w})$. \n",
    "   Use backtracking para calcular el tamaño de paso $\\alpha_k$, de modo \n",
    "   $\\mathbf{w}_{k+1} = \\mathbf{w}_{k} + \\alpha_k  \\mathbf{p}_{k}$, donde\n",
    "   \n",
    "$$\\mathbf{p}_{k} = - \\mathbf{g}_{k} = -\\nabla_w L(\\mathbf{w}_k)$$\n",
    "  \n",
    "  \n",
    "Una vez que se ha calculado el minimizador $\\mathbf{w}_*$ de $L(\\mathbf{w})$\n",
    "puede usar la función $predict(\\mathbf{X}, \\mathbf{w}_*)$, codificada en la siguiente celda,\n",
    "para predecir las etiquetas de los datos que están en la matriz $\\mathbf{X}$.\n",
    "Así, esta función devuelve un vector que tiene las etiquetas $-1$ o  $1$ que se asigna\n",
    "cada dato (fila) en la matriz $\\mathbf{X}$ de acuerdo a la probabilidad que tiene ese\n",
    "dato de pertenecer a una de las clases.\n",
    "\n",
    "**Nota:**   Hay que implementar la función `sigmoid()` como se indica en el Punto 2\n",
    "para poder ejecutar la función `predict()`.\n",
    "\n",
    "La función  `predict()` es la respuesta del clasificador en cada dato de la matriz $\\mathbf{X}$."
   ]
  },
  {
   "cell_type": "code",
   "execution_count": 2,
   "id": "d1d1aa46-f525-4a7f-81e6-084bf1cf19b4",
   "metadata": {},
   "outputs": [],
   "source": [
    "def sigmoid(X, y, w):\n",
    "    sol = np.zeros(len(X))\n",
    "    for i, x in enumerate(X):\n",
    "        sol[i] = sigmoide(x, y[i], w)\n",
    "    return sol\n",
    "\n",
    "\n",
    "# Función para predecir la clase de cada dato (fila) en la matriz X\n",
    "# Devuelve un arreglo del tamaño de la cantidad de filas de X que tiene \n",
    "# las etiquetas -1 o 1  que se predicen para cada dato.\n",
    "# Para calcular las etiquetas, se calcula el vector que tiene las probabilidades\n",
    "# de que los datos pertenezcan a la clase 1. Si la probabilidad es mayor que 0.5,\n",
    "# se asigna la clase 1. En caso contrario se asigna la clase -1.\n",
    "#\n",
    "def predict(X, w):  \n",
    "    # Vector de prediciones. Se inicializa como si todas las etiquetas fueran 1\n",
    "    y_pred = np.ones(X.shape[0])\n",
    "    # Vector de probalidades de que los datos pertenezcan a la clase 1\n",
    "    vprob  = sigmoid(X, np.ones(X.shape[0]), w)\n",
    "    # Se obtienen los índices de los datos que tienen una probabilidad menor a 0.5\n",
    "    ii     = np.where(vprob<=0.5)[0]\n",
    "    # Se cambia la etiqueta por -1 para todos los datos con probabilidad menor a 0.5\n",
    "    y_pred[ii] = -1\n",
    "    return y_pred\n"
   ]
  },
  {
   "cell_type": "markdown",
   "id": "a55171c5-acd7-4e97-b966-a12007d437b2",
   "metadata": {},
   "source": [
    "En general, dado un conjunto de datos, se toma una parte de ellos para construir\n",
    "el clasificador. Ese subconjunto se llama el **conjunto de entrenamiento**.\n",
    "El resto de los datos se usan para evaluar el desempeño del clasificador y \n",
    "se llama el **conjunto de prueba**.\n",
    "   \n",
    "Para evaluar el desempeño del clasificador hay varias métricas.\n",
    "El código de la siguiente celda muestra:\n",
    "- Cómo leer los datos de un archivo, \n",
    "- separarlos en el conjunto de entrenamiento y validación,\n",
    "- estandarizar los datos de cada conjunto,\n",
    "- agregar una columna formada por 1's a los datos. Si no se hace esto, \n",
    "  en lugar de usar el producto $\\mathbf{w}^\\top\\mathbf{x}_i$, se tendría que \n",
    "  usar $b + \\mathbf{w}^\\top\\mathbf{x}_i$ y calcular el bias $b$ por separado.\n",
    "  Al agregar esta columna de 1's a los datos, es como equivalente a que el bias \n",
    "  $b$ forme parte del vector $\\mathbf{w}$.\n",
    "- Se calcula la matriz de confusión que en su diagonal muestra la cantidad\n",
    "  de datos en los que la predicción de la clase que hace el clasificador es correcta,\n",
    "  mientras que los elementos fuera de la diagonal son la cantidad de datos\n",
    "  mal clasificados.\n",
    "- Se evalúa la exactitud (accuracy) del clasificador. Entre más cerca esté este\n",
    "  valor a 1, es mejor el desempeño del clasificador.\n",
    "\n",
    "\n",
    "El conjunto de datos corresponde a un estudio en el que se miden 13 características\n",
    "a una muestra de 303 individuos, descritas en \n",
    "\n",
    "[Heart disease](https://archive.ics.uci.edu/dataset/45/heart+disease)\n",
    "\n",
    "Cada registro  tiene una etiqueta que indica la presencia (etiqueta 1) de una\n",
    "enfermedad del corazón, o que no la tiene (etiqueta 0). Esta última etiqueta\n",
    "la cambiamos por \"-1\" para que coincida con la notación del artículo.\n",
    "\n",
    "El objetivo es tomar una parte de los datos para crear el clasificador y medir\n",
    "el desempeño del clasificador con el resto los datos, haciendo que el clasificador\n",
    "prediga a que clase pertenece cada dato del conjunto de prueba y comparando \n",
    "las predicciones con la verdadera etiqueta.\n"
   ]
  },
  {
   "cell_type": "code",
   "execution_count": 3,
   "id": "5f95755a-b116-4f0c-8626-35f45e8070be",
   "metadata": {
    "tags": []
   },
   "outputs": [
    {
     "name": "stdout",
     "output_type": "stream",
     "text": [
      "Dimensiones de la tabla: (303, 14)\n"
     ]
    },
    {
     "data": {
      "text/html": [
       "<div>\n",
       "<style scoped>\n",
       "    .dataframe tbody tr th:only-of-type {\n",
       "        vertical-align: middle;\n",
       "    }\n",
       "\n",
       "    .dataframe tbody tr th {\n",
       "        vertical-align: top;\n",
       "    }\n",
       "\n",
       "    .dataframe thead th {\n",
       "        text-align: right;\n",
       "    }\n",
       "</style>\n",
       "<table border=\"1\" class=\"dataframe\">\n",
       "  <thead>\n",
       "    <tr style=\"text-align: right;\">\n",
       "      <th></th>\n",
       "      <th>age</th>\n",
       "      <th>sex</th>\n",
       "      <th>cp</th>\n",
       "      <th>trestbps</th>\n",
       "      <th>chol</th>\n",
       "      <th>fbs</th>\n",
       "      <th>restecg</th>\n",
       "      <th>thalach</th>\n",
       "      <th>exang</th>\n",
       "      <th>oldpeak</th>\n",
       "      <th>slope</th>\n",
       "      <th>ca</th>\n",
       "      <th>thal</th>\n",
       "      <th>target</th>\n",
       "    </tr>\n",
       "  </thead>\n",
       "  <tbody>\n",
       "    <tr>\n",
       "      <th>0</th>\n",
       "      <td>63</td>\n",
       "      <td>1</td>\n",
       "      <td>3</td>\n",
       "      <td>145</td>\n",
       "      <td>233</td>\n",
       "      <td>1</td>\n",
       "      <td>0</td>\n",
       "      <td>150</td>\n",
       "      <td>0</td>\n",
       "      <td>2.3</td>\n",
       "      <td>0</td>\n",
       "      <td>0</td>\n",
       "      <td>1</td>\n",
       "      <td>1</td>\n",
       "    </tr>\n",
       "    <tr>\n",
       "      <th>1</th>\n",
       "      <td>37</td>\n",
       "      <td>1</td>\n",
       "      <td>2</td>\n",
       "      <td>130</td>\n",
       "      <td>250</td>\n",
       "      <td>0</td>\n",
       "      <td>1</td>\n",
       "      <td>187</td>\n",
       "      <td>0</td>\n",
       "      <td>3.5</td>\n",
       "      <td>0</td>\n",
       "      <td>0</td>\n",
       "      <td>2</td>\n",
       "      <td>1</td>\n",
       "    </tr>\n",
       "    <tr>\n",
       "      <th>2</th>\n",
       "      <td>41</td>\n",
       "      <td>0</td>\n",
       "      <td>1</td>\n",
       "      <td>130</td>\n",
       "      <td>204</td>\n",
       "      <td>0</td>\n",
       "      <td>0</td>\n",
       "      <td>172</td>\n",
       "      <td>0</td>\n",
       "      <td>1.4</td>\n",
       "      <td>2</td>\n",
       "      <td>0</td>\n",
       "      <td>2</td>\n",
       "      <td>1</td>\n",
       "    </tr>\n",
       "    <tr>\n",
       "      <th>3</th>\n",
       "      <td>56</td>\n",
       "      <td>1</td>\n",
       "      <td>1</td>\n",
       "      <td>120</td>\n",
       "      <td>236</td>\n",
       "      <td>0</td>\n",
       "      <td>1</td>\n",
       "      <td>178</td>\n",
       "      <td>0</td>\n",
       "      <td>0.8</td>\n",
       "      <td>2</td>\n",
       "      <td>0</td>\n",
       "      <td>2</td>\n",
       "      <td>1</td>\n",
       "    </tr>\n",
       "    <tr>\n",
       "      <th>4</th>\n",
       "      <td>57</td>\n",
       "      <td>0</td>\n",
       "      <td>0</td>\n",
       "      <td>120</td>\n",
       "      <td>354</td>\n",
       "      <td>0</td>\n",
       "      <td>1</td>\n",
       "      <td>163</td>\n",
       "      <td>1</td>\n",
       "      <td>0.6</td>\n",
       "      <td>2</td>\n",
       "      <td>0</td>\n",
       "      <td>2</td>\n",
       "      <td>1</td>\n",
       "    </tr>\n",
       "  </tbody>\n",
       "</table>\n",
       "</div>"
      ],
      "text/plain": [
       "   age  sex  cp  trestbps  chol  fbs  restecg  thalach  exang  oldpeak  slope  \\\n",
       "0   63    1   3       145   233    1        0      150      0      2.3      0   \n",
       "1   37    1   2       130   250    0        1      187      0      3.5      0   \n",
       "2   41    0   1       130   204    0        0      172      0      1.4      2   \n",
       "3   56    1   1       120   236    0        1      178      0      0.8      2   \n",
       "4   57    0   0       120   354    0        1      163      1      0.6      2   \n",
       "\n",
       "   ca  thal  target  \n",
       "0   0     1       1  \n",
       "1   0     2       1  \n",
       "2   0     2       1  \n",
       "3   0     2       1  \n",
       "4   0     2       1  "
      ]
     },
     "execution_count": 3,
     "metadata": {},
     "output_type": "execute_result"
    }
   ],
   "source": [
    "import pandas as pd\n",
    "import numpy as np\n",
    "\n",
    "# Lectura de los datos\n",
    "data = pd.read_csv('heart.csv')\n",
    "print('Dimensiones de la tabla:', data.shape)\n",
    "data.head()"
   ]
  },
  {
   "cell_type": "code",
   "execution_count": 4,
   "id": "326cbe5d-73be-4651-a006-76bc5ad39c2a",
   "metadata": {},
   "outputs": [
    {
     "data": {
      "text/plain": [
       "target\n",
       "0    138\n",
       "1    165\n",
       "dtype: int64"
      ]
     },
     "execution_count": 4,
     "metadata": {},
     "output_type": "execute_result"
    }
   ],
   "source": [
    "# Esto muestra cuántos datos se tienen en la clase '0' y en la clase '1'\n",
    "data.groupby(['target']).size()"
   ]
  },
  {
   "cell_type": "code",
   "execution_count": 5,
   "id": "4d4087dc-bf4f-462c-abe8-881265804a6f",
   "metadata": {},
   "outputs": [
    {
     "name": "stdout",
     "output_type": "stream",
     "text": [
      "w = \n",
      "[ 0.11473422 -0.07505859 -0.8633645   0.79654126 -0.19299413 -0.24740498\n",
      " -0.13380743  0.09214989  0.50584806 -0.47867262 -0.64584814  0.13438099\n",
      " -0.88457233 -0.45989107]\n"
     ]
    }
   ],
   "source": [
    "from sklearn.preprocessing import StandardScaler\n",
    "# data splitting\n",
    "from sklearn.model_selection import train_test_split\n",
    "# data modeling\n",
    "from sklearn.metrics import confusion_matrix, ConfusionMatrixDisplay, accuracy_score\n",
    "from sklearn.linear_model import LogisticRegression\n",
    "\n",
    "# Cambiamos la etiqueta 0 por -1\n",
    "data.loc[data['target']==0, 'target'] = -1\n",
    "# Vector de etiquetas\n",
    "y  = data[\"target\"]\n",
    "\n",
    "# Matriz de datos\n",
    "X  = data.drop('target',axis=1)\n",
    "\n",
    "# Se usa el 20% de los datos para crear el conjunto de prueba\n",
    "X_train, X_test, y_train, y_test = train_test_split(X, y, test_size=0.20, random_state = 0)\n",
    "\n",
    "# Se estandariza cada columna de la matriz de datos para evitar que por tener diferentes \n",
    "# rangos de valores cada columna (variable), afecte al algoritmo de optimización\n",
    "scaler = StandardScaler()\n",
    "X_train = scaler.fit_transform(X_train)\n",
    "X_test = scaler.transform(X_test)\n",
    "\n",
    "# Número de muestras del conjunto de entrenamiento\n",
    "ntrain  = X_train.shape[0]\n",
    "# Se agrega una columna de 1's para que el bias b forme pare del vector w\n",
    "X_train = np.hstack((np.ones((ntrain,1)), X_train))\n",
    "\n",
    "# Número de muestras del conjunto de prueba\n",
    "ntest   = X_test.shape[0]\n",
    "# Se agrega una columna de 1's para que el bias b forme pare del vector w\n",
    "X_test  = np.hstack((np.ones((ntest,1)), X_test))\n",
    "\n",
    "# Se convierte los dataframes a una matriz de numpy\n",
    "y_train = y_train.to_numpy()\n",
    "y_test = y_test.to_numpy()\n",
    "\n",
    "# Se entrena el clasificador de regresión logística\n",
    "lr    = LogisticRegression(fit_intercept=False)\n",
    "model = lr.fit(X_train, y_train)\n",
    "\n",
    "# Imprimimos las componentes de w\n",
    "w = np.squeeze(model.coef_)\n",
    "print('w = ')\n",
    "print(w)\n",
    "\n",
    "# Se calcula las predicciones para el conjunto de prueba \n",
    "y_predict = model.predict(X_test)"
   ]
  },
  {
   "cell_type": "code",
   "execution_count": 6,
   "id": "e32abd38-2c37-46cf-b57f-7ac19608a729",
   "metadata": {},
   "outputs": [
    {
     "name": "stdout",
     "output_type": "stream",
     "text": [
      "\n",
      "Accuracy: 0.8360655737704918 \n",
      "\n"
     ]
    },
    {
     "data": {
      "text/plain": [
       "<sklearn.metrics._plot.confusion_matrix.ConfusionMatrixDisplay at 0x224f474f3d0>"
      ]
     },
     "execution_count": 6,
     "metadata": {},
     "output_type": "execute_result"
    },
    {
     "data": {
      "image/png": "[encoded data removed]",
      "text/plain": [
       "<Figure size 640x480 with 2 Axes>"
      ]
     },
     "metadata": {},
     "output_type": "display_data"
    }
   ],
   "source": [
    "# Se mide el desempeño calculando la matriz de confusión y la exactitud\n",
    "conf_matrix = confusion_matrix(y_test, y_predict)\n",
    "acc_score = accuracy_score(y_test, y_predict)\n",
    "print(\"\\nAccuracy:\", acc_score,'\\n')\n",
    "\n",
    "disp = ConfusionMatrixDisplay(confusion_matrix=conf_matrix,\n",
    "                              display_labels=model.classes_)\n",
    "disp.plot()"
   ]
  },
  {
   "cell_type": "markdown",
   "id": "2801b290-0032-422d-a1f5-847c031fa113",
   "metadata": {},
   "source": [
    "4. Pruebe el algoritmo de optimización usando $\\mathbf{w}_0=(1,1,...,1)$,  el \n",
    "   número de iteraciones máximas $N=500$, la tolerancia para terminar el algoritmo \n",
    "   $\\tau = \\sqrt{ntrain}\\epsilon_m^{1/3}$ y para el algoritmo de backtracking\n",
    "   $\\rho = 0.5, c_1 = 0.001$ $N_b=500$.\n",
    "   \n",
    "   Cree un clasificador usando $\\lambda=0.001$ y otro clasificador usando $\\lambda=1.0$. \n",
    "   \n",
    "   En cada caso use la función $predict(X_{test}, w_*)$\n",
    "   para obtener el vector de predicciones de la clase para el conjunto de prueba y\n",
    "   use el código de la celda anterior para obtener la matriz de confusión y la \n",
    "   exactitud del clasificador, para ver cual de los dos tiene mejor desempeño.\n",
    "\n",
    "### Solución:"
   ]
  },
  {
   "cell_type": "markdown",
   "id": "551ebf7c-9e58-4afe-bd67-a083b2d4a8e8",
   "metadata": {},
   "source": [
    "Sea:\n",
    "$$\n",
    "    L(\\mathbf{w}) = \\sum_{i=1}^m \\log(1 + \\exp(-y_i\\mathbf{w}^\\top\\mathbf{x}_i)) + \\frac{\\lambda}{2} \\mathbf{w}^\\top\\mathbf{w}\n",
    "$$\n",
    "Entonces al aplicar el gradiente se obtiene que:\n",
    "$$\n",
    "    \\nabla L (\\mathbf{w}) = \\nabla \\sum_{i=1}^m \\log(1 + \\exp(-y_i\\mathbf{w}^\\top\\mathbf{x}_i)) + \\nabla \\frac{\\lambda}{2} \\mathbf{w}^\\top\\mathbf{w}\n",
    "$$\n",
    "$$\n",
    "    \\nabla L (\\mathbf{w}) =  \\sum_{i=1}^m \\nabla \\log(1 + \\exp(-y_i\\mathbf{w}^\\top\\mathbf{x}_i)) + \\lambda\\mathbf{w}\n",
    "$$\n",
    "$$\n",
    "    \\nabla L (\\mathbf{w}) =  \\sum_{i=1}^m \\frac{1}{1 + \\exp(-y_i\\mathbf{w}^\\top\\mathbf{x}_i)} \\exp(-y_i\\mathbf{w}^\\top\\mathbf{x}_i) \\left( -y_i \\mathbf{x}_i \\right)  + \\lambda\\mathbf{w}\n",
    "$$\n",
    "\n",
    "Ahora bien, siendo que la funcion sigmoide se define como acontinuacion\n",
    "\n",
    "$$\n",
    "    \\sigma(\\mathbf{x}_i, y_i, \\mathbf{w}) = \\frac{1}{1 + \\exp(-y_i\\mathbf{w}^\\top\\mathbf{x}_i)}\n",
    "$$\n",
    "\n",
    "Entonces\n",
    "$$\n",
    "1 - \\sigma(\\mathbf{x}_i, y_i, \\mathbf{w}) = 1 - \\frac{1}{1 + \\exp(-y_i\\mathbf{w}^\\top\\mathbf{x}_i)}\n",
    "$$\n",
    "$$\n",
    "1 - \\sigma(\\mathbf{x}_i, y_i, \\mathbf{w}) = \\frac{\\exp(-y_i\\mathbf{w}^\\top\\mathbf{x}_i)}{1 + \\exp(-y_i\\mathbf{w}^\\top\\mathbf{x}_i)}\n",
    "$$\n",
    "\n",
    "Por lo tanto, sustituyendo lo anterior, es posible reescribir el gradiente de la funcion de costo tal que:\n",
    "\n",
    "$$\n",
    "    \\nabla L (\\mathbf{w}) =  -\\sum_{i=1}^m \\left( 1 - \\sigma(\\mathbf{x}_i, y_i, \\mathbf{w}) \\right) \\left( y_i \\mathbf{x}_i \\right)  + \\lambda\\mathbf{w}\n",
    "$$\n",
    "\n"
   ]
  },
  {
   "cell_type": "code",
   "execution_count": 7,
   "id": "b9550227-77ff-4f88-9009-4f58b02ca13c",
   "metadata": {},
   "outputs": [],
   "source": [
    "## Funcion sigmoide\n",
    "def sigmoide(x, y, w):\n",
    "    arg = -y*(x@w)\n",
    "    return 1.0 / (1+np.exp(arg))\n",
    "\n",
    "## Funcion de costo\n",
    "def loss_func(w,X, y, l):\n",
    "    cons = (l/2.0)*(w@w)\n",
    "    sum = 0.0\n",
    "    for i, x in enumerate(X):\n",
    "        arg = -y[i]* (w@x)\n",
    "        sum += np.log(1+np.exp(arg))\n",
    "    return (cons + sum)\n",
    "\n",
    "## Gradiente de la funcion de costo\n",
    "def loss_grad(w, X, y, l):\n",
    "    sol = np.zeros_like(w)\n",
    "    cons = l*w\n",
    "    sum = 0.0\n",
    "    for i, x in enumerate(X):\n",
    "        sum += (1 - sigmoide(x, y[i], w)) * (y[i]*x)\n",
    "    return (cons - sum)\n",
    "\n",
    "## Backtracking cond. de armijo\n",
    "def bt_armijo(a0, rho, c0, x0, f_func, grad_fun, p0, NMax):\n",
    "    a = a0\n",
    "    f = f_func(x0)\n",
    "    g = grad_fun(x0)\n",
    "    for k in range(NMax):\n",
    "        if f_func(x0 + (a*p0)) <= f + (c0*a*(g@p0)):\n",
    "            return a\n",
    "        a *= rho\n",
    "    return a\n",
    "\n",
    "## Metodo de descenso maximo\n",
    "def descmax_bt(f_fun, grad_fun, x0, tau, NMax, a0, rho, c0, KMax):\n",
    "    record = list()\n",
    "    for k in range(NMax):\n",
    "        g = grad_fun(x0)\n",
    "        p = -g\n",
    "        a = bt_armijo(a0, rho, c0, x0, f_fun, grad_fun, p, KMax)\n",
    "        if len(x0) == 2:\n",
    "            record.append([x0[0], x0[1], a, i])\n",
    "        if a * np.linalg.norm(p) < tau:\n",
    "            return x0, k, True, np.array(record)\n",
    "        x0 += a*p\n",
    "    return x0, k, False, np.array(record)"
   ]
  },
  {
   "cell_type": "code",
   "execution_count": 8,
   "id": "68811eef-ce44-44fc-be16-0de8f283bb98",
   "metadata": {},
   "outputs": [
    {
     "name": "stdout",
     "output_type": "stream",
     "text": [
      "\n",
      "Accuracy: 0.8524590163934426 \n",
      "\n"
     ]
    },
    {
     "data": {
      "text/plain": [
       "<sklearn.metrics._plot.confusion_matrix.ConfusionMatrixDisplay at 0x224f896c850>"
      ]
     },
     "execution_count": 8,
     "metadata": {},
     "output_type": "execute_result"
    },
    {
     "data": {
      "image/png": "[encoded data removed]",
      "text/plain": [
       "<Figure size 640x480 with 2 Axes>"
      ]
     },
     "metadata": {},
     "output_type": "display_data"
    }
   ],
   "source": [
    "## Probando el algoritmo\n",
    "w0 = np.ones(X_train.shape[1])\n",
    "NMax = 500\n",
    "tau = np.sqrt(ntrain) * pow(np.finfo(float).eps, 1.0/3.0)\n",
    "rho = 0.5\n",
    "c1 = 0.001\n",
    "KMax = 500\n",
    "a0 = 1.0\n",
    "\n",
    "lamb = 0.001\n",
    "\n",
    "def loss_func_(w):\n",
    "    return loss_func(w, X_train, y_train, lamb)\n",
    "\n",
    "def loss_grad_(w):\n",
    "    return loss_grad(w, X_train, y_train, lamb)\n",
    "\n",
    "wl1__, ki, bl, arr = descmax_bt(loss_func_, loss_grad_, w0, tau, NMax, a0, rho, c1, KMax)\n",
    "\n",
    "y_predl1 = predict(X_test, wl1__)\n",
    "\n",
    "# Se mide el desempeño calculando la matriz de confusión y la exactitud\n",
    "conf_matrix = confusion_matrix(y_test, y_predl1)\n",
    "acc_score = accuracy_score(y_test, y_predl1)\n",
    "print(\"\\nAccuracy:\", acc_score,'\\n')\n",
    "\n",
    "disp = ConfusionMatrixDisplay(confusion_matrix=conf_matrix,\n",
    "                              display_labels=model.classes_)\n",
    "disp.plot()"
   ]
  },
  {
   "cell_type": "code",
   "execution_count": 9,
   "id": "82997b21-920e-4f8d-8c0d-452dc315d971",
   "metadata": {},
   "outputs": [
    {
     "name": "stdout",
     "output_type": "stream",
     "text": [
      "\n",
      "Accuracy: 0.8360655737704918 \n",
      "\n"
     ]
    },
    {
     "data": {
      "text/plain": [
       "<sklearn.metrics._plot.confusion_matrix.ConfusionMatrixDisplay at 0x224fb007cd0>"
      ]
     },
     "execution_count": 9,
     "metadata": {},
     "output_type": "execute_result"
    },
    {
     "data": {
      "image/png": "[encoded data removed]",
      "text/plain": [
       "<Figure size 640x480 with 2 Axes>"
      ]
     },
     "metadata": {},
     "output_type": "display_data"
    }
   ],
   "source": [
    "lamb = 1.0\n",
    "\n",
    "def loss_func_(w):\n",
    "    return loss_func(w, X_train, y_train, lamb)\n",
    "\n",
    "def loss_grad_(w):\n",
    "    return loss_grad(w, X_train, y_train, lamb)\n",
    "\n",
    "wl2__, ki, bl, arr = descmax_bt(loss_func_, loss_grad_, w0, tau, NMax, a0, rho, c1, KMax)\n",
    "\n",
    "y_predl2 = predict(X_test, wl2__)\n",
    "\n",
    "# Se mide el desempeño calculando la matriz de confusión y la exactitud\n",
    "conf_matrix = confusion_matrix(y_test, y_predl2)\n",
    "acc_score = accuracy_score(y_test, y_predl2)\n",
    "print(\"\\nAccuracy:\", acc_score,'\\n')\n",
    "\n",
    "disp = ConfusionMatrixDisplay(confusion_matrix=conf_matrix,\n",
    "                              display_labels=model.classes_)\n",
    "disp.plot()"
   ]
  },
  {
   "cell_type": "markdown",
   "id": "4391c7bf-b658-4d3a-bdd7-5a48c300f609",
   "metadata": {},
   "source": [
    "```\n",
    "\n",
    "\n",
    "\n",
    "\n",
    "\n",
    "```\n",
    "\n",
    "---"
   ]
  },
  {
   "cell_type": "markdown",
   "id": "e253ac67-40f8-46fd-af9c-38bcaa21195f",
   "metadata": {},
   "source": [
    "## Ejercicio 2 (5 puntos)\n",
    "\n",
    "Usando el método de Gauss-Newton (Algoritmo 1 de la Clase 26) ajustar el modelo \n",
    "\n",
    "$$ h(t; N_{max}, r, t_0) = \\frac{N_{max}}{1 + \\exp(-r(t - t_0))}.  $$\n",
    "\n",
    "La variable $t$ representa el tiempo. Los parámetros del modelo son $N_{max}, r, t_0$.\n",
    "\n",
    "Considere el conjunto de datos $\\{(t_1, y_1), (t_2, y_2), ..., (t_m, y_m) \\}$ que generaron en la Ayudantía 12.\n",
    "\n",
    "Los datos están almacenados los vectores $\\mathbf{T}$ y $\\mathbf{Y}$:\n",
    "\n",
    "$$\n",
    "\\mathbf{T} = \\left( \\begin{array}{c} t_1 \\\\ t_2 \\\\ \\vdots \\\\ t_m \\end{array} \\right), \\qquad\n",
    "\\mathbf{Y} = \\left( \\begin{array}{c} y_1 \\\\ y_2 \\\\ \\vdots \\\\ y_m \\end{array} \\right).\n",
    "$$"
   ]
  },
  {
   "cell_type": "code",
   "execution_count": 10,
   "id": "73410069-2bdc-459d-9bf8-b464a618a2cf",
   "metadata": {},
   "outputs": [
    {
     "data": {
      "text/plain": [
       "[<matplotlib.lines.Line2D at 0x224fb00e510>]"
      ]
     },
     "execution_count": 10,
     "metadata": {},
     "output_type": "execute_result"
    },
    {
     "data": {
      "image/png": "[encoded data removed]",
      "text/plain": [
       "<Figure size 640x480 with 1 Axes>"
      ]
     },
     "metadata": {},
     "output_type": "display_data"
    }
   ],
   "source": [
    "import numpy as np\n",
    "import matplotlib.pyplot as plt\n",
    "\n",
    "def fnc_h(t, N_max, r, t0):\n",
    "    return N_max / (1 + np.exp(-r * (t - t0)))\n",
    "\n",
    "m = 500\n",
    "rnd_scale = 5e2\n",
    "params_hat = (N_max_hat, r_hat, t0_hat) = (1e4, 0.1, 5)\n",
    "T = np.linspace(0, 100, m)\n",
    "Y = fnc_h(T, *params_hat) + rnd_scale * np.random.randn(m)\n",
    "\n",
    "plt.plot(T, Y, 'o', markersize=2)\n",
    "plt.plot(T, fnc_h(T, *params_hat), 'r')"
   ]
  },
  {
   "cell_type": "markdown",
   "id": "a9215153-1405-47a3-8f3e-b8d2ad663860",
   "metadata": {},
   "source": [
    "Para resolver el problema de mínimos cuadrados no lineales hay \n",
    "que definir los residuales como la diferencia entre los que predice\n",
    "el modelo $ h(t_i; N_{max}, r, t_0)$ y el valor observado $y_i$:\n",
    "\n",
    "$$ r_i(N_{max}, r, t_0) = h(t_i; N_{max}, r, t_0) - y_i, \\quad i=1,2,...,m. $$\n",
    "\n",
    "Si definimos  $\\mathbf{z} = (N_{max}, r, t_0)$ , la función de residuales está dada por\n",
    "\n",
    "$$ \\mathbf{R}(\\mathbf{z}) = \\left( \\begin{array}{c}\n",
    "          r_{1}(\\mathbf{z}) \\\\\n",
    "          r_{2}(\\mathbf{z}) \\\\\n",
    "          \\vdots \\\\\n",
    "          r_{m}(\\mathbf{z}) \\\\\n",
    "\\end{array} \\right). $$\n",
    "\n",
    "Hay que calcular los parámetros $\\mathbf{z} = (N_{max}, r, t_0)$ resolviendo el problema\n",
    "de mínimos cuadrados no lineales.\n",
    "\n",
    "$$ \\min_{z} \\; f(\\mathbf{z}) = \\frac{1}{2}\\sum_{i=1}^m r_i^2(\\mathbf{z}) \n",
    "=  \\frac{1}{2} \\left[ \\mathbf{R}(\\mathbf{z}) \\right]^\\top  \\mathbf{R}(\\mathbf{z}). $$\n",
    "\n",
    "1. Programe el método de Gauss-Newton de acuerdo con Algoritmo 1 de la Clase 26.\n",
    "   Haga que la función devuelva el último punto $\\mathbf{z}_k$, \n",
    "   el vector $\\mathbf{p}_k$ y el número de iteraciones $k$ realizadas.\n",
    "\n",
    "2. Programe las funciones  $\\mathbf{R}(\\mathbf{z})$, $f(\\mathbf{z})$ y \n",
    "   la función que calcula matriz Jacobiana $\\mathbf{J}(\\mathbf{z})$ de $\\mathbf{R}(\\mathbf{z})$\n",
    "   para el modelo $h(t_i; N_{max}, r, t_0)$.\n",
    "3. Aplique el método de Gauss-Newton partiendo del punto inicial\n",
    "   $\\mathbf{z}_0 = (1000, 0.2, 0)$, una tolerancia $\\tau=\\epsilon_m^{1/3}$\n",
    "   \n",
    "   Imprima el punto $\\mathbf{z}_k$ que devuelve el algoritmo, el valor \n",
    "   $f(\\mathbf{z}_k)$, el número de iteraciones $k$ realizadas y la norma de $\\mathbf{p}_k$.\n",
    "   \n",
    "4. Grafique los datos y la curva del modelo usando los valores del punto inicial\n",
    "   $\\mathbf{z}_0$ y del punto $\\mathbf{z}_k$ que devuelve el algoritmo, como lo hicieron en \n",
    "   la ayudantía.\n",
    "   \n",
    "### Solución:"
   ]
  },
  {
   "cell_type": "code",
   "execution_count": 62,
   "id": "8a8faa16-0e3f-42df-ab57-d2126141dd68",
   "metadata": {},
   "outputs": [],
   "source": [
    "def bt_armijo(a0, rho, c0, x0, f_func, grad, p0, NMax):\n",
    "    a = a0\n",
    "    f = f_func(x0)\n",
    "    for k in range(NMax):\n",
    "        if f_func(x0 + (a * p0)) <= f + (c0 * a * (grad @ p0)):\n",
    "            return a\n",
    "        a *= rho\n",
    "    return 0.001\n",
    "\n",
    "def gauss_newton(ffun, resfun, jacfun, x0, Y, T, NMax, tau, a0, rho, c1, NBmax):\n",
    "    xk = x0\n",
    "    for i in range(NMax):\n",
    "        rk = resfun(T, Y, *xk)\n",
    "        jk = jacfun(xk, T, Y)\n",
    "        gk = jk.T @ rk  # Gradiente de la función de costo\n",
    "        Lk = np.linalg.cholesky(jk.T @ jk)\n",
    "        pk = np.linalg.solve(Lk.T, np.linalg.solve(Lk, -gk))\n",
    "        if np.linalg.norm(pk) < tau:\n",
    "            return xk, pk, i, True\n",
    "        ak = bt_armijo(a0, rho, c1, xk, lambda z: ffun(z, T, Y), gk, pk, NBmax)\n",
    "        xk += ak * pk\n",
    "    return xk, pk, NMax, False\n",
    "\n",
    "def fnc_h(t, N_max, r, t0):\n",
    "    return N_max / (1 + np.exp(-r * (t - t0)))\n",
    "\n",
    "def res_h(T, Y, N_max, r, t0):\n",
    "    return fnc_h(T, N_max, r, t0) - Y\n",
    "\n",
    "def jac_h(z, T, Y):\n",
    "    N_max, r, t0 = z\n",
    "    jac = np.zeros((len(T), len(z)))\n",
    "    exp_term = np.exp(-r * (T - t0))\n",
    "    denom = 1 + exp_term\n",
    "    jac[:, 0] = 1 / denom\n",
    "    jac[:, 1] = N_max * (T - t0) * exp_term / (denom**2)\n",
    "    jac[:, 2] = -N_max * r * exp_term / (denom**2)\n",
    "    return jac\n",
    "\n",
    "def f_fun(z, T, Y):\n",
    "    return 0.5 * np.linalg.norm(res_h(T, Y, *z))**2"
   ]
  },
  {
   "cell_type": "code",
   "execution_count": 69,
   "id": "ba995a4f",
   "metadata": {},
   "outputs": [],
   "source": [
    "z0 = np.array([1e3, 0.2, 0])\n",
    "tol = pow(np.finfo(float).eps, 1.0/3.0)\n",
    "\n",
    "m = 500\n",
    "rnd_scale = 5e2\n",
    "params_hat = (N_max_hat, r_hat, t0_hat) = (1e4, 0.1, 5)\n",
    "T = np.linspace(0, 100, m)\n",
    "Y = fnc_h(T, *params_hat) + rnd_scale * np.random.randn(m)\n",
    "\n",
    "zk, pk, k, bl = gauss_newton(f_fun, res_h, jac_h, z0, Y, T, 5000, tol, 1.0, 0.5, 0.001, 500)"
   ]
  },
  {
   "cell_type": "code",
   "execution_count": 70,
   "id": "45434b75",
   "metadata": {},
   "outputs": [
    {
     "name": "stdout",
     "output_type": "stream",
     "text": [
      "El valor obtenido de los parámetros es: [1.00195951e+04 1.00444871e-01 5.12449694e+00]\n",
      "El número de iteraciones fue: 11\n",
      "Se cumplió con el criterio de paro: True\n",
      "La norma del gradiente fue: 5.568781485219931e-06\n"
     ]
    }
   ],
   "source": [
    "print('El valor obtenido de los parámetros es:', zk)\n",
    "print('El número de iteraciones fue:', k)\n",
    "print('Se cumplió con el criterio de paro:', bl)\n",
    "print('La norma del gradiente fue:', np.linalg.norm(pk))"
   ]
  },
  {
   "cell_type": "code",
   "execution_count": 72,
   "id": "eb5c11dc",
   "metadata": {},
   "outputs": [
    {
     "data": {
      "image/png": "[encoded data removed]",
      "text/plain": [
       "<Figure size 640x480 with 1 Axes>"
      ]
     },
     "metadata": {},
     "output_type": "display_data"
    }
   ],
   "source": [
    "z0 = np.array([1e3, 0.2, 0])\n",
    "plt.plot(T, Y, 'o', markersize=2)\n",
    "plt.plot(T, fnc_h(T, *params_hat), 'r', label='Original')\n",
    "plt.plot(T, fnc_h(T, *z0), 'g', label='Punto inicial')\n",
    "plt.plot(T, fnc_h(T, *zk), 'b', label='Solución final')\n",
    "plt.legend()\n",
    "plt.show()"
   ]
  },
  {
   "cell_type": "markdown",
   "id": "42e5cb83-9f32-465f-9896-94b6ef2d8a57",
   "metadata": {},
   "source": [
    "```\n",
    "\n",
    "\n",
    "\n",
    "\n",
    "\n",
    "```\n",
    "\n",
    "---"
   ]
  }
 ],
 "metadata": {
  "kernelspec": {
   "display_name": "Python 3 (ipykernel)",
   "language": "python",
   "name": "python3"
  },
  "language_info": {
   "codemirror_mode": {
    "name": "ipython",
    "version": 3
   },
   "file_extension": ".py",
   "mimetype": "text/x-python",
   "name": "python",
   "nbconvert_exporter": "python",
   "pygments_lexer": "ipython3",
   "version": "3.11.7"
  }
 },
 "nbformat": 4,
 "nbformat_minor": 5
}
