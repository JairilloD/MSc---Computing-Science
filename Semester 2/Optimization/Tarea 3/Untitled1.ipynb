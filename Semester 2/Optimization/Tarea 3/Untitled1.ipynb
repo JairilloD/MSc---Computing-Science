{
 "cells": [
  {
   "cell_type": "markdown",
   "id": "d6f76bab-e3c2-4da9-be18-86f9401c940a",
   "metadata": {},
   "source": [
    "Sea $f(x) = f(x_1, x_2) = 5 + x_1^2 + x_2^2$. Si $\\textbf{x}_0 = (-1, 1)^T$, $\\textbf{p}_0 = (1, 0)^T$ y $c_1 = 10^{-4}$. Verifique que $\\textbf{p}_0$ es una direccion de descenso y encuentre el valor mas grande $\\alpha > 0$ que satisface la condicion de descenso suficiente.\n",
    "\n",
    "Primero validamos que efectivamente $\\textbf{p}_0$ sea una direccion de descenso. Sea $\\nabla f(x) = (2 x_1, 2 x_2)$ el gradiente de la funcion entonces verificamos que $\\nabla f(x) \\cdot p_0 < 0$\n",
    "\n",
    "$$ \\nabla f(x_0) \\cdot p_0 = -2 < 0 $$\n",
    "Entonces en este caso es una direccion de descenso, ahora berificamos que sea suficiente tal que\n",
    "\n",
    "$$ f(x_0 + \\alpha p_0) \\leq f(x_0) + c_1 \\alpha p_0^T \\nabla f(x_0) $$\n",
    "$$ f(x_0 + \\alpha p_0) = \\alpha^2 - 2 \\alpha + 7 $$\n",
    "$$ f(x_0) = 7 $$\n",
    "$$ c_1 \\alpha p_0^T \\nabla f(x_0) = -\\frac{2 \\alpha}{10^4} $$\n",
    "$$ \\alpha^2 - 2 \\alpha + 7 \\leq 7 - \\frac{2 \\alpha}{10^4} $$\n",
    "$$ \\alpha (alpha - 2(1 - 10^{-4})) \\leq 0 $$\n",
    "dado que $\\alpha >0$, entonces\n",
    "\n",
    "$$ alpha - 2(1 - 10^{-4}) \\leq 0 $$$$ alpha \\leq 2(1 - 10^{-4}) $$\n",
    "por lo tanto el $\\alpha$ maximo es $$ \\alpha_{max} = 2(1 - 10^{-4}) $$"
   ]
  }
 ],
 "metadata": {
  "kernelspec": {
   "display_name": "Python 3 (ipykernel)",
   "language": "python",
   "name": "python3"
  },
  "language_info": {
   "codemirror_mode": {
    "name": "ipython",
    "version": 3
   },
   "file_extension": ".py",
   "mimetype": "text/x-python",
   "name": "python",
   "nbconvert_exporter": "python",
   "pygments_lexer": "ipython3",
   "version": "3.11.7"
  }
 },
 "nbformat": 4,
 "nbformat_minor": 5
}
