{
 "cells": [
  {
   "cell_type": "markdown",
   "id": "c5062caa-d9b4-4575-aa11-db864043305d",
   "metadata": {},
   "source": [
    "Jairo Saul Diaz Soto\n",
    "\n",
    "Dr. Joaquin Peña Acevedo\n",
    "\n",
    "Optimizacion I\n",
    "\n",
    "2024 / 04 / 23"
   ]
  },
  {
   "cell_type": "markdown",
   "id": "55c6727e-fe2b-47b3-a5c4-a60e7a9b8587",
   "metadata": {},
   "source": [
    "# Ejercicio 1: Método de Newton Truncado"
   ]
  },
  {
   "cell_type": "markdown",
   "id": "d3ce711d-7afb-4a6b-bb9d-78969ade6a04",
   "metadata": {},
   "source": [
    "## Algoritmo 1: Solucion al sistema de Newton"
   ]
  },
  {
   "cell_type": "code",
   "execution_count": 75,
   "id": "1b1cd373-e48b-405a-9d67-686e953a92c4",
   "metadata": {},
   "outputs": [],
   "source": [
    "import numpy as np\n",
    "%matplotlib inline\n",
    "import matplotlib.pyplot as plt"
   ]
  },
  {
   "cell_type": "code",
   "execution_count": 76,
   "id": "4cfcc28a-4d70-45b1-898b-2c6e9a437ab3",
   "metadata": {},
   "outputs": [],
   "source": [
    "def grad_conj_New_Sys(x0, grad, hess, tol):\n",
    "    n = len(x0)\n",
    "    x = x0\n",
    "    z = np.zeros(n)\n",
    "    r = grad(x)\n",
    "    d = -r\n",
    "    for j in range(n):\n",
    "        r_norm = r@r\n",
    "        h = hess(x)\n",
    "        g = grad(x)\n",
    "        den = d@h@d\n",
    "        if (den) <= 0:\n",
    "            if j == 0:\n",
    "                p = -g\n",
    "            else:\n",
    "                p = z\n",
    "        alfa = (r_norm) / den\n",
    "        z += (alfa*d)\n",
    "        r += (alfa*(h@d))\n",
    "        r1_norm = r@r\n",
    "        beta = r1_norm/r_norm\n",
    "        d = -r + (beta*d)\n",
    "        if np.sqrt(r1_norm) < tol:\n",
    "            return z, j+1\n",
    "    return z, j+1\n",
    "\n",
    "def bt_armijo(a0, rho, c0, x0, f_func, grad_fun, p0, NMax):\n",
    "    a = a0\n",
    "    f = f_func(x0)\n",
    "    g = grad_fun(x0)\n",
    "    for k in range(NMax):\n",
    "        if f_func(x0 + (a*p0)) <= f + (c0*a*(g@p0)):\n",
    "            return a\n",
    "        a *= rho\n",
    "    return a"
   ]
  },
  {
   "cell_type": "markdown",
   "id": "b393d658-2c1d-4d00-9167-7cb813e09cb2",
   "metadata": {},
   "source": [
    "## Algoritmo 2: Metodo de busqueda en linea Newton-GC"
   ]
  },
  {
   "cell_type": "code",
   "execution_count": 77,
   "id": "264d095e-947e-4d5d-ab5d-aa0d5edd1621",
   "metadata": {},
   "outputs": [],
   "source": [
    "def New_trunc(fun, grad, hess, x0, tol, NMax, a0, rho, c0, BTMax):\n",
    "    x = x0\n",
    "    NT_a1 = 0\n",
    "    for k in range(NMax):\n",
    "        g = grad(x)\n",
    "        gnorm = g@g\n",
    "        if np.sqrt(gnorm) < tol:\n",
    "            return x, g, k+1, True, NT_a1/(k+1)\n",
    "        h = hess(x)\n",
    "        eps = min(0.5, np.sqrt(np.sqrt(gnorm)))*np.sqrt(gnorm)\n",
    "        p, t = grad_conj_New_Sys(x, grad, hess, eps)\n",
    "        NT_a1 += t\n",
    "        alpha = bt_armijo(a0, rho, c0, x, fun, grad, p, BTMax)\n",
    "        x += alpha*p\n",
    "    return x, g, k+1, False, NT_a1/(k+1)"
   ]
  },
  {
   "cell_type": "markdown",
   "id": "26505895-ff24-4d26-9037-470887ff3f11",
   "metadata": {},
   "source": [
    "## Probando el algoritmo"
   ]
  },
  {
   "cell_type": "code",
   "execution_count": 78,
   "id": "7e937f93-1cbc-4eae-99ad-cdebc4a1711c",
   "metadata": {},
   "outputs": [
    {
     "data": {
      "text/plain": [
       "2.220446049250313e-16"
      ]
     },
     "execution_count": 78,
     "metadata": {},
     "output_type": "execute_result"
    }
   ],
   "source": [
    "eps_m = np.finfo(float).eps\n",
    "NMax = 5000\n",
    "a0 = 1.0\n",
    "rho = 0.5\n",
    "c0 = 0.001\n",
    "BTMax = 500\n",
    "eps_m"
   ]
  },
  {
   "cell_type": "markdown",
   "id": "f2c49301-0fc7-4e66-abb1-c7c03d4a3850",
   "metadata": {},
   "source": [
    "### Sistema cuadratico 1    "
   ]
  },
  {
   "cell_type": "code",
   "execution_count": 79,
   "id": "0acccf5c-7366-412a-b914-aea440ba67aa",
   "metadata": {},
   "outputs": [],
   "source": [
    "def fsis1(x):\n",
    "    n = len(x)\n",
    "    A = (n * np.eye(n))+np.ones(n)\n",
    "    b = np.ones(n)\n",
    "    return ((x@A@x)/2.0) - (b@x)\n",
    "\n",
    "def gradsis1(x):\n",
    "    n = len(x)\n",
    "    A = (n * np.eye(n))+np.ones(n)\n",
    "    b = np.ones(n)\n",
    "    return (A@x) - b\n",
    "\n",
    "def hesssis1(x):\n",
    "    n = len(x)\n",
    "    A = (n * np.eye(n))+np.ones(n)\n",
    "    return A"
   ]
  },
  {
   "cell_type": "code",
   "execution_count": 80,
   "id": "73420349-8b96-48de-ab50-63bdaf68bd13",
   "metadata": {},
   "outputs": [
    {
     "name": "stdout",
     "output_type": "stream",
     "text": [
      "La dimension del sistema es:  10\n",
      "La funcion en el punto inicial es:  0.0\n",
      "El algoritmo realizo el siguiente numero de iteraciones:  2\n",
      "La funcion en el punto final es:  -0.24999999999999994\n",
      "El punto encontrado es:  [0.05 0.05 0.05 0.05] [0.05 0.05 0.05 0.05]\n",
      "La norma del residuo es:  4.440892098500626e-16\n",
      "El promedio de las iteraciones realizadas es:  0.5\n",
      "El estado de convergencia del algoritmo es:  True\n"
     ]
    }
   ],
   "source": [
    "fun = fsis1\n",
    "grad = gradsis1\n",
    "hess = hesssis1\n",
    "n =  10\n",
    "x0 = np.zeros(n)\n",
    "tol = np.sqrt(n) * pow(eps_m, 1.0/3.0)\n",
    "print('La dimension del sistema es: ', n)\n",
    "print('La funcion en el punto inicial es: ', fun(x0))\n",
    "xk, gk, k, bol, prom = New_trunc(fun, grad, hess, x0, tol, NMax, a0, rho, c0, BTMax)\n",
    "print('El algoritmo realizo el siguiente numero de iteraciones: ', k)\n",
    "print('La funcion en el punto final es: ', fun(xk))\n",
    "print('El punto encontrado es: ',xk[:4], xk[-4:])\n",
    "print('La norma del residuo es: ', np.sqrt(gk@gk))\n",
    "print('El promedio de las iteraciones realizadas es: ', prom)\n",
    "print('El estado de convergencia del algoritmo es: ',bol)"
   ]
  },
  {
   "cell_type": "code",
   "execution_count": 81,
   "id": "4dd22a94-0605-4070-b3fc-d7ad6ccd6ead",
   "metadata": {},
   "outputs": [
    {
     "name": "stdout",
     "output_type": "stream",
     "text": [
      "La dimension del sistema es:  100\n",
      "La funcion en el punto inicial es:  0.0\n",
      "El algoritmo realizo el siguiente numero de iteraciones:  2\n",
      "La funcion en el punto final es:  -0.24999999999999994\n",
      "El punto encontrado es:  [0.005 0.005 0.005 0.005] [0.005 0.005 0.005 0.005]\n",
      "La norma del residuo es:  0.0\n",
      "El promedio de las iteraciones realizadas es:  0.5\n",
      "El estado de convergencia del algoritmo es:  True\n"
     ]
    }
   ],
   "source": [
    "fun = fsis1\n",
    "grad = gradsis1\n",
    "hess = hesssis1\n",
    "n =  100\n",
    "x0 = np.zeros(n)\n",
    "tol = np.sqrt(n) * pow(eps_m, 1.0/3.0)\n",
    "print('La dimension del sistema es: ', n)\n",
    "print('La funcion en el punto inicial es: ', fun(x0))\n",
    "xk, gk, k, bol, prom = New_trunc(fun, grad, hess, x0, tol, NMax, a0, rho, c0, BTMax)\n",
    "print('El algoritmo realizo el siguiente numero de iteraciones: ', k)\n",
    "print('La funcion en el punto final es: ', fun(xk))\n",
    "print('El punto encontrado es: ',xk[:4], xk[-4:])\n",
    "print('La norma del residuo es: ', np.sqrt(gk@gk))\n",
    "print('El promedio de las iteraciones realizadas es: ', prom)\n",
    "print('El estado de convergencia del algoritmo es: ',bol)"
   ]
  },
  {
   "cell_type": "code",
   "execution_count": 82,
   "id": "0d251c44-a2ac-4391-935c-c4c288fb70d2",
   "metadata": {},
   "outputs": [
    {
     "name": "stdout",
     "output_type": "stream",
     "text": [
      "La dimension del sistema es:  1000\n",
      "La funcion en el punto inicial es:  0.0\n",
      "El algoritmo realizo el siguiente numero de iteraciones:  2\n",
      "La funcion en el punto final es:  -0.2500000000000009\n",
      "El punto encontrado es:  [0.0005 0.0005 0.0005 0.0005] [0.0005 0.0005 0.0005 0.0005]\n",
      "La norma del residuo es:  1.4043333874306804e-14\n",
      "El promedio de las iteraciones realizadas es:  0.5\n",
      "El estado de convergencia del algoritmo es:  True\n"
     ]
    }
   ],
   "source": [
    "fun = fsis1\n",
    "grad = gradsis1\n",
    "hess = hesssis1\n",
    "n =  1000\n",
    "x0 = np.zeros(n)\n",
    "tol = np.sqrt(n) * pow(eps_m, 1.0/3.0)\n",
    "print('La dimension del sistema es: ', n)\n",
    "print('La funcion en el punto inicial es: ', fun(x0))\n",
    "xk, gk, k, bol, prom = New_trunc(fun, grad, hess, x0, tol, NMax, a0, rho, c0, BTMax)\n",
    "print('El algoritmo realizo el siguiente numero de iteraciones: ', k)\n",
    "print('La funcion en el punto final es: ', fun(xk))\n",
    "print('El punto encontrado es: ',xk[:4], xk[-4:])\n",
    "print('La norma del residuo es: ', np.sqrt(gk@gk))\n",
    "print('El promedio de las iteraciones realizadas es: ', prom)\n",
    "print('El estado de convergencia del algoritmo es: ',bol)"
   ]
  },
  {
   "cell_type": "markdown",
   "id": "c3bfccef-15b0-4739-8340-25c9ddf80555",
   "metadata": {},
   "source": [
    "### Sistema cuadratico 2"
   ]
  },
  {
   "cell_type": "code",
   "execution_count": 83,
   "id": "965e26c1-f700-467d-a993-4c8fcafa0f5f",
   "metadata": {},
   "outputs": [],
   "source": [
    "def fsis2(x):\n",
    "    n = len(x)\n",
    "    i, j = np.indices((n, n))\n",
    "    A = np.exp(-0.25 * ((i - j) ** 2))\n",
    "    b = np.ones(n)\n",
    "    return ((x@A@x)/2.0) - (b@x)\n",
    "\n",
    "def gradsis2(x):\n",
    "    n = len(x)\n",
    "    i, j = np.indices((n, n))\n",
    "    A = np.exp(-0.25 * ((i - j) ** 2))\n",
    "    b = np.ones(n)\n",
    "    return (A@x) - b\n",
    "\n",
    "def hesssis2(x):\n",
    "    n = len(x)\n",
    "    i, j = np.indices((n, n))\n",
    "    A = np.exp(-0.25 * ((i - j) ** 2))\n",
    "    return A"
   ]
  },
  {
   "cell_type": "code",
   "execution_count": 84,
   "id": "175d5103-c048-48f0-b1a7-73ac5304910e",
   "metadata": {},
   "outputs": [
    {
     "name": "stdout",
     "output_type": "stream",
     "text": [
      "La dimension del sistema es:  10\n",
      "La funcion en el punto inicial es:  0.0\n",
      "El algoritmo realizo el siguiente numero de iteraciones:  5\n",
      "La funcion en el punto final es:  -1.7934208025263516\n",
      "El punto encontrado es:  [ 1.36909916 -1.16637682  1.60908281 -0.61339053] [-0.61339053  1.60908281 -1.16637682  1.36909916]\n",
      "La norma del residuo es:  1.2860843883470342e-12\n",
      "El promedio de las iteraciones realizadas es:  2.6\n",
      "El estado de convergencia del algoritmo es:  True\n"
     ]
    }
   ],
   "source": [
    "fun = fsis2\n",
    "grad = gradsis2\n",
    "hess = hesssis2\n",
    "n =  10\n",
    "x0 = np.zeros(n)\n",
    "tol = np.sqrt(n) * pow(eps_m, 1.0/3.0)\n",
    "print('La dimension del sistema es: ', n)\n",
    "print('La funcion en el punto inicial es: ', fun(x0))\n",
    "xk, gk, k, bol, prom = New_trunc(fun, grad, hess, x0, tol, NMax, a0, rho, c0, BTMax)\n",
    "print('El algoritmo realizo el siguiente numero de iteraciones: ', k)\n",
    "print('La funcion en el punto final es: ', fun(xk))\n",
    "print('El punto encontrado es: ',xk[:4], xk[-4:])\n",
    "print('La norma del residuo es: ', np.sqrt(gk@gk))\n",
    "print('El promedio de las iteraciones realizadas es: ', prom)\n",
    "print('El estado de convergencia del algoritmo es: ',bol)"
   ]
  },
  {
   "cell_type": "code",
   "execution_count": 85,
   "id": "d9d7b0bd-488b-41ec-b37d-6a34b1ed823b",
   "metadata": {},
   "outputs": [
    {
     "name": "stdout",
     "output_type": "stream",
     "text": [
      "La dimension del sistema es:  100\n",
      "La funcion en el punto inicial es:  0.0\n",
      "El algoritmo realizo el siguiente numero de iteraciones:  8\n",
      "La funcion en el punto final es:  -14.494331330867832\n",
      "El punto encontrado es:  [ 1.4462996  -1.41639333  2.11058291 -1.42517419] [-1.42517327  2.11058428 -1.41639338  1.44629885]\n",
      "La norma del residuo es:  7.955517075444564e-06\n",
      "El promedio de las iteraciones realizadas es:  28.5\n",
      "El estado de convergencia del algoritmo es:  True\n"
     ]
    }
   ],
   "source": [
    "fun = fsis2\n",
    "grad = gradsis2\n",
    "hess = hesssis2\n",
    "n =  100\n",
    "x0 = np.zeros(n)\n",
    "tol = np.sqrt(n) * pow(eps_m, 1.0/3.0)\n",
    "print('La dimension del sistema es: ', n)\n",
    "print('La funcion en el punto inicial es: ', fun(x0))\n",
    "xk, gk, k, bol, prom = New_trunc(fun, grad, hess, x0, tol, NMax, a0, rho, c0, BTMax)\n",
    "print('El algoritmo realizo el siguiente numero de iteraciones: ', k)\n",
    "print('La funcion en el punto final es: ', fun(xk))\n",
    "print('El punto encontrado es: ',xk[:4], xk[-4:])\n",
    "print('La norma del residuo es: ', np.sqrt(gk@gk))\n",
    "print('El promedio de las iteraciones realizadas es: ', prom)\n",
    "print('El estado de convergencia del algoritmo es: ',bol)"
   ]
  },
  {
   "cell_type": "code",
   "execution_count": 86,
   "id": "ce0c8421-c707-4d12-8cd0-d89c535cfd57",
   "metadata": {},
   "outputs": [
    {
     "name": "stdout",
     "output_type": "stream",
     "text": [
      "La dimension del sistema es:  1000\n",
      "La funcion en el punto inicial es:  0.0\n",
      "El algoritmo realizo el siguiente numero de iteraciones:  8\n",
      "La funcion en el punto final es:  -141.43698763227385\n",
      "El punto encontrado es:  [ 1.44628334 -1.41634395  2.11049252 -1.42505022] [-1.42505022  2.11049252 -1.41634395  1.44628334]\n",
      "La norma del residuo es:  8.219444096701413e-06\n",
      "El promedio de las iteraciones realizadas es:  53.75\n",
      "El estado de convergencia del algoritmo es:  True\n"
     ]
    }
   ],
   "source": [
    "fun = fsis2\n",
    "grad = gradsis2\n",
    "hess = hesssis2\n",
    "n =  1000\n",
    "x0 = np.zeros(n)\n",
    "tol = np.sqrt(n) * pow(eps_m, 1.0/3.0)\n",
    "print('La dimension del sistema es: ', n)\n",
    "print('La funcion en el punto inicial es: ', fun(x0))\n",
    "xk, gk, k, bol, prom = New_trunc(fun, grad, hess, x0, tol, NMax, a0, rho, c0, BTMax)\n",
    "print('El algoritmo realizo el siguiente numero de iteraciones: ', k)\n",
    "print('La funcion en el punto final es: ', fun(xk))\n",
    "print('El punto encontrado es: ',xk[:4], xk[-4:])\n",
    "print('La norma del residuo es: ', np.sqrt(gk@gk))\n",
    "print('El promedio de las iteraciones realizadas es: ', prom)\n",
    "print('El estado de convergencia del algoritmo es: ',bol)"
   ]
  },
  {
   "cell_type": "markdown",
   "id": "2a4191ed-bb7a-4556-adf2-4a35d6f2bba0",
   "metadata": {},
   "source": [
    "### Funcion de Beale"
   ]
  },
  {
   "cell_type": "code",
   "execution_count": 87,
   "id": "867644d2-ea2c-4238-a664-eeb63d0b67e6",
   "metadata": {},
   "outputs": [],
   "source": [
    "def beale(x):\n",
    "    return (1.5 - x[0] + (x[0]*x[1]))**2 + (2.25 - x[0] + (x[0]*x[1]**2))**2 + (2.625 - x[0] + (x[0]*x[1]**3))**2\n",
    "    \n",
    "def beale_grad(x):\n",
    "    return np.array([ (2*(x[1] - 1) * (1.5 - x[0] + (x[0]*x[1]))) + (2*(x[1]**2 - 1)*(2.25 - x[0] + (x[0]*x[1]**2))) + (2*(x[1]**3 - 1)*(2.625 - x[0] + (x[0]*x[1]**3))), \n",
    "                    (2*x[0]*(1.5 - x[0] + (x[0]*x[1]))) + (4*(x[0]*x[1])*(2.25 - x[0] + (x[0]*x[1]**2))) + (6*(x[0]*x[1]**2)*(2.625 - x[0] + (x[0]*x[1]**3)))])\n",
    "\n",
    "def beale_hess(x):\n",
    "    dxx = 2*(((x[1]-1)**2) + (((x[1]**2)-1)**2) + (((x[1]**3)-1)**2))\n",
    "    dyy = (2*x[0]**2) + (4*x[0]*(2.25-x[0]+(x[0]*x[1]**2))) + (8*(x[0]*x[1])**2) + (12*x[0]*x[1]*(2.625-x[0]+(x[0]*x[1]**3))) +(18*(x[0]*x[1]**2)**2)\n",
    "    dxy = (2*(1.5-x[0]+(x[0]*x[1]))) + (2*x[0]*(x[1]-1)) + (4*x[1]*(2.25-x[0]+(x[0]*x[1]**2))) + (4*x[0]*x[1]*(x[1]**2 - 1)) + (6*x[1]**2 *(2.625-x[0] + (x[0]*x[1]**3))) + (6*x[0]*x[1]**2*(x[1]**3 - 1))\n",
    "    return np.array([[dxx, dxy],\n",
    "                    [dxy, dyy]])"
   ]
  },
  {
   "cell_type": "code",
   "execution_count": 88,
   "id": "4b91712e-b725-4916-bffa-7a6616a8ca12",
   "metadata": {},
   "outputs": [
    {
     "name": "stdout",
     "output_type": "stream",
     "text": [
      "La dimension del sistema es:  2\n",
      "La funcion en el punto inicial es:  3347.203125\n",
      "El algoritmo realizo el siguiente numero de iteraciones:  16\n",
      "La funcion en el punto final es:  1.3705908845074578e-18\n",
      "El punto encontrado es:  [3.  0.5] [3.  0.5]\n",
      "La norma del residuo es:  1.5461998487813463e-09\n",
      "El promedio de las iteraciones realizadas es:  1.25\n",
      "El estado de convergencia del algoritmo es:  True\n"
     ]
    }
   ],
   "source": [
    "fun = beale\n",
    "grad = beale_grad\n",
    "hess = beale_hess\n",
    "x0 = np.array([2.0,3.0])\n",
    "n = len(x0)\n",
    "tol = np.sqrt(n) * pow(eps_m, 1.0/3.0)\n",
    "print('La dimension del sistema es: ', n)\n",
    "print('La funcion en el punto inicial es: ', fun(x0))\n",
    "xk, gk, k, bol, prom = New_trunc(fun, grad, hess, x0, tol, NMax, a0, rho, c0, BTMax)\n",
    "print('El algoritmo realizo el siguiente numero de iteraciones: ', k)\n",
    "print('La funcion en el punto final es: ', fun(xk))\n",
    "print('El punto encontrado es: ',xk[:4], xk[-4:])\n",
    "print('La norma del residuo es: ', np.sqrt(gk@gk))\n",
    "print('El promedio de las iteraciones realizadas es: ', prom)\n",
    "print('El estado de convergencia del algoritmo es: ',bol)"
   ]
  },
  {
   "cell_type": "markdown",
   "id": "b4e61e37-0710-4374-8fcb-a202a875ea21",
   "metadata": {},
   "source": [
    "### Funcion de Himmelblau"
   ]
  },
  {
   "cell_type": "code",
   "execution_count": 89,
   "id": "37a08c3d-2af2-4ce8-88d7-b9c4b1d9a96a",
   "metadata": {},
   "outputs": [],
   "source": [
    "def himmelblau(x):\n",
    "    return ((x[0]**2) + x[1] - 11)**2 + (x[0] + (x[1]**2) - 7)**2\n",
    "\n",
    "def himmelblau_grad(x):\n",
    "    return np.array([(4*x[0]*((x[0]**2) + x[1] - 11)) + (2*(x[0] + (x[1]**2) - 7)),\n",
    "                     (2*((x[0]**2) + x[1] - 11)) + (4*x[1]*(x[0] + (x[1]**2) - 7))])\n",
    "\n",
    "def himmelblau_hess(x):\n",
    "    dxx = (12*(x[0]**2)) + (4*x[1]) - 42\n",
    "    dxy = 4*(x[0]+x[1])\n",
    "    dyy = (12*(x[1]**2)) + (4*x[0]) - 26\n",
    "    return np.array([[dxx, dxy],\n",
    "                    [dxy, dyy]])"
   ]
  },
  {
   "cell_type": "code",
   "execution_count": 90,
   "id": "45a31d9d-f732-4927-8ef5-efc0dc358dc9",
   "metadata": {},
   "outputs": [
    {
     "name": "stdout",
     "output_type": "stream",
     "text": [
      "La dimension del sistema es:  2\n",
      "La funcion en el punto inicial es:  32.0\n",
      "El algoritmo realizo el siguiente numero de iteraciones:  8\n",
      "La funcion en el punto final es:  4.278153616638212e-24\n",
      "El punto encontrado es:  [3. 2.] [3. 2.]\n",
      "La norma del residuo es:  1.6245436232734804e-11\n",
      "El promedio de las iteraciones realizadas es:  1.375\n",
      "El estado de convergencia del algoritmo es:  True\n"
     ]
    }
   ],
   "source": [
    "fun = himmelblau\n",
    "grad = himmelblau_grad\n",
    "hess = himmelblau_hess\n",
    "x0 = np.array([2.0,3.0])\n",
    "n = len(x0)\n",
    "tol = np.sqrt(n) * pow(eps_m, 1.0/3.0)\n",
    "print('La dimension del sistema es: ', n)\n",
    "print('La funcion en el punto inicial es: ', fun(x0))\n",
    "xk, gk, k, bol, prom = New_trunc(fun, grad, hess, x0, tol, NMax, a0, rho, c0, BTMax)\n",
    "print('El algoritmo realizo el siguiente numero de iteraciones: ', k)\n",
    "print('La funcion en el punto final es: ', fun(xk))\n",
    "print('El punto encontrado es: ',xk[:4], xk[-4:])\n",
    "print('La norma del residuo es: ', np.sqrt(gk@gk))\n",
    "print('El promedio de las iteraciones realizadas es: ', prom)\n",
    "print('El estado de convergencia del algoritmo es: ',bol)"
   ]
  },
  {
   "cell_type": "markdown",
   "id": "f8903208-23b1-4993-a00d-919bc7970995",
   "metadata": {},
   "source": [
    "### Funcion de Rosenbrock"
   ]
  },
  {
   "cell_type": "code",
   "execution_count": 91,
   "id": "eb1de262-891e-4bbb-b8e7-6dc8e6fc1d94",
   "metadata": {},
   "outputs": [],
   "source": [
    "def rosenbrock(x):\n",
    "    n = len(x)\n",
    "    res = 0\n",
    "    for k in range(n-1):\n",
    "        res += (100 * (x[k+1] - (x[k]**2))**2 ) + (1-x[k])**2\n",
    "    return res\n",
    "\n",
    "def rosenbrock_grad(x):\n",
    "    gradient = np.zeros_like(x)\n",
    "    n = len(x)\n",
    "    for i in range(n-1):\n",
    "        gradient[i] += -400 * x[i] * (x[i+1] - x[i]**2) - 2 * (1 - x[i])\n",
    "        gradient[i+1] += 200 * (x[i+1] - x[i]**2)\n",
    "    return gradient\n",
    "\n",
    "def rosenbrock_hess(x):\n",
    "    n = len(x)\n",
    "    sol = np.zeros((n, n))\n",
    "    for i in range(n-1):\n",
    "        sol[i, i] += 1200 * x[i]**2 - 400 * x[i+1] + 2\n",
    "        sol[i, i+1] = -400 * x[i]\n",
    "        sol[i+1, i] = -400 * x[i]\n",
    "        sol[i+1, i+1] += 200\n",
    "    return sol"
   ]
  },
  {
   "cell_type": "code",
   "execution_count": 92,
   "id": "a6a6a98e-7439-4da8-95a6-30e9bda80bd9",
   "metadata": {},
   "outputs": [],
   "source": [
    "from itertools import cycle"
   ]
  },
  {
   "cell_type": "code",
   "execution_count": 93,
   "id": "0bdf0ed7-a689-4a4f-838d-b2f2415d044b",
   "metadata": {},
   "outputs": [
    {
     "name": "stdout",
     "output_type": "stream",
     "text": [
      "La dimension del sistema es:  2\n",
      "La funcion en el punto inicial es:  24.199999999999996\n",
      "El algoritmo realizo el siguiente numero de iteraciones:  5000\n",
      "La funcion en el punto final es:  4.1283827506644295\n",
      "El punto encontrado es:  [-1.03089402  1.06894911] [-1.03089402  1.06894911]\n",
      "La norma del residuo es:  1.9489000011595017\n",
      "El promedio de las iteraciones realizadas es:  1.9996\n",
      "El estado de convergencia del algoritmo es:  False\n"
     ]
    }
   ],
   "source": [
    "fun = rosenbrock\n",
    "grad = rosenbrock_grad\n",
    "hess = rosenbrock_hess\n",
    "n = 2\n",
    "cic = cycle([-1.2, 1.0])\n",
    "x0 = np.asarray([next(cic) for _ in range(n)])\n",
    "tol = np.sqrt(n) * pow(eps_m, 1.0/3.0)\n",
    "print('La dimension del sistema es: ', n)\n",
    "print('La funcion en el punto inicial es: ', fun(x0))\n",
    "xk, gk, k, bol, prom = New_trunc(fun, grad, hess, x0, tol, NMax, a0, rho, c0, BTMax)\n",
    "print('El algoritmo realizo el siguiente numero de iteraciones: ', k)\n",
    "print('La funcion en el punto final es: ', fun(xk))\n",
    "print('El punto encontrado es: ',xk[:4], xk[-4:])\n",
    "print('La norma del residuo es: ', np.sqrt(gk@gk))\n",
    "print('El promedio de las iteraciones realizadas es: ', prom)\n",
    "print('El estado de convergencia del algoritmo es: ',bol)"
   ]
  },
  {
   "cell_type": "code",
   "execution_count": 94,
   "id": "174135b8-8b9b-496d-beed-734bb74fcc2f",
   "metadata": {},
   "outputs": [
    {
     "name": "stdout",
     "output_type": "stream",
     "text": [
      "La dimension del sistema es:  20\n",
      "La funcion en el punto inicial es:  4597.999999999999\n",
      "El algoritmo realizo el siguiente numero de iteraciones:  5000\n",
      "La funcion en el punto final es:  19.485858160414168\n",
      "El punto encontrado es:  [-0.48043969  0.24611368  0.07085676  0.01506877] [ 0.00980955  0.00984579  0.00979969 -0.00074647]\n",
      "La norma del residuo es:  0.5998256454908426\n",
      "El promedio de las iteraciones realizadas es:  3.995\n",
      "El estado de convergencia del algoritmo es:  False\n"
     ]
    }
   ],
   "source": [
    "fun = rosenbrock\n",
    "grad = rosenbrock_grad\n",
    "hess = rosenbrock_hess\n",
    "n = 20\n",
    "cic = cycle([-1.2, 1.0])\n",
    "x0 = np.asarray([next(cic) for _ in range(n)])\n",
    "tol = np.sqrt(n) * pow(eps_m, 1.0/3.0)\n",
    "print('La dimension del sistema es: ', n)\n",
    "print('La funcion en el punto inicial es: ', fun(x0))\n",
    "xk, gk, k, bol, prom = New_trunc(fun, grad, hess, x0, tol, NMax, a0, rho, c0, BTMax)\n",
    "print('El algoritmo realizo el siguiente numero de iteraciones: ', k)\n",
    "print('La funcion en el punto final es: ', fun(xk))\n",
    "print('El punto encontrado es: ',xk[:4], xk[-4:])\n",
    "print('La norma del residuo es: ', np.sqrt(gk@gk))\n",
    "print('El promedio de las iteraciones realizadas es: ', prom)\n",
    "print('El estado de convergencia del algoritmo es: ',bol)"
   ]
  },
  {
   "cell_type": "code",
   "execution_count": 95,
   "id": "82b0179f-c4bf-40f2-b5e3-c96c773e1921",
   "metadata": {},
   "outputs": [
    {
     "name": "stdout",
     "output_type": "stream",
     "text": [
      "La dimension del sistema es:  40\n",
      "La funcion en el punto inicial es:  9680.0\n",
      "El algoritmo realizo el siguiente numero de iteraciones:  5000\n",
      "La funcion en el punto final es:  39.280142128565444\n",
      "El punto encontrado es:  [-0.4725734   0.23611689  0.06824944  0.01486865] [0.01076861 0.01008426 0.00853748 0.00052575]\n",
      "La norma del residuo es:  0.8996789694022954\n",
      "El promedio de las iteraciones realizadas es:  3.9954\n",
      "El estado de convergencia del algoritmo es:  False\n"
     ]
    }
   ],
   "source": [
    "fun = rosenbrock\n",
    "grad = rosenbrock_grad\n",
    "hess = rosenbrock_hess\n",
    "n = 40\n",
    "cic = cycle([-1.2, 1.0])\n",
    "x0 = np.asarray([next(cic) for _ in range(n)])\n",
    "tol = np.sqrt(n) * pow(eps_m, 1.0/3.0)\n",
    "print('La dimension del sistema es: ', n)\n",
    "print('La funcion en el punto inicial es: ', fun(x0))\n",
    "xk, gk, k, bol, prom = New_trunc(fun, grad, hess, x0, tol, NMax, a0, rho, c0, BTMax)\n",
    "print('El algoritmo realizo el siguiente numero de iteraciones: ', k)\n",
    "print('La funcion en el punto final es: ', fun(xk))\n",
    "print('El punto encontrado es: ',xk[:4], xk[-4:])\n",
    "print('La norma del residuo es: ', np.sqrt(gk@gk))\n",
    "print('El promedio de las iteraciones realizadas es: ', prom)\n",
    "print('El estado de convergencia del algoritmo es: ',bol)"
   ]
  },
  {
   "cell_type": "markdown",
   "id": "c5dc774a-a79b-4f72-b336-cff4baf18d51",
   "metadata": {},
   "source": [
    "# Ejercicio 2: Diferencias finitas"
   ]
  },
  {
   "cell_type": "markdown",
   "id": "268babb7-611d-4f0c-bfb7-9a5295baecb1",
   "metadata": {},
   "source": [
    "## Gradiente por diferencias finitas hacia delante"
   ]
  },
  {
   "cell_type": "code",
   "execution_count": 149,
   "id": "83ad699f-b254-40f7-a0f2-377c6d11944e",
   "metadata": {},
   "outputs": [],
   "source": [
    "def grad_fin_diff_fw(fun, x0, h):\n",
    "    n = len(x0)\n",
    "    grad = np.zeros(n)\n",
    "    f0 = fun(x0)\n",
    "    for i in range(n):\n",
    "        x = np.copy(x0)\n",
    "        x[i] += h\n",
    "        grad[i] = (fun(x) - f0) / h\n",
    "    return grad"
   ]
  },
  {
   "cell_type": "markdown",
   "id": "49f1bd95-8810-4f86-a283-965ad8c83392",
   "metadata": {},
   "source": [
    "## Hessiana por diferencias finitas"
   ]
  },
  {
   "cell_type": "code",
   "execution_count": 150,
   "id": "b44e1046-2ed2-45c2-8159-5546c8f7ba0b",
   "metadata": {},
   "outputs": [],
   "source": [
    "def hess_fin_diff(fun, x0, h):\n",
    "    n = len(x0)\n",
    "    hess = np.zeros((n,n))\n",
    "    f0 = fun(x0)\n",
    "    for i in range(n):\n",
    "        xi = np.copy(x0)\n",
    "        xi[i] += h\n",
    "        for j in range(n):\n",
    "            xj = np.copy(x0)\n",
    "            xj[j] += h\n",
    "            xij = np.copy(x0)\n",
    "            xij[i] += h\n",
    "            xij[j] += h\n",
    "            hess[i,j] = (fun(xij) - fun(xi) - fun(xj) + f0) / (h**2)\n",
    "    return hess"
   ]
  },
  {
   "cell_type": "markdown",
   "id": "10e41f23-ce1d-4757-8464-31de34b4838e",
   "metadata": {},
   "source": [
    "## Error relativo del gradiente"
   ]
  },
  {
   "cell_type": "code",
   "execution_count": 175,
   "id": "ba5ce7b8-b105-4fc6-8cff-375085301bc5",
   "metadata": {},
   "outputs": [],
   "source": [
    "def errorRelativo_grad(fncf, gradf, n, nt, h):\n",
    "\n",
    "    '''\n",
    "    Imprime estadísticas sobre el error relativo entre el gradiente analítico\n",
    "    de una función y el cálculado con autograd.\n",
    "    fncf - Función f\n",
    "    gradf - Implementación del gradiente analítico de la función f\n",
    "    n - Dimensión de la variable n\n",
    "    nt - Número de puntos aleatorios en donde se comparan los gradientes\n",
    "    '''\n",
    "    \n",
    "    ve = np.zeros(nt)\n",
    "    print('\\nErrores relativos en el cálculo del gradiente:')\n",
    "    for it in range(nt):\n",
    "        x0 = np.random.randn(n)\n",
    "        g0 = gradf(x0)\n",
    "        ga = grad_fin_diff_fw(fncf, x0, h)\n",
    "        ve[it] = np.linalg.norm(g0-ga)/np.linalg.norm(ga)\n",
    "    print('Min: %.2e Media: %.2e Max: %.2e' %(np.min(ve), np.mean(ve), np.max(ve)))"
   ]
  },
  {
   "cell_type": "markdown",
   "id": "0729fce6-20aa-433c-a4ab-559fcfc33607",
   "metadata": {},
   "source": [
    "## Error relativo de la hessiana"
   ]
  },
  {
   "cell_type": "code",
   "execution_count": 176,
   "id": "0cf7893c-8ec3-49d8-81d8-30a6a7516c9a",
   "metadata": {},
   "outputs": [],
   "source": [
    "def errorRelativo_hess(fncf, hessf, n, nt, h):\n",
    "\n",
    "    '''\n",
    "    Imprime estadísticas sobre el error relativo entre el gradiente analítico\n",
    "    de una función y el cálculado con autograd.\n",
    "    fncf - Función f\n",
    "    gradf - Implementación del gradiente analítico de la función f\n",
    "    n - Dimensión de la variable n\n",
    "    nt - Número de puntos aleatorios en donde se comparan los gradientes\n",
    "    '''\n",
    "    \n",
    "    ve = np.zeros(nt)\n",
    "    print('\\nErrores relativos en el cálculo de la hessiana:')\n",
    "    for it in range(nt):\n",
    "        x0 = np.random.randn(n)\n",
    "        g0 = hessf(x0)\n",
    "        ga = hess_fin_diff(fncf, x0, h)\n",
    "        ve[it] = np.linalg.norm(g0-ga)/np.linalg.norm(ga)\n",
    "    print('Min: %.2e Media: %.2e Max: %.2e' %(np.min(ve), np.mean(ve), np.max(ve)))"
   ]
  },
  {
   "cell_type": "markdown",
   "id": "c000c9fe-bd8b-412d-b45a-33c8037b3204",
   "metadata": {},
   "source": [
    "## Error entre estimacion por diferencias finitas y funcion analitica"
   ]
  },
  {
   "cell_type": "markdown",
   "id": "2575d397-9261-4439-9c8b-4cca97a637a5",
   "metadata": {},
   "source": [
    "### Sistema cuadratico 1"
   ]
  },
  {
   "cell_type": "code",
   "execution_count": 178,
   "id": "5b72bad4-7183-430a-82b1-e5270a478d51",
   "metadata": {},
   "outputs": [
    {
     "name": "stdout",
     "output_type": "stream",
     "text": [
      "\n",
      "Errores relativos en el cálculo del gradiente:\n",
      "Min: 2.71e-06 Media: 5.22e-06 Max: 1.18e-05\n",
      "\n",
      "Errores relativos en el cálculo del gradiente:\n",
      "Min: 2.73e-07 Media: 5.47e-07 Max: 1.27e-06\n",
      "\n",
      "Errores relativos en el cálculo del gradiente:\n",
      "Min: 2.89e-08 Media: 5.32e-08 Max: 1.05e-07\n",
      "\n",
      "Errores relativos en el cálculo del gradiente:\n",
      "Min: 9.69e-09 Media: 6.06e-08 Max: 1.65e-07\n",
      "\n",
      "Errores relativos en el cálculo de la hessiana:\n",
      "Min: 4.92e-06 Media: 3.21e-05 Max: 8.33e-05\n",
      "\n",
      "Errores relativos en el cálculo de la hessiana:\n",
      "Min: 5.68e-04 Media: 2.83e-03 Max: 8.75e-03\n",
      "\n",
      "Errores relativos en el cálculo de la hessiana:\n",
      "Min: 4.79e-02 Media: 2.55e-01 Max: 8.25e-01\n",
      "\n",
      "Errores relativos en el cálculo de la hessiana:\n",
      "Min: 9.40e-01 Media: 9.95e-01 Max: 1.04e+00\n"
     ]
    }
   ],
   "source": [
    "n = 10\n",
    "fun = fsis1\n",
    "grad = gradsis1\n",
    "hess =  hesssis1\n",
    "errorRelativo_grad(fun, grad, 10, 100, 1E-5)\n",
    "errorRelativo_grad(fun, grad, 10, 100, 1E-6)\n",
    "errorRelativo_grad(fun, grad, 10, 100, 1E-7)\n",
    "errorRelativo_grad(fun, grad, 10, 100, 1E-8)\n",
    "errorRelativo_hess(fun, hess, 10, 100, 1E-5)\n",
    "errorRelativo_hess(fun, hess, 10, 100, 1E-6)\n",
    "errorRelativo_hess(fun, hess, 10, 100, 1E-7)\n",
    "errorRelativo_hess(fun, hess, 10, 100, 1E-8)"
   ]
  },
  {
   "cell_type": "code",
   "execution_count": 179,
   "id": "1342de0d-fb27-4891-bc01-e7dfb3e6f73b",
   "metadata": {},
   "outputs": [
    {
     "name": "stdout",
     "output_type": "stream",
     "text": [
      "\n",
      "Errores relativos en el cálculo del gradiente:\n",
      "Min: 2.51e-06 Media: 5.49e-06 Max: 1.36e-05\n",
      "\n",
      "Errores relativos en el cálculo del gradiente:\n",
      "Min: 2.45e-07 Media: 5.49e-07 Max: 9.78e-07\n",
      "\n",
      "Errores relativos en el cálculo del gradiente:\n",
      "Min: 2.61e-08 Media: 5.51e-08 Max: 1.03e-07\n",
      "\n",
      "Errores relativos en el cálculo del gradiente:\n",
      "Min: 1.22e-08 Media: 5.44e-08 Max: 1.38e-07\n",
      "\n",
      "Errores relativos en el cálculo de la hessiana:\n",
      "Min: 1.68e-06 Media: 2.85e-05 Max: 8.28e-05\n",
      "\n",
      "Errores relativos en el cálculo de la hessiana:\n",
      "Min: 4.36e-04 Media: 2.90e-03 Max: 8.89e-03\n",
      "\n",
      "Errores relativos en el cálculo de la hessiana:\n",
      "Min: 5.80e-02 Media: 2.72e-01 Max: 1.00e+00\n",
      "\n",
      "Errores relativos en el cálculo de la hessiana:\n",
      "Min: 9.15e-01 Media: 9.98e-01 Max: 1.05e+00\n"
     ]
    }
   ],
   "source": [
    "n = 100\n",
    "fun = fsis1\n",
    "grad = gradsis1\n",
    "hess =  hesssis1\n",
    "errorRelativo_grad(fun, grad, 10, 100, 1E-5)\n",
    "errorRelativo_grad(fun, grad, 10, 100, 1E-6)\n",
    "errorRelativo_grad(fun, grad, 10, 100, 1E-7)\n",
    "errorRelativo_grad(fun, grad, 10, 100, 1E-8)\n",
    "errorRelativo_hess(fun, hess, 10, 100, 1E-5)\n",
    "errorRelativo_hess(fun, hess, 10, 100, 1E-6)\n",
    "errorRelativo_hess(fun, hess, 10, 100, 1E-7)\n",
    "errorRelativo_hess(fun, hess, 10, 100, 1E-8)"
   ]
  },
  {
   "cell_type": "code",
   "execution_count": 180,
   "id": "e7f9f40f-1f63-4dab-969d-f88b3223a112",
   "metadata": {},
   "outputs": [
    {
     "name": "stdout",
     "output_type": "stream",
     "text": [
      "\n",
      "Errores relativos en el cálculo del gradiente:\n",
      "Min: 2.40e-06 Media: 5.12e-06 Max: 9.43e-06\n",
      "\n",
      "Errores relativos en el cálculo del gradiente:\n",
      "Min: 2.75e-07 Media: 5.25e-07 Max: 8.70e-07\n",
      "\n",
      "Errores relativos en el cálculo del gradiente:\n",
      "Min: 1.78e-08 Media: 5.26e-08 Max: 1.14e-07\n",
      "\n",
      "Errores relativos en el cálculo del gradiente:\n",
      "Min: 2.14e-08 Media: 6.25e-08 Max: 2.32e-07\n",
      "\n",
      "Errores relativos en el cálculo de la hessiana:\n",
      "Min: 7.07e-06 Media: 3.29e-05 Max: 9.11e-05\n",
      "\n",
      "Errores relativos en el cálculo de la hessiana:\n",
      "Min: 8.43e-04 Media: 2.68e-03 Max: 7.54e-03\n",
      "\n",
      "Errores relativos en el cálculo de la hessiana:\n",
      "Min: 3.94e-02 Media: 2.58e-01 Max: 7.70e-01\n",
      "\n",
      "Errores relativos en el cálculo de la hessiana:\n",
      "Min: 9.23e-01 Media: 9.99e-01 Max: 1.03e+00\n"
     ]
    }
   ],
   "source": [
    "n = 1000\n",
    "fun = fsis1\n",
    "grad = gradsis1\n",
    "hess =  hesssis1\n",
    "errorRelativo_grad(fun, grad, 10, 100, 1E-5)\n",
    "errorRelativo_grad(fun, grad, 10, 100, 1E-6)\n",
    "errorRelativo_grad(fun, grad, 10, 100, 1E-7)\n",
    "errorRelativo_grad(fun, grad, 10, 100, 1E-8)\n",
    "errorRelativo_hess(fun, hess, 10, 100, 1E-5)\n",
    "errorRelativo_hess(fun, hess, 10, 100, 1E-6)\n",
    "errorRelativo_hess(fun, hess, 10, 100, 1E-7)\n",
    "errorRelativo_hess(fun, hess, 10, 100, 1E-8)"
   ]
  },
  {
   "cell_type": "markdown",
   "id": "cfb59802-324b-4a9e-862e-f1bd0eab8f24",
   "metadata": {},
   "source": [
    "### Sistema cuadratico 2"
   ]
  },
  {
   "cell_type": "code",
   "execution_count": 182,
   "id": "ebb2b7c9-0dc3-4ea0-bbd4-a5ae6ee07fe5",
   "metadata": {},
   "outputs": [
    {
     "name": "stdout",
     "output_type": "stream",
     "text": [
      "\n",
      "Errores relativos en el cálculo del gradiente:\n",
      "Min: 1.15e-06 Media: 3.56e-06 Max: 1.30e-05\n",
      "\n",
      "Errores relativos en el cálculo del gradiente:\n",
      "Min: 1.20e-07 Media: 3.58e-07 Max: 9.31e-07\n",
      "\n",
      "Errores relativos en el cálculo del gradiente:\n",
      "Min: 9.60e-09 Media: 3.73e-08 Max: 1.24e-07\n",
      "\n",
      "Errores relativos en el cálculo del gradiente:\n",
      "Min: 1.04e-08 Media: 4.50e-08 Max: 2.06e-07\n",
      "\n",
      "Errores relativos en el cálculo de la hessiana:\n",
      "Min: 2.17e-06 Media: 2.06e-05 Max: 7.71e-05\n",
      "\n",
      "Errores relativos en el cálculo de la hessiana:\n",
      "Min: 2.29e-04 Media: 2.32e-03 Max: 7.64e-03\n",
      "\n",
      "Errores relativos en el cálculo de la hessiana:\n",
      "Min: 5.25e-02 Media: 2.29e-01 Max: 8.65e-01\n",
      "\n",
      "Errores relativos en el cálculo de la hessiana:\n",
      "Min: 8.91e-01 Media: 9.94e-01 Max: 1.04e+00\n"
     ]
    }
   ],
   "source": [
    "n = 10\n",
    "fun = fsis2\n",
    "grad = gradsis2\n",
    "hess =  hesssis2\n",
    "errorRelativo_grad(fun, grad, 10, 100, 1E-5)\n",
    "errorRelativo_grad(fun, grad, 10, 100, 1E-6)\n",
    "errorRelativo_grad(fun, grad, 10, 100, 1E-7)\n",
    "errorRelativo_grad(fun, grad, 10, 100, 1E-8)\n",
    "errorRelativo_hess(fun, hess, 10, 100, 1E-5)\n",
    "errorRelativo_hess(fun, hess, 10, 100, 1E-6)\n",
    "errorRelativo_hess(fun, hess, 10, 100, 1E-7)\n",
    "errorRelativo_hess(fun, hess, 10, 100, 1E-8)"
   ]
  },
  {
   "cell_type": "code",
   "execution_count": 183,
   "id": "88fdb2e7-4cdb-407b-8382-2e33d67fe71d",
   "metadata": {},
   "outputs": [
    {
     "name": "stdout",
     "output_type": "stream",
     "text": [
      "\n",
      "Errores relativos en el cálculo del gradiente:\n",
      "Min: 1.33e-06 Media: 3.40e-06 Max: 1.23e-05\n",
      "\n",
      "Errores relativos en el cálculo del gradiente:\n",
      "Min: 1.46e-07 Media: 4.11e-07 Max: 1.43e-06\n",
      "\n",
      "Errores relativos en el cálculo del gradiente:\n",
      "Min: 9.26e-09 Media: 3.65e-08 Max: 1.15e-07\n",
      "\n",
      "Errores relativos en el cálculo del gradiente:\n",
      "Min: 6.58e-09 Media: 4.43e-08 Max: 1.61e-07\n",
      "\n",
      "Errores relativos en el cálculo de la hessiana:\n",
      "Min: 3.00e-06 Media: 2.08e-05 Max: 6.21e-05\n",
      "\n",
      "Errores relativos en el cálculo de la hessiana:\n",
      "Min: 4.61e-04 Media: 2.26e-03 Max: 8.41e-03\n",
      "\n",
      "Errores relativos en el cálculo de la hessiana:\n",
      "Min: 3.95e-02 Media: 2.03e-01 Max: 5.80e-01\n",
      "\n",
      "Errores relativos en el cálculo de la hessiana:\n",
      "Min: 9.07e-01 Media: 9.95e-01 Max: 1.13e+00\n"
     ]
    }
   ],
   "source": [
    "n = 100\n",
    "fun = fsis2\n",
    "grad = gradsis2\n",
    "hess =  hesssis2\n",
    "errorRelativo_grad(fun, grad, 10, 100, 1E-5)\n",
    "errorRelativo_grad(fun, grad, 10, 100, 1E-6)\n",
    "errorRelativo_grad(fun, grad, 10, 100, 1E-7)\n",
    "errorRelativo_grad(fun, grad, 10, 100, 1E-8)\n",
    "errorRelativo_hess(fun, hess, 10, 100, 1E-5)\n",
    "errorRelativo_hess(fun, hess, 10, 100, 1E-6)\n",
    "errorRelativo_hess(fun, hess, 10, 100, 1E-7)\n",
    "errorRelativo_hess(fun, hess, 10, 100, 1E-8)"
   ]
  },
  {
   "cell_type": "code",
   "execution_count": 184,
   "id": "46ff4fce-343f-4dc6-a3f2-ce35f9a33b09",
   "metadata": {},
   "outputs": [
    {
     "name": "stdout",
     "output_type": "stream",
     "text": [
      "\n",
      "Errores relativos en el cálculo del gradiente:\n",
      "Min: 1.35e-06 Media: 3.75e-06 Max: 1.54e-05\n",
      "\n",
      "Errores relativos en el cálculo del gradiente:\n",
      "Min: 1.42e-07 Media: 3.63e-07 Max: 8.46e-07\n",
      "\n",
      "Errores relativos en el cálculo del gradiente:\n",
      "Min: 1.17e-08 Media: 3.54e-08 Max: 1.05e-07\n",
      "\n",
      "Errores relativos en el cálculo del gradiente:\n",
      "Min: 1.17e-08 Media: 4.68e-08 Max: 1.66e-07\n",
      "\n",
      "Errores relativos en el cálculo de la hessiana:\n",
      "Min: 1.83e-06 Media: 2.12e-05 Max: 7.36e-05\n",
      "\n",
      "Errores relativos en el cálculo de la hessiana:\n",
      "Min: 3.78e-04 Media: 2.47e-03 Max: 8.65e-03\n",
      "\n",
      "Errores relativos en el cálculo de la hessiana:\n",
      "Min: 4.50e-02 Media: 2.10e-01 Max: 7.74e-01\n",
      "\n",
      "Errores relativos en el cálculo de la hessiana:\n",
      "Min: 8.93e-01 Media: 9.91e-01 Max: 1.07e+00\n"
     ]
    }
   ],
   "source": [
    "n = 1000\n",
    "fun = fsis2\n",
    "grad = gradsis2\n",
    "hess =  hesssis2\n",
    "errorRelativo_grad(fun, grad, 10, 100, 1E-5)\n",
    "errorRelativo_grad(fun, grad, 10, 100, 1E-6)\n",
    "errorRelativo_grad(fun, grad, 10, 100, 1E-7)\n",
    "errorRelativo_grad(fun, grad, 10, 100, 1E-8)\n",
    "errorRelativo_hess(fun, hess, 10, 100, 1E-5)\n",
    "errorRelativo_hess(fun, hess, 10, 100, 1E-6)\n",
    "errorRelativo_hess(fun, hess, 10, 100, 1E-7)\n",
    "errorRelativo_hess(fun, hess, 10, 100, 1E-8)"
   ]
  },
  {
   "cell_type": "markdown",
   "id": "472b6ca4-3db6-4387-89b3-739e41bce570",
   "metadata": {},
   "source": [
    "### Funcion de Beale"
   ]
  },
  {
   "cell_type": "code",
   "execution_count": 192,
   "id": "52b73287-c6b4-45a6-8b44-ebc78bd79ba8",
   "metadata": {},
   "outputs": [
    {
     "name": "stdout",
     "output_type": "stream",
     "text": [
      "\n",
      "Errores relativos en el cálculo del gradiente:\n",
      "Min: 2.22e-07 Media: 9.73e-06 Max: 9.54e-05\n",
      "\n",
      "Errores relativos en el cálculo del gradiente:\n",
      "Min: 5.87e-08 Media: 2.09e-06 Max: 1.13e-04\n",
      "\n",
      "Errores relativos en el cálculo del gradiente:\n",
      "Min: 1.03e-08 Media: 1.05e-07 Max: 1.40e-06\n",
      "\n",
      "Errores relativos en el cálculo del gradiente:\n",
      "Min: 1.52e-09 Media: 2.36e-08 Max: 2.60e-07\n",
      "\n",
      "Errores relativos en el cálculo de la hessiana:\n",
      "Min: 2.08e-06 Media: 2.08e-05 Max: 7.24e-05\n",
      "\n",
      "Errores relativos en el cálculo de la hessiana:\n",
      "Min: 7.71e-06 Media: 2.64e-04 Max: 1.55e-03\n",
      "\n",
      "Errores relativos en el cálculo de la hessiana:\n",
      "Min: 6.82e-04 Media: 3.36e-02 Max: 2.05e-01\n",
      "\n",
      "Errores relativos en el cálculo de la hessiana:\n",
      "Min: 4.76e-02 Media: inf Max: inf\n"
     ]
    },
    {
     "name": "stderr",
     "output_type": "stream",
     "text": [
      "C:\\Users\\chiko\\AppData\\Local\\Temp\\ipykernel_19692\\2964580297.py:18: RuntimeWarning: divide by zero encountered in scalar divide\n",
      "  ve[it] = np.linalg.norm(g0-ga)/np.linalg.norm(ga)\n"
     ]
    }
   ],
   "source": [
    "n = 2\n",
    "fun = beale\n",
    "grad = beale_grad\n",
    "hess =  beale_hess\n",
    "errorRelativo_grad(fun, grad, n, 100, 1E-5)\n",
    "errorRelativo_grad(fun, grad, n, 100, 1E-6)\n",
    "errorRelativo_grad(fun, grad, n, 100, 1E-7)\n",
    "errorRelativo_grad(fun, grad, n, 100, 1E-8)\n",
    "errorRelativo_hess(fun, hess, n, 100, 1E-5)\n",
    "errorRelativo_hess(fun, hess, n, 100, 1E-6)\n",
    "errorRelativo_hess(fun, hess, n, 100, 1E-7)\n",
    "errorRelativo_hess(fun, hess, n, 100, 1E-8)"
   ]
  },
  {
   "cell_type": "markdown",
   "id": "0f4cd98b-8b6a-4749-87e2-f461fbd40115",
   "metadata": {},
   "source": [
    "### Funcion de Himmelblau"
   ]
  },
  {
   "cell_type": "code",
   "execution_count": 193,
   "id": "d53a4849-72c6-4980-ace5-f177cb87c6c1",
   "metadata": {},
   "outputs": [
    {
     "name": "stdout",
     "output_type": "stream",
     "text": [
      "\n",
      "Errores relativos en el cálculo del gradiente:\n",
      "Min: 7.86e-07 Media: 7.58e-06 Max: 7.42e-05\n",
      "\n",
      "Errores relativos en el cálculo del gradiente:\n",
      "Min: 3.64e-08 Media: 8.04e-07 Max: 1.08e-05\n",
      "\n",
      "Errores relativos en el cálculo del gradiente:\n",
      "Min: 7.50e-09 Media: 6.66e-08 Max: 4.30e-07\n",
      "\n",
      "Errores relativos en el cálculo del gradiente:\n",
      "Min: 8.50e-09 Media: 8.10e-08 Max: 3.43e-07\n",
      "\n",
      "Errores relativos en el cálculo de la hessiana:\n",
      "Min: 3.44e-06 Media: 1.97e-05 Max: 7.80e-05\n",
      "\n",
      "Errores relativos en el cálculo de la hessiana:\n",
      "Min: 2.99e-04 Media: 1.65e-03 Max: 3.90e-03\n",
      "\n",
      "Errores relativos en el cálculo de la hessiana:\n",
      "Min: 1.77e-02 Media: 1.64e-01 Max: 8.52e-01\n",
      "\n",
      "Errores relativos en el cálculo de la hessiana:\n",
      "Min: 8.05e-01 Media: inf Max: inf\n"
     ]
    },
    {
     "name": "stderr",
     "output_type": "stream",
     "text": [
      "C:\\Users\\chiko\\AppData\\Local\\Temp\\ipykernel_19692\\2964580297.py:18: RuntimeWarning: divide by zero encountered in scalar divide\n",
      "  ve[it] = np.linalg.norm(g0-ga)/np.linalg.norm(ga)\n"
     ]
    }
   ],
   "source": [
    "n = 2\n",
    "fun = himmelblau\n",
    "grad = himmelblau_grad\n",
    "hess =  himmelblau_hess\n",
    "errorRelativo_grad(fun, grad, n, 100, 1E-5)\n",
    "errorRelativo_grad(fun, grad, n, 100, 1E-6)\n",
    "errorRelativo_grad(fun, grad, n, 100, 1E-7)\n",
    "errorRelativo_grad(fun, grad, n, 100, 1E-8)\n",
    "errorRelativo_hess(fun, hess, n, 100, 1E-5)\n",
    "errorRelativo_hess(fun, hess, n, 100, 1E-6)\n",
    "errorRelativo_hess(fun, hess, n, 100, 1E-7)\n",
    "errorRelativo_hess(fun, hess, n, 100, 1E-8)"
   ]
  },
  {
   "cell_type": "markdown",
   "id": "3eac706a-393c-4eaa-8ff9-e9f092f569aa",
   "metadata": {},
   "source": [
    "### Funcion de Rosenbrock"
   ]
  },
  {
   "cell_type": "code",
   "execution_count": 195,
   "id": "b1cba5e8-7df0-4594-8295-3f61a2bb78f7",
   "metadata": {},
   "outputs": [
    {
     "name": "stdout",
     "output_type": "stream",
     "text": [
      "\n",
      "Errores relativos en el cálculo del gradiente:\n",
      "Min: 3.02e-06 Media: 2.93e-05 Max: 5.43e-04\n",
      "\n",
      "Errores relativos en el cálculo del gradiente:\n",
      "Min: 3.24e-07 Media: 2.30e-06 Max: 5.81e-05\n",
      "\n",
      "Errores relativos en el cálculo del gradiente:\n",
      "Min: 3.88e-08 Media: 1.72e-07 Max: 1.56e-06\n",
      "\n",
      "Errores relativos en el cálculo del gradiente:\n",
      "Min: 9.14e-10 Media: 2.66e-08 Max: 4.86e-07\n",
      "\n",
      "Errores relativos en el cálculo de la hessiana:\n",
      "Min: 3.09e-06 Media: 1.64e-05 Max: 3.70e-05\n",
      "\n",
      "Errores relativos en el cálculo de la hessiana:\n",
      "Min: 1.64e-06 Media: 8.39e-05 Max: 1.02e-03\n",
      "\n",
      "Errores relativos en el cálculo de la hessiana:\n",
      "Min: 8.43e-05 Media: 8.22e-03 Max: 4.60e-02\n",
      "\n",
      "Errores relativos en el cálculo de la hessiana:\n",
      "Min: 3.34e-03 Media: inf Max: inf\n"
     ]
    },
    {
     "name": "stderr",
     "output_type": "stream",
     "text": [
      "C:\\Users\\chiko\\AppData\\Local\\Temp\\ipykernel_19692\\2964580297.py:18: RuntimeWarning: divide by zero encountered in scalar divide\n",
      "  ve[it] = np.linalg.norm(g0-ga)/np.linalg.norm(ga)\n"
     ]
    }
   ],
   "source": [
    "n = 2\n",
    "fun = rosenbrock\n",
    "grad = rosenbrock_grad\n",
    "hess =  rosenbrock_hess\n",
    "errorRelativo_grad(fun, grad, n, 100, 1E-5)\n",
    "errorRelativo_grad(fun, grad, n, 100, 1E-6)\n",
    "errorRelativo_grad(fun, grad, n, 100, 1E-7)\n",
    "errorRelativo_grad(fun, grad, n, 100, 1E-8)\n",
    "errorRelativo_hess(fun, hess, n, 100, 1E-5)\n",
    "errorRelativo_hess(fun, hess, n, 100, 1E-6)\n",
    "errorRelativo_hess(fun, hess, n, 100, 1E-7)\n",
    "errorRelativo_hess(fun, hess, n, 100, 1E-8)"
   ]
  },
  {
   "cell_type": "code",
   "execution_count": 196,
   "id": "fd3c81df-92f6-4ea3-a41a-db099fe42f6e",
   "metadata": {},
   "outputs": [
    {
     "name": "stdout",
     "output_type": "stream",
     "text": [
      "\n",
      "Errores relativos en el cálculo del gradiente:\n",
      "Min: 4.07e-06 Media: 7.54e-06 Max: 1.70e-05\n",
      "\n",
      "Errores relativos en el cálculo del gradiente:\n",
      "Min: 4.49e-07 Media: 7.31e-07 Max: 1.17e-06\n",
      "\n",
      "Errores relativos en el cálculo del gradiente:\n",
      "Min: 3.92e-08 Media: 7.38e-08 Max: 1.17e-07\n",
      "\n",
      "Errores relativos en el cálculo del gradiente:\n",
      "Min: 1.79e-08 Media: 4.52e-08 Max: 1.42e-07\n",
      "\n",
      "Errores relativos en el cálculo de la hessiana:\n",
      "Min: 1.17e-05 Media: 1.76e-05 Max: 3.56e-05\n",
      "\n",
      "Errores relativos en el cálculo de la hessiana:\n",
      "Min: 4.30e-04 Media: 1.29e-03 Max: 4.43e-03\n",
      "\n",
      "Errores relativos en el cálculo de la hessiana:\n",
      "Min: 4.15e-02 Media: 1.30e-01 Max: 3.18e-01\n",
      "\n",
      "Errores relativos en el cálculo de la hessiana:\n",
      "Min: 9.42e-01 Media: 9.94e-01 Max: 1.04e+00\n"
     ]
    }
   ],
   "source": [
    "n = 20\n",
    "fun = rosenbrock\n",
    "grad = rosenbrock_grad\n",
    "hess =  rosenbrock_hess\n",
    "errorRelativo_grad(fun, grad, n, 100, 1E-5)\n",
    "errorRelativo_grad(fun, grad, n, 100, 1E-6)\n",
    "errorRelativo_grad(fun, grad, n, 100, 1E-7)\n",
    "errorRelativo_grad(fun, grad, n, 100, 1E-8)\n",
    "errorRelativo_hess(fun, hess, n, 100, 1E-5)\n",
    "errorRelativo_hess(fun, hess, n, 100, 1E-6)\n",
    "errorRelativo_hess(fun, hess, n, 100, 1E-7)\n",
    "errorRelativo_hess(fun, hess, n, 100, 1E-8)"
   ]
  },
  {
   "cell_type": "code",
   "execution_count": 197,
   "id": "2ef9de6b-75f3-46d1-a71c-35c92e98d179",
   "metadata": {},
   "outputs": [
    {
     "name": "stdout",
     "output_type": "stream",
     "text": [
      "\n",
      "Errores relativos en el cálculo del gradiente:\n",
      "Min: 4.73e-06 Media: 7.22e-06 Max: 1.20e-05\n",
      "\n",
      "Errores relativos en el cálculo del gradiente:\n",
      "Min: 3.79e-07 Media: 6.79e-07 Max: 1.03e-06\n",
      "\n",
      "Errores relativos en el cálculo del gradiente:\n",
      "Min: 4.45e-08 Media: 7.08e-08 Max: 9.77e-08\n",
      "\n",
      "Errores relativos en el cálculo del gradiente:\n",
      "Min: 3.85e-08 Media: 8.06e-08 Max: 1.70e-07\n",
      "\n",
      "Errores relativos en el cálculo de la hessiana:\n",
      "Min: 1.56e-05 Media: 3.60e-05 Max: 1.01e-04\n",
      "\n",
      "Errores relativos en el cálculo de la hessiana:\n",
      "Min: 9.09e-04 Media: 3.52e-03 Max: 1.16e-02\n",
      "\n",
      "Errores relativos en el cálculo de la hessiana:\n",
      "Min: 6.95e-02 Media: 3.01e-01 Max: 6.85e-01\n",
      "\n",
      "Errores relativos en el cálculo de la hessiana:\n",
      "Min: 9.83e-01 Media: 9.99e-01 Max: 1.02e+00\n"
     ]
    }
   ],
   "source": [
    "n = 40\n",
    "fun = rosenbrock\n",
    "grad = rosenbrock_grad\n",
    "hess =  rosenbrock_hess\n",
    "errorRelativo_grad(fun, grad, n, 100, 1E-5)\n",
    "errorRelativo_grad(fun, grad, n, 100, 1E-6)\n",
    "errorRelativo_grad(fun, grad, n, 100, 1E-7)\n",
    "errorRelativo_grad(fun, grad, n, 100, 1E-8)\n",
    "errorRelativo_hess(fun, hess, n, 100, 1E-5)\n",
    "errorRelativo_hess(fun, hess, n, 100, 1E-6)\n",
    "errorRelativo_hess(fun, hess, n, 100, 1E-7)\n",
    "errorRelativo_hess(fun, hess, n, 100, 1E-8)"
   ]
  },
  {
   "cell_type": "markdown",
   "id": "f14e40fd-03ec-4af9-a0a2-3cfd5f352318",
   "metadata": {},
   "source": [
    "## Comentario"
   ]
  },
  {
   "cell_type": "markdown",
   "id": "3efddd92-a146-4260-8746-4c3d4c255573",
   "metadata": {},
   "source": [
    "Bien, se puede apreciar de manera general que para el calculo del *gradiente* obtiene mejores resultados mientras el tamanio de la diferencia es menor, mientras que para el caso de la *hessiana*, tiene un comportamiento contrario a lo anterior, y parece ser que los mejores resultados se obtienen con el tamanio de diferencia mas grande."
   ]
  },
  {
   "cell_type": "markdown",
   "id": "c40f67db-2b4f-474f-a593-3975b3486fdf",
   "metadata": {},
   "source": [
    "# Articulo de Proyecto Final"
   ]
  },
  {
   "cell_type": "markdown",
   "id": "74274979-6fb3-46be-8ad2-ff48a2e3f182",
   "metadata": {},
   "source": [
    "## Miembros y programa academico\n",
    "Diaz Soto Jairo Saul - Maestria en Ciencias Computacionales\n",
    "\n",
    "\n",
    "De Leon Carmona Jose Luis - Maestria en Ciencias Computacionales"
   ]
  },
  {
   "cell_type": "markdown",
   "id": "fdc12f6e-8984-41fe-9ca4-1cf55facd7a1",
   "metadata": {},
   "source": [
    "## Articulo\n",
    "A minibatch stochastic Quasi-Newton method adapted for nonconvex deep learning problems."
   ]
  }
 ],
 "metadata": {
  "kernelspec": {
   "display_name": "Python 3 (ipykernel)",
   "language": "python",
   "name": "python3"
  },
  "language_info": {
   "codemirror_mode": {
    "name": "ipython",
    "version": 3
   },
   "file_extension": ".py",
   "mimetype": "text/x-python",
   "name": "python",
   "nbconvert_exporter": "python",
   "pygments_lexer": "ipython3",
   "version": "3.11.7"
  }
 },
 "nbformat": 4,
 "nbformat_minor": 5
}
